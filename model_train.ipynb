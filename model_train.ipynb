{
 "cells": [
  {
   "cell_type": "code",
   "execution_count": 1,
   "id": "5aab43aa",
   "metadata": {},
   "outputs": [],
   "source": [
    "import pandas as pd\n",
    "import numpy as np\n",
    "from sklearn.feature_extraction.text import CountVectorizer\n",
    "import pickle\n",
    "import matplotlib.pyplot as plt\n",
    "import seaborn as sns"
   ]
  },
  {
   "cell_type": "markdown",
   "id": "f197c130",
   "metadata": {},
   "source": [
    "#### Import data from csv"
   ]
  },
  {
   "cell_type": "code",
   "execution_count": 3,
   "id": "43010433",
   "metadata": {},
   "outputs": [
    {
     "data": {
      "text/html": [
       "<div>\n",
       "<style scoped>\n",
       "    .dataframe tbody tr th:only-of-type {\n",
       "        vertical-align: middle;\n",
       "    }\n",
       "\n",
       "    .dataframe tbody tr th {\n",
       "        vertical-align: top;\n",
       "    }\n",
       "\n",
       "    .dataframe thead th {\n",
       "        text-align: right;\n",
       "    }\n",
       "</style>\n",
       "<table border=\"1\" class=\"dataframe\">\n",
       "  <thead>\n",
       "    <tr style=\"text-align: right;\">\n",
       "      <th></th>\n",
       "      <th>id</th>\n",
       "      <th>productgroup</th>\n",
       "      <th>main_text</th>\n",
       "      <th>add_text</th>\n",
       "      <th>manufacturer</th>\n",
       "    </tr>\n",
       "  </thead>\n",
       "  <tbody>\n",
       "    <tr>\n",
       "      <th>0</th>\n",
       "      <td>26229701</td>\n",
       "      <td>WASHINGMACHINES</td>\n",
       "      <td>WAQ284E25</td>\n",
       "      <td>WASCHMASCHINEN</td>\n",
       "      <td>BOSCH</td>\n",
       "    </tr>\n",
       "    <tr>\n",
       "      <th>1</th>\n",
       "      <td>16576864</td>\n",
       "      <td>USB MEMORY</td>\n",
       "      <td>LEEF IBRIDGE MOBILE SPEICHERERWEITERUNG FUER I...</td>\n",
       "      <td>PC__1100COMPUTINGMEMORY__1110MEMORYCARDS</td>\n",
       "      <td>LEEF</td>\n",
       "    </tr>\n",
       "    <tr>\n",
       "      <th>2</th>\n",
       "      <td>26155618</td>\n",
       "      <td>USB MEMORY</td>\n",
       "      <td>SANDISK 32GB ULTRA FIT USB 3.0</td>\n",
       "      <td>W1370</td>\n",
       "      <td>NaN</td>\n",
       "    </tr>\n",
       "    <tr>\n",
       "      <th>3</th>\n",
       "      <td>25646138</td>\n",
       "      <td>BICYCLES</td>\n",
       "      <td>HOLLANDRAD DAMEN 28 ZOLL TUSSAUD 3-GAENGE RH 5...</td>\n",
       "      <td>FAHRRAEDER // SPORTFAHRRAEDER</td>\n",
       "      <td>SCHALOW &amp; KROH GMBH</td>\n",
       "    </tr>\n",
       "    <tr>\n",
       "      <th>4</th>\n",
       "      <td>19764614</td>\n",
       "      <td>BICYCLES</td>\n",
       "      <td>DAHON SPEED D7 SCHWARZ ? FALTRAD</td>\n",
       "      <td>SPORTS__30000WHEELED__30070BIKES</td>\n",
       "      <td>DAHON</td>\n",
       "    </tr>\n",
       "    <tr>\n",
       "      <th>...</th>\n",
       "      <td>...</td>\n",
       "      <td>...</td>\n",
       "      <td>...</td>\n",
       "      <td>...</td>\n",
       "      <td>...</td>\n",
       "    </tr>\n",
       "    <tr>\n",
       "      <th>7995</th>\n",
       "      <td>61028716</td>\n",
       "      <td>BICYCLES</td>\n",
       "      <td>TOPSY KINDERRAD 12 1/2 POLARWEISS O O O  419640</td>\n",
       "      <td>H006W0792344__WERKZEUG_AUTO/FAHRRAD_FAHRRAEDER</td>\n",
       "      <td>SI-ZWEIRAD-VERTRIEBS GMBH</td>\n",
       "    </tr>\n",
       "    <tr>\n",
       "      <th>7996</th>\n",
       "      <td>37734138</td>\n",
       "      <td>BICYCLES</td>\n",
       "      <td>CREME ECHO SOLO 16-SPEED WHITE</td>\n",
       "      <td>FAHRRAEDER&gt;&gt;RENNRAEDER&gt;&gt;RENNRAEDER</td>\n",
       "      <td>CREME</td>\n",
       "    </tr>\n",
       "    <tr>\n",
       "      <th>7997</th>\n",
       "      <td>17891755</td>\n",
       "      <td>CONTACT LENSES</td>\n",
       "      <td>ACUVUE 1-DAY MOIST TAGESLINSEN WEICH, 30 STUEC...</td>\n",
       "      <td>HEALTH&amp;PERSONALCARE__3100OPTICS__3101SPHERICCO...</td>\n",
       "      <td>JOHNSON &amp; JOHNSON</td>\n",
       "    </tr>\n",
       "    <tr>\n",
       "      <th>7998</th>\n",
       "      <td>42298563</td>\n",
       "      <td>BICYCLES</td>\n",
       "      <td>UNIVEGA TERRENO 1.0 HE MATTBLAUGRAU 45 CM</td>\n",
       "      <td>1_7_4</td>\n",
       "      <td>UNIVEGA</td>\n",
       "    </tr>\n",
       "    <tr>\n",
       "      <th>7999</th>\n",
       "      <td>26300286</td>\n",
       "      <td>WASHINGMACHINES</td>\n",
       "      <td>LAVAMAT 63479 FL A+++ WASCHVOLLAUTOMAT</td>\n",
       "      <td>WASCHMASCHINEN</td>\n",
       "      <td>AEG</td>\n",
       "    </tr>\n",
       "  </tbody>\n",
       "</table>\n",
       "<p>8000 rows × 5 columns</p>\n",
       "</div>"
      ],
      "text/plain": [
       "            id     productgroup  \\\n",
       "0     26229701  WASHINGMACHINES   \n",
       "1     16576864       USB MEMORY   \n",
       "2     26155618       USB MEMORY   \n",
       "3     25646138         BICYCLES   \n",
       "4     19764614         BICYCLES   \n",
       "...        ...              ...   \n",
       "7995  61028716         BICYCLES   \n",
       "7996  37734138         BICYCLES   \n",
       "7997  17891755   CONTACT LENSES   \n",
       "7998  42298563         BICYCLES   \n",
       "7999  26300286  WASHINGMACHINES   \n",
       "\n",
       "                                              main_text  \\\n",
       "0                                             WAQ284E25   \n",
       "1     LEEF IBRIDGE MOBILE SPEICHERERWEITERUNG FUER I...   \n",
       "2                        SANDISK 32GB ULTRA FIT USB 3.0   \n",
       "3     HOLLANDRAD DAMEN 28 ZOLL TUSSAUD 3-GAENGE RH 5...   \n",
       "4                      DAHON SPEED D7 SCHWARZ ? FALTRAD   \n",
       "...                                                 ...   \n",
       "7995    TOPSY KINDERRAD 12 1/2 POLARWEISS O O O  419640   \n",
       "7996                     CREME ECHO SOLO 16-SPEED WHITE   \n",
       "7997  ACUVUE 1-DAY MOIST TAGESLINSEN WEICH, 30 STUEC...   \n",
       "7998          UNIVEGA TERRENO 1.0 HE MATTBLAUGRAU 45 CM   \n",
       "7999             LAVAMAT 63479 FL A+++ WASCHVOLLAUTOMAT   \n",
       "\n",
       "                                               add_text  \\\n",
       "0                                        WASCHMASCHINEN   \n",
       "1              PC__1100COMPUTINGMEMORY__1110MEMORYCARDS   \n",
       "2                                                 W1370   \n",
       "3                         FAHRRAEDER // SPORTFAHRRAEDER   \n",
       "4                      SPORTS__30000WHEELED__30070BIKES   \n",
       "...                                                 ...   \n",
       "7995     H006W0792344__WERKZEUG_AUTO/FAHRRAD_FAHRRAEDER   \n",
       "7996                 FAHRRAEDER>>RENNRAEDER>>RENNRAEDER   \n",
       "7997  HEALTH&PERSONALCARE__3100OPTICS__3101SPHERICCO...   \n",
       "7998                                              1_7_4   \n",
       "7999                                     WASCHMASCHINEN   \n",
       "\n",
       "                   manufacturer  \n",
       "0                         BOSCH  \n",
       "1                          LEEF  \n",
       "2                           NaN  \n",
       "3           SCHALOW & KROH GMBH  \n",
       "4                         DAHON  \n",
       "...                         ...  \n",
       "7995  SI-ZWEIRAD-VERTRIEBS GMBH  \n",
       "7996                      CREME  \n",
       "7997          JOHNSON & JOHNSON  \n",
       "7998                    UNIVEGA  \n",
       "7999                        AEG  \n",
       "\n",
       "[8000 rows x 5 columns]"
      ]
     },
     "execution_count": 3,
     "metadata": {},
     "output_type": "execute_result"
    }
   ],
   "source": [
    "data= pd.read_csv(\"C:/Users/umair/Downloads/MLE_Task_GfK/testset_C.csv\", sep = ';')\n",
    "data\n"
   ]
  },
  {
   "cell_type": "markdown",
   "id": "76b8fe30",
   "metadata": {},
   "source": [
    "#### Preprocessing and data overview"
   ]
  },
  {
   "cell_type": "code",
   "execution_count": 4,
   "id": "a8b5d7d1",
   "metadata": {},
   "outputs": [],
   "source": [
    "data = data.rename(columns={\"productgroup\": \"product_group\"})\n"
   ]
  },
  {
   "cell_type": "code",
   "execution_count": 5,
   "id": "93261289",
   "metadata": {},
   "outputs": [
    {
     "data": {
      "text/html": [
       "<div>\n",
       "<style scoped>\n",
       "    .dataframe tbody tr th:only-of-type {\n",
       "        vertical-align: middle;\n",
       "    }\n",
       "\n",
       "    .dataframe tbody tr th {\n",
       "        vertical-align: top;\n",
       "    }\n",
       "\n",
       "    .dataframe thead th {\n",
       "        text-align: right;\n",
       "    }\n",
       "</style>\n",
       "<table border=\"1\" class=\"dataframe\">\n",
       "  <thead>\n",
       "    <tr style=\"text-align: right;\">\n",
       "      <th></th>\n",
       "      <th>product_group</th>\n",
       "    </tr>\n",
       "  </thead>\n",
       "  <tbody>\n",
       "    <tr>\n",
       "      <th>WASHINGMACHINES</th>\n",
       "      <td>2000</td>\n",
       "    </tr>\n",
       "    <tr>\n",
       "      <th>USB MEMORY</th>\n",
       "      <td>2000</td>\n",
       "    </tr>\n",
       "    <tr>\n",
       "      <th>BICYCLES</th>\n",
       "      <td>2000</td>\n",
       "    </tr>\n",
       "    <tr>\n",
       "      <th>CONTACT LENSES</th>\n",
       "      <td>2000</td>\n",
       "    </tr>\n",
       "  </tbody>\n",
       "</table>\n",
       "</div>"
      ],
      "text/plain": [
       "                 product_group\n",
       "WASHINGMACHINES           2000\n",
       "USB MEMORY                2000\n",
       "BICYCLES                  2000\n",
       "CONTACT LENSES            2000"
      ]
     },
     "execution_count": 5,
     "metadata": {},
     "output_type": "execute_result"
    }
   ],
   "source": [
    "data.product_group.value_counts().to_frame()\n"
   ]
  },
  {
   "cell_type": "code",
   "execution_count": 7,
   "id": "f0016b66",
   "metadata": {},
   "outputs": [
    {
     "data": {
      "image/png": "[encoded data removed]",
      "text/plain": [
       "<Figure size 720x432 with 1 Axes>"
      ]
     },
     "metadata": {
      "needs_background": "light"
     },
     "output_type": "display_data"
    }
   ],
   "source": [
    "category_dist = data['product_group'].value_counts()\n",
    "\n",
    "plt.figure(figsize=(10,6))\n",
    "my_colors = ['g', 'r', 'b', 'k']\n",
    "category_dist.plot(kind='bar', color=my_colors)\n",
    "plt.grid()\n",
    "plt.xlabel(\"Groups\")\n",
    "plt.ylabel(\"Datapoints Per Groups\")\n",
    "plt.title(\"Distribution of Datapoints Per Group\")\n",
    "plt.show()"
   ]
  },
  {
   "cell_type": "code",
   "execution_count": 9,
   "id": "7999b810",
   "metadata": {},
   "outputs": [
    {
     "data": {
      "text/plain": [
       "2"
      ]
     },
     "execution_count": 9,
     "metadata": {},
     "output_type": "execute_result"
    }
   ],
   "source": [
    "data['main_text'].isnull().sum()"
   ]
  },
  {
   "cell_type": "code",
   "execution_count": 10,
   "id": "2b26535e",
   "metadata": {},
   "outputs": [
    {
     "data": {
      "text/plain": [
       "0"
      ]
     },
     "execution_count": 10,
     "metadata": {},
     "output_type": "execute_result"
    }
   ],
   "source": [
    "data['add_text'].isnull().sum()\n"
   ]
  },
  {
   "cell_type": "code",
   "execution_count": 11,
   "id": "f1dba174",
   "metadata": {},
   "outputs": [
    {
     "data": {
      "text/plain": [
       "0"
      ]
     },
     "execution_count": 11,
     "metadata": {},
     "output_type": "execute_result"
    }
   ],
   "source": [
    "data['product_group'].isnull().sum()\n"
   ]
  },
  {
   "cell_type": "code",
   "execution_count": 12,
   "id": "3925dd4d",
   "metadata": {},
   "outputs": [
    {
     "data": {
      "text/html": [
       "<div>\n",
       "<style scoped>\n",
       "    .dataframe tbody tr th:only-of-type {\n",
       "        vertical-align: middle;\n",
       "    }\n",
       "\n",
       "    .dataframe tbody tr th {\n",
       "        vertical-align: top;\n",
       "    }\n",
       "\n",
       "    .dataframe thead th {\n",
       "        text-align: right;\n",
       "    }\n",
       "</style>\n",
       "<table border=\"1\" class=\"dataframe\">\n",
       "  <thead>\n",
       "    <tr style=\"text-align: right;\">\n",
       "      <th></th>\n",
       "      <th>id</th>\n",
       "      <th>product_group</th>\n",
       "      <th>main_text</th>\n",
       "      <th>add_text</th>\n",
       "      <th>manufacturer</th>\n",
       "    </tr>\n",
       "  </thead>\n",
       "  <tbody>\n",
       "    <tr>\n",
       "      <th>5843</th>\n",
       "      <td>36969666</td>\n",
       "      <td>WASHINGMACHINES</td>\n",
       "      <td>NaN</td>\n",
       "      <td>UNASSIGNED</td>\n",
       "      <td>NaN</td>\n",
       "    </tr>\n",
       "    <tr>\n",
       "      <th>6901</th>\n",
       "      <td>25724126</td>\n",
       "      <td>USB MEMORY</td>\n",
       "      <td>NaN</td>\n",
       "      <td>SPEICHERKARTEN-&gt;USB STICK-&gt;</td>\n",
       "      <td>TRANSCEND</td>\n",
       "    </tr>\n",
       "  </tbody>\n",
       "</table>\n",
       "</div>"
      ],
      "text/plain": [
       "            id    product_group main_text                     add_text  \\\n",
       "5843  36969666  WASHINGMACHINES       NaN                   UNASSIGNED   \n",
       "6901  25724126       USB MEMORY       NaN  SPEICHERKARTEN->USB STICK->   \n",
       "\n",
       "     manufacturer  \n",
       "5843          NaN  \n",
       "6901    TRANSCEND  "
      ]
     },
     "execution_count": 12,
     "metadata": {},
     "output_type": "execute_result"
    }
   ],
   "source": [
    "data[data['main_text'].isna()]\n"
   ]
  },
  {
   "cell_type": "code",
   "execution_count": 13,
   "id": "c300d25c",
   "metadata": {},
   "outputs": [
    {
     "data": {
      "text/html": [
       "<div>\n",
       "<style scoped>\n",
       "    .dataframe tbody tr th:only-of-type {\n",
       "        vertical-align: middle;\n",
       "    }\n",
       "\n",
       "    .dataframe tbody tr th {\n",
       "        vertical-align: top;\n",
       "    }\n",
       "\n",
       "    .dataframe thead th {\n",
       "        text-align: right;\n",
       "    }\n",
       "</style>\n",
       "<table border=\"1\" class=\"dataframe\">\n",
       "  <thead>\n",
       "    <tr style=\"text-align: right;\">\n",
       "      <th></th>\n",
       "      <th>id</th>\n",
       "      <th>product_group</th>\n",
       "      <th>main_text</th>\n",
       "      <th>add_text</th>\n",
       "      <th>manufacturer</th>\n",
       "      <th>text</th>\n",
       "    </tr>\n",
       "  </thead>\n",
       "  <tbody>\n",
       "    <tr>\n",
       "      <th>0</th>\n",
       "      <td>26229701</td>\n",
       "      <td>WASHINGMACHINES</td>\n",
       "      <td>WAQ284E25</td>\n",
       "      <td>WASCHMASCHINEN</td>\n",
       "      <td>BOSCH</td>\n",
       "      <td>WAQ284E25 WASCHMASCHINEN</td>\n",
       "    </tr>\n",
       "    <tr>\n",
       "      <th>1</th>\n",
       "      <td>16576864</td>\n",
       "      <td>USB MEMORY</td>\n",
       "      <td>LEEF IBRIDGE MOBILE SPEICHERERWEITERUNG FUER I...</td>\n",
       "      <td>PC__1100COMPUTINGMEMORY__1110MEMORYCARDS</td>\n",
       "      <td>LEEF</td>\n",
       "      <td>LEEF IBRIDGE MOBILE SPEICHERERWEITERUNG FUER I...</td>\n",
       "    </tr>\n",
       "    <tr>\n",
       "      <th>2</th>\n",
       "      <td>26155618</td>\n",
       "      <td>USB MEMORY</td>\n",
       "      <td>SANDISK 32GB ULTRA FIT USB 3.0</td>\n",
       "      <td>W1370</td>\n",
       "      <td>NaN</td>\n",
       "      <td>SANDISK 32GB ULTRA FIT USB 3.0 W1370</td>\n",
       "    </tr>\n",
       "    <tr>\n",
       "      <th>3</th>\n",
       "      <td>25646138</td>\n",
       "      <td>BICYCLES</td>\n",
       "      <td>HOLLANDRAD DAMEN 28 ZOLL TUSSAUD 3-GAENGE RH 5...</td>\n",
       "      <td>FAHRRAEDER // SPORTFAHRRAEDER</td>\n",
       "      <td>SCHALOW &amp; KROH GMBH</td>\n",
       "      <td>HOLLANDRAD DAMEN 28 ZOLL TUSSAUD 3-GAENGE RH 5...</td>\n",
       "    </tr>\n",
       "    <tr>\n",
       "      <th>4</th>\n",
       "      <td>19764614</td>\n",
       "      <td>BICYCLES</td>\n",
       "      <td>DAHON SPEED D7 SCHWARZ ? FALTRAD</td>\n",
       "      <td>SPORTS__30000WHEELED__30070BIKES</td>\n",
       "      <td>DAHON</td>\n",
       "      <td>DAHON SPEED D7 SCHWARZ ? FALTRAD SPORTS__30000...</td>\n",
       "    </tr>\n",
       "    <tr>\n",
       "      <th>...</th>\n",
       "      <td>...</td>\n",
       "      <td>...</td>\n",
       "      <td>...</td>\n",
       "      <td>...</td>\n",
       "      <td>...</td>\n",
       "      <td>...</td>\n",
       "    </tr>\n",
       "    <tr>\n",
       "      <th>7995</th>\n",
       "      <td>61028716</td>\n",
       "      <td>BICYCLES</td>\n",
       "      <td>TOPSY KINDERRAD 12 1/2 POLARWEISS O O O  419640</td>\n",
       "      <td>H006W0792344__WERKZEUG_AUTO/FAHRRAD_FAHRRAEDER</td>\n",
       "      <td>SI-ZWEIRAD-VERTRIEBS GMBH</td>\n",
       "      <td>TOPSY KINDERRAD 12 1/2 POLARWEISS O O O  41964...</td>\n",
       "    </tr>\n",
       "    <tr>\n",
       "      <th>7996</th>\n",
       "      <td>37734138</td>\n",
       "      <td>BICYCLES</td>\n",
       "      <td>CREME ECHO SOLO 16-SPEED WHITE</td>\n",
       "      <td>FAHRRAEDER&gt;&gt;RENNRAEDER&gt;&gt;RENNRAEDER</td>\n",
       "      <td>CREME</td>\n",
       "      <td>CREME ECHO SOLO 16-SPEED WHITE FAHRRAEDER&gt;&gt;REN...</td>\n",
       "    </tr>\n",
       "    <tr>\n",
       "      <th>7997</th>\n",
       "      <td>17891755</td>\n",
       "      <td>CONTACT LENSES</td>\n",
       "      <td>ACUVUE 1-DAY MOIST TAGESLINSEN WEICH, 30 STUEC...</td>\n",
       "      <td>HEALTH&amp;PERSONALCARE__3100OPTICS__3101SPHERICCO...</td>\n",
       "      <td>JOHNSON &amp; JOHNSON</td>\n",
       "      <td>ACUVUE 1-DAY MOIST TAGESLINSEN WEICH, 30 STUEC...</td>\n",
       "    </tr>\n",
       "    <tr>\n",
       "      <th>7998</th>\n",
       "      <td>42298563</td>\n",
       "      <td>BICYCLES</td>\n",
       "      <td>UNIVEGA TERRENO 1.0 HE MATTBLAUGRAU 45 CM</td>\n",
       "      <td>1_7_4</td>\n",
       "      <td>UNIVEGA</td>\n",
       "      <td>UNIVEGA TERRENO 1.0 HE MATTBLAUGRAU 45 CM 1_7_4</td>\n",
       "    </tr>\n",
       "    <tr>\n",
       "      <th>7999</th>\n",
       "      <td>26300286</td>\n",
       "      <td>WASHINGMACHINES</td>\n",
       "      <td>LAVAMAT 63479 FL A+++ WASCHVOLLAUTOMAT</td>\n",
       "      <td>WASCHMASCHINEN</td>\n",
       "      <td>AEG</td>\n",
       "      <td>LAVAMAT 63479 FL A+++ WASCHVOLLAUTOMAT WASCHMA...</td>\n",
       "    </tr>\n",
       "  </tbody>\n",
       "</table>\n",
       "<p>8000 rows × 6 columns</p>\n",
       "</div>"
      ],
      "text/plain": [
       "            id    product_group  \\\n",
       "0     26229701  WASHINGMACHINES   \n",
       "1     16576864       USB MEMORY   \n",
       "2     26155618       USB MEMORY   \n",
       "3     25646138         BICYCLES   \n",
       "4     19764614         BICYCLES   \n",
       "...        ...              ...   \n",
       "7995  61028716         BICYCLES   \n",
       "7996  37734138         BICYCLES   \n",
       "7997  17891755   CONTACT LENSES   \n",
       "7998  42298563         BICYCLES   \n",
       "7999  26300286  WASHINGMACHINES   \n",
       "\n",
       "                                              main_text  \\\n",
       "0                                             WAQ284E25   \n",
       "1     LEEF IBRIDGE MOBILE SPEICHERERWEITERUNG FUER I...   \n",
       "2                        SANDISK 32GB ULTRA FIT USB 3.0   \n",
       "3     HOLLANDRAD DAMEN 28 ZOLL TUSSAUD 3-GAENGE RH 5...   \n",
       "4                      DAHON SPEED D7 SCHWARZ ? FALTRAD   \n",
       "...                                                 ...   \n",
       "7995    TOPSY KINDERRAD 12 1/2 POLARWEISS O O O  419640   \n",
       "7996                     CREME ECHO SOLO 16-SPEED WHITE   \n",
       "7997  ACUVUE 1-DAY MOIST TAGESLINSEN WEICH, 30 STUEC...   \n",
       "7998          UNIVEGA TERRENO 1.0 HE MATTBLAUGRAU 45 CM   \n",
       "7999             LAVAMAT 63479 FL A+++ WASCHVOLLAUTOMAT   \n",
       "\n",
       "                                               add_text  \\\n",
       "0                                        WASCHMASCHINEN   \n",
       "1              PC__1100COMPUTINGMEMORY__1110MEMORYCARDS   \n",
       "2                                                 W1370   \n",
       "3                         FAHRRAEDER // SPORTFAHRRAEDER   \n",
       "4                      SPORTS__30000WHEELED__30070BIKES   \n",
       "...                                                 ...   \n",
       "7995     H006W0792344__WERKZEUG_AUTO/FAHRRAD_FAHRRAEDER   \n",
       "7996                 FAHRRAEDER>>RENNRAEDER>>RENNRAEDER   \n",
       "7997  HEALTH&PERSONALCARE__3100OPTICS__3101SPHERICCO...   \n",
       "7998                                              1_7_4   \n",
       "7999                                     WASCHMASCHINEN   \n",
       "\n",
       "                   manufacturer  \\\n",
       "0                         BOSCH   \n",
       "1                          LEEF   \n",
       "2                           NaN   \n",
       "3           SCHALOW & KROH GMBH   \n",
       "4                         DAHON   \n",
       "...                         ...   \n",
       "7995  SI-ZWEIRAD-VERTRIEBS GMBH   \n",
       "7996                      CREME   \n",
       "7997          JOHNSON & JOHNSON   \n",
       "7998                    UNIVEGA   \n",
       "7999                        AEG   \n",
       "\n",
       "                                                   text  \n",
       "0                              WAQ284E25 WASCHMASCHINEN  \n",
       "1     LEEF IBRIDGE MOBILE SPEICHERERWEITERUNG FUER I...  \n",
       "2                  SANDISK 32GB ULTRA FIT USB 3.0 W1370  \n",
       "3     HOLLANDRAD DAMEN 28 ZOLL TUSSAUD 3-GAENGE RH 5...  \n",
       "4     DAHON SPEED D7 SCHWARZ ? FALTRAD SPORTS__30000...  \n",
       "...                                                 ...  \n",
       "7995  TOPSY KINDERRAD 12 1/2 POLARWEISS O O O  41964...  \n",
       "7996  CREME ECHO SOLO 16-SPEED WHITE FAHRRAEDER>>REN...  \n",
       "7997  ACUVUE 1-DAY MOIST TAGESLINSEN WEICH, 30 STUEC...  \n",
       "7998    UNIVEGA TERRENO 1.0 HE MATTBLAUGRAU 45 CM 1_7_4  \n",
       "7999  LAVAMAT 63479 FL A+++ WASCHVOLLAUTOMAT WASCHMA...  \n",
       "\n",
       "[8000 rows x 6 columns]"
      ]
     },
     "execution_count": 13,
     "metadata": {},
     "output_type": "execute_result"
    }
   ],
   "source": [
    "data['text'] = data['main_text'] + ' ' + data['add_text']\n",
    "data"
   ]
  },
  {
   "cell_type": "code",
   "execution_count": 14,
   "id": "b20f9d9d",
   "metadata": {},
   "outputs": [
    {
     "data": {
      "text/html": [
       "<div>\n",
       "<style scoped>\n",
       "    .dataframe tbody tr th:only-of-type {\n",
       "        vertical-align: middle;\n",
       "    }\n",
       "\n",
       "    .dataframe tbody tr th {\n",
       "        vertical-align: top;\n",
       "    }\n",
       "\n",
       "    .dataframe thead th {\n",
       "        text-align: right;\n",
       "    }\n",
       "</style>\n",
       "<table border=\"1\" class=\"dataframe\">\n",
       "  <thead>\n",
       "    <tr style=\"text-align: right;\">\n",
       "      <th></th>\n",
       "      <th>id</th>\n",
       "      <th>product_group</th>\n",
       "      <th>main_text</th>\n",
       "      <th>add_text</th>\n",
       "      <th>manufacturer</th>\n",
       "      <th>text</th>\n",
       "    </tr>\n",
       "  </thead>\n",
       "  <tbody>\n",
       "    <tr>\n",
       "      <th>0</th>\n",
       "      <td>26229701</td>\n",
       "      <td>WASHINGMACHINES</td>\n",
       "      <td>WAQ284E25</td>\n",
       "      <td>WASCHMASCHINEN</td>\n",
       "      <td>BOSCH</td>\n",
       "      <td>WAQ284E25 WASCHMASCHINEN</td>\n",
       "    </tr>\n",
       "    <tr>\n",
       "      <th>1</th>\n",
       "      <td>16576864</td>\n",
       "      <td>USB MEMORY</td>\n",
       "      <td>LEEF IBRIDGE MOBILE SPEICHERERWEITERUNG FUER I...</td>\n",
       "      <td>PC__1100COMPUTINGMEMORY__1110MEMORYCARDS</td>\n",
       "      <td>LEEF</td>\n",
       "      <td>LEEF IBRIDGE MOBILE SPEICHERERWEITERUNG FUER I...</td>\n",
       "    </tr>\n",
       "    <tr>\n",
       "      <th>2</th>\n",
       "      <td>26155618</td>\n",
       "      <td>USB MEMORY</td>\n",
       "      <td>SANDISK 32GB ULTRA FIT USB 3.0</td>\n",
       "      <td>W1370</td>\n",
       "      <td>NaN</td>\n",
       "      <td>SANDISK 32GB ULTRA FIT USB 3.0 W1370</td>\n",
       "    </tr>\n",
       "    <tr>\n",
       "      <th>3</th>\n",
       "      <td>25646138</td>\n",
       "      <td>BICYCLES</td>\n",
       "      <td>HOLLANDRAD DAMEN 28 ZOLL TUSSAUD 3-GAENGE RH 5...</td>\n",
       "      <td>FAHRRAEDER // SPORTFAHRRAEDER</td>\n",
       "      <td>SCHALOW &amp; KROH GMBH</td>\n",
       "      <td>HOLLANDRAD DAMEN 28 ZOLL TUSSAUD 3-GAENGE RH 5...</td>\n",
       "    </tr>\n",
       "    <tr>\n",
       "      <th>4</th>\n",
       "      <td>19764614</td>\n",
       "      <td>BICYCLES</td>\n",
       "      <td>DAHON SPEED D7 SCHWARZ ? FALTRAD</td>\n",
       "      <td>SPORTS__30000WHEELED__30070BIKES</td>\n",
       "      <td>DAHON</td>\n",
       "      <td>DAHON SPEED D7 SCHWARZ ? FALTRAD SPORTS__30000...</td>\n",
       "    </tr>\n",
       "    <tr>\n",
       "      <th>...</th>\n",
       "      <td>...</td>\n",
       "      <td>...</td>\n",
       "      <td>...</td>\n",
       "      <td>...</td>\n",
       "      <td>...</td>\n",
       "      <td>...</td>\n",
       "    </tr>\n",
       "    <tr>\n",
       "      <th>7995</th>\n",
       "      <td>61028716</td>\n",
       "      <td>BICYCLES</td>\n",
       "      <td>TOPSY KINDERRAD 12 1/2 POLARWEISS O O O  419640</td>\n",
       "      <td>H006W0792344__WERKZEUG_AUTO/FAHRRAD_FAHRRAEDER</td>\n",
       "      <td>SI-ZWEIRAD-VERTRIEBS GMBH</td>\n",
       "      <td>TOPSY KINDERRAD 12 1/2 POLARWEISS O O O  41964...</td>\n",
       "    </tr>\n",
       "    <tr>\n",
       "      <th>7996</th>\n",
       "      <td>37734138</td>\n",
       "      <td>BICYCLES</td>\n",
       "      <td>CREME ECHO SOLO 16-SPEED WHITE</td>\n",
       "      <td>FAHRRAEDER&gt;&gt;RENNRAEDER&gt;&gt;RENNRAEDER</td>\n",
       "      <td>CREME</td>\n",
       "      <td>CREME ECHO SOLO 16-SPEED WHITE FAHRRAEDER&gt;&gt;REN...</td>\n",
       "    </tr>\n",
       "    <tr>\n",
       "      <th>7997</th>\n",
       "      <td>17891755</td>\n",
       "      <td>CONTACT LENSES</td>\n",
       "      <td>ACUVUE 1-DAY MOIST TAGESLINSEN WEICH, 30 STUEC...</td>\n",
       "      <td>HEALTH&amp;PERSONALCARE__3100OPTICS__3101SPHERICCO...</td>\n",
       "      <td>JOHNSON &amp; JOHNSON</td>\n",
       "      <td>ACUVUE 1-DAY MOIST TAGESLINSEN WEICH, 30 STUEC...</td>\n",
       "    </tr>\n",
       "    <tr>\n",
       "      <th>7998</th>\n",
       "      <td>42298563</td>\n",
       "      <td>BICYCLES</td>\n",
       "      <td>UNIVEGA TERRENO 1.0 HE MATTBLAUGRAU 45 CM</td>\n",
       "      <td>1_7_4</td>\n",
       "      <td>UNIVEGA</td>\n",
       "      <td>UNIVEGA TERRENO 1.0 HE MATTBLAUGRAU 45 CM 1_7_4</td>\n",
       "    </tr>\n",
       "    <tr>\n",
       "      <th>7999</th>\n",
       "      <td>26300286</td>\n",
       "      <td>WASHINGMACHINES</td>\n",
       "      <td>LAVAMAT 63479 FL A+++ WASCHVOLLAUTOMAT</td>\n",
       "      <td>WASCHMASCHINEN</td>\n",
       "      <td>AEG</td>\n",
       "      <td>LAVAMAT 63479 FL A+++ WASCHVOLLAUTOMAT WASCHMA...</td>\n",
       "    </tr>\n",
       "  </tbody>\n",
       "</table>\n",
       "<p>7998 rows × 6 columns</p>\n",
       "</div>"
      ],
      "text/plain": [
       "            id    product_group  \\\n",
       "0     26229701  WASHINGMACHINES   \n",
       "1     16576864       USB MEMORY   \n",
       "2     26155618       USB MEMORY   \n",
       "3     25646138         BICYCLES   \n",
       "4     19764614         BICYCLES   \n",
       "...        ...              ...   \n",
       "7995  61028716         BICYCLES   \n",
       "7996  37734138         BICYCLES   \n",
       "7997  17891755   CONTACT LENSES   \n",
       "7998  42298563         BICYCLES   \n",
       "7999  26300286  WASHINGMACHINES   \n",
       "\n",
       "                                              main_text  \\\n",
       "0                                             WAQ284E25   \n",
       "1     LEEF IBRIDGE MOBILE SPEICHERERWEITERUNG FUER I...   \n",
       "2                        SANDISK 32GB ULTRA FIT USB 3.0   \n",
       "3     HOLLANDRAD DAMEN 28 ZOLL TUSSAUD 3-GAENGE RH 5...   \n",
       "4                      DAHON SPEED D7 SCHWARZ ? FALTRAD   \n",
       "...                                                 ...   \n",
       "7995    TOPSY KINDERRAD 12 1/2 POLARWEISS O O O  419640   \n",
       "7996                     CREME ECHO SOLO 16-SPEED WHITE   \n",
       "7997  ACUVUE 1-DAY MOIST TAGESLINSEN WEICH, 30 STUEC...   \n",
       "7998          UNIVEGA TERRENO 1.0 HE MATTBLAUGRAU 45 CM   \n",
       "7999             LAVAMAT 63479 FL A+++ WASCHVOLLAUTOMAT   \n",
       "\n",
       "                                               add_text  \\\n",
       "0                                        WASCHMASCHINEN   \n",
       "1              PC__1100COMPUTINGMEMORY__1110MEMORYCARDS   \n",
       "2                                                 W1370   \n",
       "3                         FAHRRAEDER // SPORTFAHRRAEDER   \n",
       "4                      SPORTS__30000WHEELED__30070BIKES   \n",
       "...                                                 ...   \n",
       "7995     H006W0792344__WERKZEUG_AUTO/FAHRRAD_FAHRRAEDER   \n",
       "7996                 FAHRRAEDER>>RENNRAEDER>>RENNRAEDER   \n",
       "7997  HEALTH&PERSONALCARE__3100OPTICS__3101SPHERICCO...   \n",
       "7998                                              1_7_4   \n",
       "7999                                     WASCHMASCHINEN   \n",
       "\n",
       "                   manufacturer  \\\n",
       "0                         BOSCH   \n",
       "1                          LEEF   \n",
       "2                           NaN   \n",
       "3           SCHALOW & KROH GMBH   \n",
       "4                         DAHON   \n",
       "...                         ...   \n",
       "7995  SI-ZWEIRAD-VERTRIEBS GMBH   \n",
       "7996                      CREME   \n",
       "7997          JOHNSON & JOHNSON   \n",
       "7998                    UNIVEGA   \n",
       "7999                        AEG   \n",
       "\n",
       "                                                   text  \n",
       "0                              WAQ284E25 WASCHMASCHINEN  \n",
       "1     LEEF IBRIDGE MOBILE SPEICHERERWEITERUNG FUER I...  \n",
       "2                  SANDISK 32GB ULTRA FIT USB 3.0 W1370  \n",
       "3     HOLLANDRAD DAMEN 28 ZOLL TUSSAUD 3-GAENGE RH 5...  \n",
       "4     DAHON SPEED D7 SCHWARZ ? FALTRAD SPORTS__30000...  \n",
       "...                                                 ...  \n",
       "7995  TOPSY KINDERRAD 12 1/2 POLARWEISS O O O  41964...  \n",
       "7996  CREME ECHO SOLO 16-SPEED WHITE FAHRRAEDER>>REN...  \n",
       "7997  ACUVUE 1-DAY MOIST TAGESLINSEN WEICH, 30 STUEC...  \n",
       "7998    UNIVEGA TERRENO 1.0 HE MATTBLAUGRAU 45 CM 1_7_4  \n",
       "7999  LAVAMAT 63479 FL A+++ WASCHVOLLAUTOMAT WASCHMA...  \n",
       "\n",
       "[7998 rows x 6 columns]"
      ]
     },
     "execution_count": 14,
     "metadata": {},
     "output_type": "execute_result"
    }
   ],
   "source": [
    "df=data.dropna(subset=['text'])\n",
    "df"
   ]
  },
  {
   "cell_type": "markdown",
   "id": "00e66af1",
   "metadata": {},
   "source": [
    "#### Vectorization of textual data for model training"
   ]
  },
  {
   "cell_type": "code",
   "execution_count": 15,
   "id": "a4099ddc",
   "metadata": {},
   "outputs": [
    {
     "data": {
      "text/plain": [
       "(7998, 8424)"
      ]
     },
     "execution_count": 15,
     "metadata": {},
     "output_type": "execute_result"
    }
   ],
   "source": [
    "count_vec = CountVectorizer()\n",
    "bow = count_vec.fit_transform(df['text'])\n",
    "bow = np.array(bow.todense())\n",
    "bow.shape"
   ]
  },
  {
   "cell_type": "code",
   "execution_count": 16,
   "id": "4413eb6e",
   "metadata": {},
   "outputs": [
    {
     "name": "stdout",
     "output_type": "stream",
     "text": [
      "{'waq284e25': 7706, 'waschmaschinen': 7758, 'leef': 5281, 'ibridge': 4778, 'mobile': 5610, 'speichererweiterung': 6764, 'fuer': 4335, 'iphone': 4860, 'ipad': 4859, 'und': 7371, 'ipod': 4861, 'mit': 5599, 'lightning': 5332, 'usb': 7405, '128': 330, 'gb': 4383, 'pc__1100computingmemory__1110memorycards': 5955, 'sandisk': 6428, '32gb': 1115, 'ultra': 7351, 'fit': 4190, 'w1370': 7604, 'hollandrad': 4710, 'damen': 3511, '28': 948, 'zoll': 8367, 'tussaud': 7272, 'gaenge': 4367, 'rh': 6316, '54': 1605, 'cm': 3313, 'schwarz': 6511, 'bellefleur': 2958, 'fahrraeder': 4099, 'sportfahrraeder': 6813, 'dahon': 3501, 'speed': 6755, 'd7': 3492, 'faltrad': 4103, 'sports__30000wheeled__30070bikes': 6818, 'pny': 6061, '16gb': 600, 'lego': 5287, 'flash': 4223, 'drive': 3718, 'bric': 3094, 'component': 3362, '__': 2571, 'memory': 5522, 'citybike': 3248, 'colors': 3345, 'inkl': 4832, 'korb': 5091, 'stand': 6841, 'var': 7462, 'city': 3247, 'bikes': 3007, '126': 321, 'bike': 3002, '3gang': 1243, 'weiss': 7914, 'st': 6834, '0001': 3, '10400': 151, '20170121': 773, '1160005': 237, 'aeg': 2641, 'waschmaschine': 7753, 'lc53500': 5274, 'gg': 4438, 'wd': 7863, '15': 491, '590': 1699, 'extraklasse': 4060, 'waschtrockner': 7777, '615634': 1789, 'flashpen': 4231, 'laeta': 5236, '10mb': 195, 'eh13': 3844, '410107__hartwaren_multimedia_oss_festplatten': 1304, 'speicher': 6762, 'wm': 8027, '14': 393, 'e1': 3789, 'kg': 5007, '1400': 395, 'min': 5582, 'xklusiv': 8293, 'frontlader': 4316, 'giant': 4441, 'talon': 7022, 'ltd': 5404, '27': 926, 'black': 3026, 'mountainbikes': 5662, 'delhardtailsbis1000': 3604, 'polar': 6063, 'pulsuhr': 6181, 'v800': 7452, 'hr': 4739, '90060770': 2454, 'sports__29000multisports__29170heartratewatches': 6817, 'sportscomputers': 6821, 'gpsde': 4472, 'ecco': 3800, 'change': 3218, 'one': 5862, 'day': 3577, 'uv30': 7438, 'stückunisex': 6931, 'linsen': 5355, 'verbatim': 7490, 'store': 6896, 'go': 4460, 'v3': 7447, 'stick': 6878, 'sticks': 6881, '8gb': 2439, 'minions': 5590, 'carl': 3184, 'td': 7040, 'pck': 5958, '211750': 814, 'peh': 5980, 'meh': 5507, 'computer': 3364, 'biofinity': 3012, 'toric': 7141, '3er': 1241, 'box3': 3079, 'bergamont': 2965, 'roxtar': 6365, 'silber': 6631, 'gruen': 4521, '47': 1419, '1_1_6': 689, 'proph': 6158, 'atb': 2819, 'faltr': 4102, '26x1': 922, '95': 2531, '68': 1927, 'sauflon': 6440, '55': 1623, 'uv6': 7439, 'bicycles': 2997, 'ext600': 4052, 'herren': 4669, 'mattschwarz': 5487, '1_2_4': 696, 'toshiba': 7152, 'key': 5004, 'transmemory': 7188, 'mx': 5711, '16': 539, 'storage__flash': 6895, 'memory__usb': 5524, '821164': 2282, 'mtb': 5670, '275': 934, '51': 1544, '112100__fashion': 215, 'sport_sport_sport': 6812, 'hartwaren_mountainbike': 4606, 'gazelle': 4380, 'arroyo': 2792, 'c7': 3145, 'he': 4648, '61': 1761, '1_4_4': 704, 'maedchenfahrrad': 5439, '20': 745, '9001001': 2449, 'cl10010': 3291, 'menicon': 5530, 'soft': 6699, '72': 2030, 'cl': 3258, 'wm14u640': 8097, 'standardkatalog_elektro': 6848, 'grossgeraete_waschmaschinen': 4514, 'wda': 7876, '201': 754, 'wpm': 8223, 'lotosweiss': 5396, '11da2014d': 248, 'elektro': 3905, '_unassigned': 2580, 'paris': 5942, 'wasserblau': 7796, '57': 1666, 'contactlinsen': 3391, 'cooper': 3401, 'eigenmarke': 3850, 'options': 5882, 'comfort': 3354, '30er': 1070, 'testrad': 7081, 'serious': 6582, 'rockville': 6342, '26': 901, 'blue': 3049, 'restposten': 6298, 'fahrradrestposten': 4098, 'mtbs': 5681, 'fullys': 4339, 'san': 6425, 'cruzer': 3439, 'extreme': 4062, '175': 629, 'raleigh': 6243, 'rushhour': 6381, 'xxl': 8326, '70': 1966, 'acuvue': 2620, 'moist': 5625, 'tageslinsen': 7018, 'weich': 7910, '30': 1043, 'stueck': 6921, 'bc': 2927, 'mm': 5606, 'dia': 3642, '50': 1500, 'dioptrien': 3661, 'health': 4650, 'personalcare__3000healthcare__3042contactlenses': 5999, 'torrente': 7150, 'plus': 6056, 'merida': 5535, 'twenty': 7277, 'xt': 8311, 'edition': 3828, 'grau': 4484, '45': 1396, '1_1_7': 690, 'puur_nl': 6188, 'eclipse': 3802, 'matt': 5477, '1_4_7': 705, 'proclear': 6133, 'toric6': 7144, '6er': 1958, 'box6': 3080, 'ww': 8248, '80': 2239, '6404': 1856, 'sw': 6971, '20251035__stand': 776, 'front': 4310, 'exquisit': 4048, 'waschautomat': 7729, 'wa': 7617, '6110': 1769, 'grossgeraete': 4505, 'waschautomaten': 7736, 'usb3': 7407, 'and': 2708, 'processors': 6132, 'miele': 5568, 'wda111wcs': 7878, 'aegl73470pmfl': 2642, 'wei': 7908, 'ware': 7709, 'kuechen__waeschepflege__waschvollautom': 5104, 'usb2': 7406, 'kingston': 5027, 'datatraveler': 3557, 'micro': 5557, 'duo': 3764, 'otg': 5904, 'rt': 6372, '1011_flashkarten': 137, 'h2o': 4552, 'lc': 5272, 'cyl': 3481, '75': 2105, '006': 24, 'se9': 6543, '99': 2557, 'w2859ilwpm': 7605, 'ed': 3821, 'vollwaschautomat': 7575, 'siemens': 6614, 'wm14y74d': 8112, '30001477': 1047, 'acuvue90': 2622, 'biomedics': 3013, 'extra90': 4059, 'vision': 7546, 'eye²oxyplus1dmf': 4073, 'sens': 6572, '824': 2287, 'bestandsartikel': 2980, 'summe7613317366658': 6940, 'corratec': 3407, 'vert': 7522, 'halcon': 4561, '650b': 1872, 'glossy': 4454, 'viper': 7545, 'green': 4494, 'white': 7969, 'hardtailsbis500': 4591, 'fuji': 4336, 'feather': 4160, 'red': 6266, '52': 1570, '1_5_5': 711, 'lavamat': 5261, '77489': 2185, 'pfl': 6010, '8kg': 2443, '10': 116, 'einbauwaschmaschine': 3862, 'wmi71443pte': 8154, 'fuellmenge': 4332, '7kg': 2235, 'vollint': 7569, 'progr': 6144, 'watersafe': 7818, 'mengenautomatik': 5528, '5041640': 1522, '894': 2428, '128gb': 337, 'datatrav': 3555, 'dt50': 3732, 'u3': 7308, 'kin': 5014, '35190': 1158, '3__computer__storage': 1227, 'waschvollautomat': 7783, 'omv510a': 5860, 'eek': 3835, '1000': 118, '5kg': 1725, 'kapazitaet': 4977, '5043487': 1523, '412': 1310, '76685': 2170, '00718__waschtrockner': 30, 'oasys': 5830, 'for': 4271, 'astigmatism': 2814, 'wochenlinsen': 8190, '25': 880, 'achse': 2610, '160': 540, '0256gb': 55, 'datentraeger': 3567, 'pc': 5953, 'g4': 4361, 'blau': 3034, '610__komponenten': 1767, 'mini': 5583, 'kap': 4976, 'mediarange': 5503, 'edv': 3832, 'zubeh': 8372, 'software': 6702, 'big': 3001, 'ninety': 5784, 'nine': 5782, 'lite': 5361, 'contact': 3389, '0transmemory': 112, '00022e': 4, 'bosch': 3067, 'waw32541': 7837, 'serie': 6578, 'fl': 4216, '196': 678, 'kwh': 5124, 'jahr': 4905, '1551': 510, 'upm': 7401, 'activewater': 2617, 'ecosilence': 3819, 'majorappliances__2000laundry__2035fsfrontloadwashingmachines': 5455, '64gb': 1867, 'secure': 6549, 'data': 3551, 'chiavette': 3226, '64': 1853, 'emtec': 3928, 'take': 7020, 'it': 4881, 'easy': 3794, '100x': 132, 'bis': 3018, 'mb': 5494, 'smiley': 6688, 'world': 8208, 'speichermedien': 6774, 'transcend': 7183, 'jetflash': 4926, '350': 1148, 'force': 4272, '65003': 1871, 'astigmatism90': 2817, 'votec': 7587, 'vrx': 7593, 'comp': 3358, 'cyclocross': 3479, 'fitnessbikes': 4208, 'cyclocrosser': 3480, 'gravelbikes': 4487, '683044': 1930, '53': 1591, 'cool': 3399, 'nixe': 5787, '12': 276, 'violett': 7543, 'kinderfahrraeder': 5019, 'kinderraeder12': 5023, '18zoll': 664, 'v332gb': 7449, '4856': 1442, 'rc': 6253, 'modul': 5623, 'set': 6587, '78095': 2193, 'wm14n0a1': 8066, 'schleuderdrehzahl': 6465, 'maximal': 5491, '400': 1265, 'touch': 7157, 'control': 3396, 'bedienung': 2936, 'endzeitvorwahl': 3941, 'nachlegefunktion': 5731, 'led': 5280, 'display': 3673, 'programmablaufanzeige': 6148, 'restzeitanzeige': 6301, 'programme': 6149, 'optionen': 5881, 'fein': 4163, 'seide': 6556, 'varioperfect': 7466, 'spart': 6749, 'zeit': 8350, 'oder': 5841, 'energie': 3943, 'wolle': 8198, 'handwaesche': 4580, 'beladungserkennung': 2952, 'luefter': 5408, 'arctic': 2786, 'f8': 4087, 'lüfter': 5419, 'wm14n090': 8064, '6kg': 1962, 'umin': 7359, '76479': 2165, 'wfl': 7960, 'leistungseigenschaften': 5297, 'anschlusswert': 2730, 'kw': 5113, 'dauer': 3575, 'des': 3622, 'nicht': 5771, 'aus': 2841, 'zustan': 8394, 'vollintegriert': 7573, '846': 2326, 'l82470bi': 5204, 'einbau': 3855, 'knitterschutz': 5052, 'aquastop': 2774, 'majorappliances__2000laundry__2030bifrontloadwashingmachines': 5454, 'air': 2653, 'optix': 5885, 'torische': 7148, 'monatslinsen': 5642, 'personalcare__3100optics__3102toriccontactlenses': 6002, 'purevision': 6183, '2hd': 1029, 'astigmatism6': 2816, 'colours2': 3349, '__usb': 2578, 'starwars': 6857, 'kylo': 5134, 'ren': 6285, 'memory__1610__memory__1600': 5523, 'colors2': 3346, 'wot': 8209, '20297': 785, 'toplader': 7134, 'boschwot20297': 3073, '08005045__weisse': 91, 'ware__grosselektro__waschmaschinen': 7711, 'vitox': 7554, 'pearlwhite': 5977, '37': 1183, '1_1_2': 685, 'slider': 6674, 'sec': 6547, 'hard': 4586, 'artgr': 2795, 'pendrive': 5984, 'bulk': 3126, 'serigrafabile': 6581, '417953': 1333, 'bmx': 3051, 'hartwaren_kinderraeder': 4605, '24': 854, 'wmy': 8183, '81643': 2271, 'ptle': 6173, '1600': 541, 'touren': 7161, '112': 213, 'l63470fl': 5154, '18294': 644, '20160910': 767, '1860079': 650, 'ramco': 6245, '1gb': 735, 'cwf13b12': 3459, 'glide': 4451, 'h100__general': 4550, 'hardware': 4592, '7243': 2046, 'pb': 5952, 'hgg': 4685, 'wam': 7681, 'beko': 2948, 'wml': 8155, '15106': 496, 'ne': 5748, 'weiãÿ': 7930, 'unassigned': 7365, 'mpg': 5664, 'gmbh': 4457, 'compact': 3359, 'perfect': 5986, 'smart': 6683, 'focus': 4264, '159277': 533, 'eh19': 3845, '411103__hartwaren_haushaltselektro_waeschepflegekuehlen_waschmaschinen': 1308, '32': 1089, 'alu': 2692, 'line': 5348, '50701010__datentraeger': 1534, 'road': 6334, 'classic': 3301, 'hs': 4741, 'tr': 7173, '1_2_3': 695, 'zz': 8417, 'takems': 7021, 'lumx': 5410, 'retail': 6305, 'avantgarde': 2865, 'siemenswm14u640': 6624, '08005045__weiãÿe': 92, 'ware__groãÿelektro__waschmaschinen': 7712, 'night': 5779, 'aqua': 2761, '13': 350, '06': 74, 'personalcare__3100optics__3101sphericcontactlenses': 6001, 'candy': 3161, '465': 1416, 'aktion': 2658, '82': 2278, 'soflens': 6698, '264147': 910, 'singlespeed': 6651, 'silberfarben': 6632, 'hartwaren_fahrraeder': 4603, '49062': 1453, 'pinstripe': 6041, '000': 1, 'zubehoer': 8373, 's50': 6404, 'cube': 3451, 'access': 2604, 'wls': 8024, 'gtc': 4531, 'sl': 6665, 'reefblue': 6267, 'flashred': 4232, 'ladybikesht': 5233, 'lexar': 5315, 'jumpdrive': 4955, '101': 133, 'g3': 4360, 'mobilfunkzubehoer__0230': 5613, 'mobilfunk': 5612, 'ext': 4049, 'zubehoer__speicher': 8377, '721769': 2042, 'cross': 3424, 'trekking': 7214, 'hartwaren_crosstrekking': 4601, 'wkf': 8004, '110': 197, 'wps': 8225, 'packgr': 5926, 'grossgeraete__standgeraete__waschautomat': 4506, 'dailies': 3503, 'aquacomfort': 2765, 'vermont': 7509, 'brentwood': 3093, 'trekkingraeder': 7218, 'travelbikes': 7204, '641033': 1857, 'beigefarben': 2945, '42': 1340, 'hartwaren_sport': 4607, 'touringraeder': 7167, 'file': 4179, 'rescue': 6294, 'pict': 6031, 'story': 6904, 'softwares': 6706, '2years': 1042, 'warranty': 7719, 'storage': 6894, 'media': 5501, 'wmg': 8143, '820': 2279, 'lichtweiss': 5321, '00754__waschmaschine': 33, 'über': 8423, 'rpm': 6370, 'track': 7175, 'rainbow': 6240, 'speichersticks': 6788, '3502470': 1150, 'speichermedien_speichersticks_unassigned': 6780, 'manga': 5461, 'anime': 2722, 'kontaktlinse': 5084, 'nights': 5781, 'by': 3137, 'aricona': 2790, 'deckende': 3587, 'farbige': 4114, 'jahreslinsen': 4908, 'dunkle': 3763, 'helle': 4663, 'augenfarben': 2840, 'ohne': 5854, 'staerke': 6837, 'farblinsen': 4117, 'cosplay': 3410, 'karneval': 4983, 'fasching': 4119, 'hallo': 4563, 'personalcare__3100optics__3104colouredcontactlenses': 6004, 'kodak': 5057, 'k100': 4964, 'auf': 2835, 'quickshopping': 6210, 'box': 3078, 'wvh': 8247, '28440': 976, '5070': 1533, 'vx': 7598, 'pro': 6129, 'trail': 7177, 'fullsuspension': 4337, '29': 1005, 'dark': 3535, 'grey': 4496, 'matte': 5481, 'mtbfullsuspensions': 5674, 'marathon': 5463, 'tourfs': 7165, 'mem': 5516, '730': 2061, 'weiß': 7929, 'blade': 3031, 'sdcz': 6523, '183': 646, 'fixie': 4212, 'inc': 4811, 'floater': 4245, 'oldsinglespeedmitrennradlenker': 5857, 'fahrrad': 4094, 'flip': 4244, 'flop': 4246, 'grün': 4527, '56': 1645, 'sonstige': 6722, 'kreidler': 5099, 'raise': 6241, 'rt4': 6373, 'v2': 7445, 'trapez': 7200, 'acera': 2609, '27g': 945, 'anthrazit': 2737, 'glaenzend': 4446, 'damenraederab500': 3523, 'ver': 7487, 'braune': 3087, 'ware__hardware': 7714, 'erweit__speicherkarten': 3990, '1inhalt': 736, 'purevision2': 6184, '3bauwaplatinum881': 1231, 'platinum': 6052, '881': 2408, '310100': 1081, 'prophete': 6159, 'wave': 7824, 'einsteiger': 3882, '933328': 2517, 'h006w0792344__werkzeug_auto': 4549, 'fahrrad_fahrraeder': 4097, 'fit16gb': 4191, 'freshlook': 4306, 'colorblends2': 3341, 'swisslens': 6980, 'borelis': 3064, 'multifokal': 5697, 'sl6': 6667, 'fahrrad3': 4096, 'gang': 4372, '26er': 921, '878708706__fahrrad_fahrraeder_cityraeder': 2401, 'pink': 6036, 'kid': 5009, 'puky': 6176, 'zl': 8363, 'lillifee': 5338, 'einheitsgroesse': 3875, '1_6_9': 720, 'meralens': 5532, 'a0395': 2583, 'werewolf': 7938, 'kontaktlinsen': 5085, 'pflegemittel': 6013, 'behaelter': 2942, '1er': 733, 'pack': 5924, '790': 2207, 'highlights': 4688, 'kompatibel': 5071, 'zu': 8371, 'superspeed': 6957, 'hi': 4686, 'kappenloses': 4982, 'design': 3623, 'ausschiebbarem': 2843, 'konnektor': 5079, 'statusanzeige': 6858, 'leicht': 5291, 'kompakt': 5068, 'befestigungsoese': 2940, 'kostenloser': 5098, 'download': 3706, 'der': 3619, 'elite': 3914, 'datenmanagement': 3562, 'grundeigenschaften': 4523, 'farbe': 4111, 'hoehe': 4704, '63': 1831, 'breite': 3092, '21': 808, 'tiefe': 7104, 'gewicht': 4437, 'interner': 4853, 'typ': 7292, 'steckplatz': 6867, 'externes': 4056, 'zubehoer__transcend__speicher': 8378, 'speicherstick': 6787, 'probo': 6131, 'klavierlackdesign': 5043, '201040': 756, 'wae': 7646, '28476': 978, 'ex': 4029, 'herzlichen': 4682, 'glückwunsch': 4456, 'ihre': 4791, 'wir': 7988, 'möchten': 5719, 'sie': 6612, 'darauf': 3534, 'hinweis': 4693, 'sollte': 6708, 'dies': 3651, 'korrekt': 5093, 'erfo': 3974, 'solo': 6710, 'wm14w690': 8107, 'hp': 4735, 'em': 3918, 'kit': 5030, 'in': 4810, 'mne': 5608, '00716__waschmaschine': 28, 'schmal': 6479, '11': 196, '155': 509, 'atom': 2823, 'msk': 5667, '42000': 1342, 'silicon': 6637, 'power': 6079, 'sp008gbuf3j50v1t': 6733, 'metallic': 5545, 'pc__1100computingmemory__1105usbflashdrives': 5954, 'ring': 6326, 'size': 6657, 'plug': 6055, 'peripherals': 5991, '1489728': 450, 'istore': 4880, '02124__computertechnik': 53, 'bue_medien': 3115, 'lesegeraete_usb': 5308, '227': 835, 'schon': 6490, 'effz': 3840, 'fassungsvermögen': 4127, 'wd8ak5400w': 7873, 'grossgeraete_waschtrockner': 4515, 'uv131': 7435, 'gray': 4491, 't3': 6998, 'compel': 3361, '60': 1734, '1_9_1': 727, 'sony': 6723, 'usm16sa1w': 7422, 'whiteusm16sa1w': 7972, '____': 2572, 'revox': 6313, '1_1_5': 688, 'seasons': 6546, 'zoom': 8370, 'ml': 5604, 'tausch': 7032, 'kona': 5075, 'rove': 6363, 'mint': 5592, 'safe': 6413, 'gel': 4403, 'einzellinse': 3884, 'way2854d': 7845, '1751817000': 630, 'ks': 5100, 'cycling': 3477, 'kinderfahrrad': 5018, 'mountainbike': 5661, '4masters': 1493, 'sport': 6811, 'fitness_fahrraeder_kinder': 4202, 'jugendraeder': 4950, 'trekkingrad': 7217, 'damenfahrrad': 3518, 'vegas': 7481, 'gänge': 4548, 'flachlenker': 4219, 'kwn': 5128, '6214': 1811, '263': 907, 'vt': 7594, '714d23': 2018, 'hoo': 4721, '11826': 244, '20160716': 765, 'wmx': 8181, '127': 326, '1600umin': 544, '11mx1273': 273, 'liv': 5367, 'crossraeder': 3434, 'wm14y54d': 8110, '1605445002': 548, 'fitnessbike': 4207, 'viking': 7535, 'messina': 5537, 'rahmengroessen': 6236, 'fitness_fahrraeder_crossraeder': 4196, 'es': 3998, 'dd': 3584, '9144': 2483, 'w0': 7602, 'de': 3585, 'silicone': 6638, '2x3': 1038, 'ortler': 5900, 'perigor': 5990, 'reiseraeder': 6278, 'dt': 3726, 'microduo': 5558, 'ean': 3793, '740617230789': 2084, 'daily': 3505, 'disposable': 3674, '90': 2447, 'multifocal6': 5696, 'flashdrive': 4226, 'jf780': 4934, 'dual': 3750, 'channel': 3219, 'up': 7400, 'to': 7120, '140': 394, '40mbs': 1301, '20406_pamieci': 787, 'creme': 3421, 'caferacer': 3153, 'uno': 7392, 'men': 5525, 'cityraeder': 3254, 'delherrenraeder3': 3605, '413830': 1317, 'intenso': 4849, 'buero': 3118, 'organisation_medien': 5896, '18__usb': 658, 'integral': 4840, 'arc': 2782, 'meta': 5539, '33': 1118, '328_computers': 1108, 'accessories_peripherals_usb': 2607, 'er': 3972, 'astigm': 2811, 'fd32gba3m3usb30': 4157, 'ef': 3837, 'attache': 2826, '03510__usb': 66, '029': 58, '0z': 115, 'alpha': 2686, '515': 1563, 'monthly': 5648, '15350': 504, 'l5460fl': 5142, 'wm14e4d2': 8055, 'iq300': 4864, 'ecoedition': 3816, 'orbea': 5889, 'carpe': 3186, 'oldurban': 5858, 'cl00661': 3280, 'iwear': 4894, 'extra': 4058, '5720': 1677, '111': 206, 'wcs': 7859, '11da1111d': 247, '1405069': 405, 'samsung': 6422, 'wat': 7807, '6513': 1875, '300': 1044, 'startzeitvorwahl': 6856, 'favoritenspeicher': 4133, 'aquaeco': 2768, 'waschen': 7740, 'wasserersparnis': 7798, 'freshfinish': 4305, 'clean': 3305, 'sportwaesche': 6823, 'zen': 8358, 'tec': 7055, '858351403050': 2353, '70584': 1985, '4gb': 1489, '330': 1119, 'me': 5498, 'pe': 5972, 'speichermedien__usb': 6778, 'hama': 4565, 'twin': 7280, 'grx': 4525, 't78940': 7006, 'business': 3133, 'usbsticks': 7415, 'wt2796': 8237, '5970795': 1712, 'wd94141de': 7875, '133501__sanitaer_standgeraete_waschen': 365, 'mf': 5551, 'med': 5500, 'mu': 5684, 'rot': 6356, '1_99_5': 726, 'crossway': 3435, '500': 1501, 'lady': 5231, 'gelb': 4404, '1_7_3': 721, 'nutrail': 5822, 'fatbike': 4130, 'crosscountry': 3427, 'raceht': 6227, 'hyperx': 4772, 'fury': 4347, 'ret': 6302, 'wmg120': 8144, 'rythmic': 6383, '651399': 1881, '71443': 2011, 'weissewarefrontlader': 7918, '388565': 1208, 'eh192': 3846, '8433': 2322, 'optimedics': 5878, 'natural': 5740, 'sih': 6628, 'wird': 7989, 'nachgeliefert': 5728, 'wöhlk': 8272, 'zeiss': 8349, 'wear': 7901, 'freestyle': 4287, 'cobalt': 3334, '606b': 1754, '855968': 2346, '1g': 734, 'tokyo': 7125, 'hartwaren_fahrräder': 4604, 'juliet': 4953, '40': 1264, 'neonrot': 5756, '38': 1196, '1_1_9': 692, 'frequency': 4304, 'xcel': 8286, 'toric3': 7142, '461485': 1411, 'einb': 3854, '411103__hartwaren_haushaltselektro_waeschepflegekuehlen_einbauwaschtrockner': 1307, 'wmb': 8127, 'le': 5277, 'schontrommel': 6491, 'waschprogramme': 7769, 'fluessigwaschmitteleinsatz': 4251, 'active': 2615, 'wash': 7791, 'baby': 2891, 'protect': 6161, 'buntwaesche': 3131, 'selbstreinigung': 6565, 'xlyne': 8297, '7116004': 2002, '16gb__5': 601, 'star': 6854, 'leistungsstarke': 5299, 'zubehor': 8385, 'software__3__usb': 6703, 'zubehoer__45': 8374, 'l61470wdbi': 5151, '30001613': 1048, 'metal': 5540, '1640588000': 564, 'bachtenkirch': 2893, 'racy': 6231, '209010': 800, 'lan': 5241, 'mininas': 5588, 'connect': 3380, 'wireless': 7990, 'stueckoe': 6922, 'netzwerk': 5760, '07': 86, 'wdb030wcs': 7885, 'eco': 3813, 'attain': 2829, 'carbon': 3175, 'rennraeder': 6287, 'gore': 4468, 'wama': 7682, 'w6543': 7609, 'wh': 7963, '377344000': 1194, 'andere': 2710, 'produktgruppen': 6137, '163053': 561, 'dynamite': 3783, '1_6_12': 715, 'mr': 5666, 'hawai': 4635, '15mb': 537, '5mb': 1726, 'yellow': 8330, '51215_emtec': 1553, 'xxlite': 8327, 'dunkelrot': 3760, '1_6_11': 714, 'wahl': 7669, 'provo': 6164, 'gorenje': 4469, '5523': 1629, 'presbyopia3': 6107, 'nano': 5736, '1011': 135, '391_high': 1215, 'tech': 7056, 'stockage': 6889, '1562639000': 520, 'geniesser': 4418, 'fitness_fahrraeder_falt': 4199, 'klappraeder': 5038, 'bocas': 3054, 'lillith': 5339, '34': 1131, 'csr': 3447, 'voyager': 7588, 'gt': 4530, 'massenspeicher': 5472, 'stora__speicher': 6893, 'erweiterung__speichermodule': 3995, 'da': 3494, 'trek': 7212, 'ent': 3959, '28z': 1003, '84': 2314, 'toric30': 7143, 'wa6840': 7625, 'wan282h0': 7693, '400u': 1282, '8010': 2242, '120': 277, 'outdoor': 5908, 'waschmaschinenelektrogrossgeraete': 7761, 'goodram': 4466, 'twister': 7284, 'bk': 3023, 'multifocal': 5694, 'add': 2631, 'low': 5399, 'personalcare__3100optics__3103multifocalcontactlenses': 6003, 'uv100': 7433, 'astigma30': 2812, 'freizeit__bmx': 4294, 'iwsc': 4895, '51051': 1546, 'eu': 4006, 'gardinen': 4375, 'sportschuhe': 6820, 'energieeffizienzklasse': 3949, '595mm': 1708, '850mm': 2333, '420mm': 1344, '89350': 2427, 'h2o6': 4553, 'zanussi': 8344, 'zwq61215c': 8411, '1200': 278, '478741': 1430, '831__waschmaschinen': 2300, 'l61470wd': 5150, 'weissewarewaschtrockner': 7923, '9611__freizeit': 2542, 'wohnen_fahrrad_tourenfahrraeder': 8197, 'oeko': 5844, 'hwd': 4755, 'waermepumpen': 7663, 'technologie': 7063, 'trocknen': 7233, '600': 1735, 'protex': 6163, 'logiccontrol': 5384, 'integrierte': 4845, 'fluessigwaschmitteleinspuelung': 4252, 'allergie': 2672, 'buegeln': 3117, '914605913': 2499, 'l7347fl': 5178, 'fs': 4323, 'frontloader': 4320, 'sandiskcruzerfit8gbusb2': 6429, 'laufwerke': 5255, 'speichermedien_flash': 6779, 'speichermedien_usb': 6781, '43': 1361, 'bibi': 2994, '1_6_8': 719, 'kinderrad': 5022, 'zlx': 8364, 'orange': 5887, 'damen28z': 3515, 'kw20': 5117, '620130__trekkingraeder': 1803, 'as': 2797, 'tori': 7140, 'bosc': 3066, 'wae28426': 7658, 'wm14e3': 8043, '6940510': 1948, 't6': 7004, '114349': 224, 'v90c': 7453, 'mlc': 5605, 'usbstick': 7414, 'modern': 5620, 'cf': 3208, '3007': 1049, '28er': 1001, '6640130': 1898, 'na': 5722, '147': 437, 'vb': 7473, 'wde': 7892, 'nostalgie': 5801, 'noblesse': 5792, 'oeusb': 5848, 'muf': 5688, '32cb': 1111, 'edge': 3826, '28011008': 950, '100': 117, 'se': 6542, '48': 1434, '479011': 1433, 'moraredmatt': 5653, 'telefunken': 7070, 'tfw': 7089, '4421': 1382, 'fc2': 4136, 'wab28270': 7636, '1400u': 396, 'beladung': 2951, '5045129': 1525, 'almeria': 2685, 'hellbraun': 4661, '1_4_1': 701, 'madd': 5435, 'gear': 4392, 'mgp': 5553, 'terrain': 7079, 'scooter': 6517, 'roller': 6346, 'norfolk': 5799, 'multipositionslenker': 5705, '140t': 406, 'corsair': 3409, '30000785': 1046, '19': 665, 'jflash': 4935, '510g': 1549, 'gd': 4389, 'trc': 7208, '91000': 2466, '149175': 455, '2gb': 1027, 'ware__av': 7710, 'zubehoer__sonst': 8376, 'trueye': 7247, 'wd72j5400aw': 7870, 'diamond': 3646, 'pflegetrommel': 6014, 'nutzt': 5824, 'luft': 5409, 'zur': 8392, 'sanften': 6431, 'reinigung': 6273, 'empfindlicher': 3924, 'stoffe': 6890, 'flecken': 4236, 'inverter': 4856, 'motor': 5656, 'buerstenlos': 3124, 'langlebig': 5245, 'eg': 3841, 'cm16ob000': 3320, 'blau__5': 3035, 'trailster': 7179, '1_1_8': 691, 'wechsel': 7903, '130000': 353, '14w59a': 485, 'bauknecht': 2917, 'bw': 3135, '5060': 1531, '898564': 2434, 'sams': 6421, 'wf7802xec': 7949, 'xeg': 8290, 'town': 7169, 'dt100g3': 3727, '40mb': 1300, 'ext800': 4054, 'nickel': 5773, '1589817002': 531, 'xlayer': 8296, 'technik': 7058, 'multimedia_festplatten': 5704, 'speicher_usbsticks': 6763, 'cinelli': 3241, 'gazzetta': 4382, 'friars': 4307, 'cityfahrrad': 3251, 'eden': 3825, 'astigmatism3': 2815, 'ws': 8232, '440': 1377, '45cm': 1407, 'tief': 7102, 'ext2000': 4050, 'fd007402': 4146, 'stormtrooper': 6903, 'l74484wvfl': 5182, 'ridley': 6324, 'bow': 3077, 'disc': 3670, 'roadbikes': 6335, '413027': 1315, 'sp': 6730, 'acid': 2611, 'flashyellow': 4234, 'hardtailsbis1000': 4590, 'tdk': 7042, 'tf30': 7086, '130': 351, 'kappe': 4978, 'blister': 3044, 'wae283e25': 7656, '14q4ok': 478, 'euronics': 4014, 'siemenswm14q4ok': 6622, 'wm14n120waschmaschine': 8069, 'wm14n120': 8068, 'hausgeraete_stand': 4614, 'frontlader_': 4318, 'eyelike': 4069, '1010180': 134, 'stick16gb': 6879, '170': 611, 'wkr': 8021, '771': 2177, 'chrome9kg': 3233, '1600u': 543, 'twindos': 7281, '721011': 2037, '04': 67, '44': 1376, 'deldamenraeder3': 3598, 'wm14t4b1': 8092, '11001': 199, 'porsche': 6072, '911': 2469, '1766': 635, 'wab28270waschmaschine': 7637, 'bht': 2988, '59': 1698, 'effizienzklassen': 3839, 'max': 5489, 'menge': 5526, 'schleuderdreh': 6464, 'verbrauchswerte': 7498, 'ja': 4903, 'programmmix': 6151, '10560': 171, 'liter': 5363, 'wasse': 7793, '153': 503, 'strom': 6916, '6311': 1835, 'grossgeraete_elektro': 4510, 'stan': 6840, 'prelude': 6101, 'stadt': 6835, 'licht': 5320, 'nexus': 5769, 'nue331': 5816, 'monats': 5635, 'paar': 5921, 'angenehm': 2717, 'tragen': 7176, 'wassergehalt': 7800, 'braun': 3085, 'personalcare__3000healthcare__3045specialcontactlenses': 6000, 'total1': 7155, '69680': 1954, 'vfl2': 7527, '914911395': 2505, 'lagos': 5240, '1_4_3': 703, 'bach': 2892, 'optik': 5875, 'genius': 4419, 'paragon': 5941, 'hds': 4647, 'kiez': 5013, '040': 68, 'magenta': 5441, 'nevada': 5766, 'latch': 5248, 'wm14w550': 8100, 'l6469afl': 5159, 'eight': 3851, 'ball': 2898, 'ardeche': 2787, 'rapid': 6248, 'mattgrau': 5482, '360': 1174, '450': 1397, 'gtx': 4532, 'cor': 3405, '180': 639, 'xx': 8323, 'blitz': 3045, 'pat': 5949, 'waschvollautomaten': 7785, '60mb': 1758, 'read': 6259, 'write': 8230, 'silver': 6641, '256gb': 895, 'cmfvygtx3b': 3326, '664w0400': 1906, 'schw': 6508, 'preiseinheit': 6100, 'mengeneinheit': 5529, 'drehbarer': 3710, 'metallbuegel': 5543, 'leserate': 5312, '00': 0, 'schreibrate': 6498, 'unassigned__speichermedien__unassigned': 7369, '104300': 154, 'pen': 5982, 'hama104300': 4566, '06035020__computer__speicher__usb': 77, '7a1': 2230, '8083': 2254, 'ciba': 3238, 'multi': 5690, 'aq': 2758, 'ewdd': 4027, '7145': 2012, 'my': 5712, 'time': 7112, 'schnelle': 6483, 'kurzprogramme': 5110, 'die': 3649, 'im': 4797, 'normalen': 5800, 'waschprogramm': 7768, 'betrieb': 2983, 'unter': 7394, 'stunde': 6925, 'beno': 2959, '90014': 2452, 'four': 4278, 'jugend': 4942, 'ghost': 4440, 'lanao': 5242, 'lightblue': 5328, 'w6222pb': 7608, 'slimline': 6676, 'dtrg2': 3742, 'ufd': 7342, 't03': 6994, 'transparent': 7193, '865883': 2376, '2628': 906, 'hartwaren_trekkingraeder': 4608, 'lw': 5416, 'tdos': 7047, 'g2': 4359, '210': 809, 'wpmwaschvollautomata': 8224, 'fassungsvermoegen': 4125, '09793260': 101, '131': 359, '11kf1103d': 251, 'u202': 7305, '1083919': 184, 'thn': 7096, 'u361k0080m4': 7315, 'waw285euro': 7831, 'waq28422': 7700, 'waeschepflege': 7665, 'allgemein': 2677, 'deer': 3592, 'hunter': 4749, 'cyan': 3475, '1_1_1': 684, 'life': 5326, 'pure': 6182, '26676': 917, '780': 2191, 'u302': 7311, 'reta': 6303, '1211552': 288, 'caracol': 3172, 'memorias': 5519, '08': 90, 'peripherie': 5993, 'l100': 5136, 'lt': 5403, 'tweety': 7276, 'new': 5767, 'packaging': 5925, 'wmr861wps': 8174, 'asti': 2810, '12er': 344, 'quantum': 6202, 'waq': 7697, '2844': 975, 'winora': 7987, 'ww80j3473kw': 8259, 'mach': 5432, 'xtreme': 8315, 'technology': 7065, 'lx': 5417, 'aruba': 2796, '1_9_4': 730, 'plat': 6048, 'wm14e3a1': 8048, 'dti': 3736, 'g4usb': 4363, 'sim': 6645, '492937': 1470, '763513': 2161, 'magnet': 5447, 'datenträger': 3572, '47395': 1424, 'pin': 6034, 'stripe': 6914, 'alcon': 2665, 'plus30': 6057, 'nue328': 5814, '3010': 1054, 'coopervision': 3402, 'clariti': 3296, '1day': 732, 'super': 6945, '7415': 2088, '719812': 2029, 'hypno': 4773, 'mattgruen': 5483, '1_3_4': 700, 'ts8gjf790k': 7261, 'gen1': 4409, 'padlock': 5928, 'padlock3': 5929, '768000': 2173, 'colormaker2': 3344, '393679': 1217, 'pi': 6026, 'wm16w591': 8117, '2019': 774, '61470': 1785, 'bi': 2989, '11021': 201, 's6': 6406, 'glanzschwar': 4449, 'wab': 7633, '28280': 961, 'leistungsaufnahme': 5296, 'elektrogrossgeraetewaschmaschine': 3907, 'total': 7154, '90er': 2463, '1747779000': 628, 'zwq': 8410, '61215c': 1773, 'kueche': 5102, 'haushalt_gross': 4621, 'einbaugeraete_waschmaschinen': 3860, 'rooster': 6350, 'daddy': 3497, 'spoked': 6808, 'special': 6752, 'rotor': 6359, '16gbusb': 605, 'champagne': 3215, 'serigra': 6580, 'wa78': 7629, '760': 2156, 'ul': 7344, 'type': 7294, 'li': 5319, 'handliches': 4577, 'dank': 3532, 'ausschiebbaren': 2844, 'konnektors': 5080, 'koennen': 5058, 'dem': 3614, 'eine': 3864, 'hoehere': 4706, 'anzahl': 2744, 'grosser': 4503, 'daten': 3560, 'viel': 7533, 'schneller': 6485, 'als': 2688, 'je': 4914, 'zuvor': 8397, 'uebertragen': 7336, 'speichern': 6783, 'teilen': 7069, 'zusaetzlich': 8393, 'verfuegt': 7502, 'ueber': 7333, 'einen': 3866, 'farbigen': 4115, 'schiebregler': 6453, 'zum': 8391, 'ein': 3853, 'ausziehen': 2848, 'wodurch': 8191, 'somit': 6714, 'auch': 2834, 'geschuetzt': 4434, 'werden': 7937, 'kappenlosen': 4981, 'designs': 3624, 'muessen': 5687, 'keine': 4996, 'entfernen': 3963, 'bevor': 2986, 'den': 3616, 'benutzen': 2960, 'gehoert': 4401, 'das': 3546, 'verlorengehen': 7508, 'von': 7581, 'kappen': 4979, 'vergangenheit': 7504, 'an': 2704, 'day30': 3578, '51231': 1554, 'haushaltsgeraete__waschmaschinen': 4625, 'uv': 7432, 'cwf': 3458, 'vollelektronische': 7567, 'knopf': 5053, 'bedi': 2934, '3d': 1238, 'aquaspar': 2772, 'system': 6989, 'spezialpro': 6790, 'jung': 4956, '21gg': 826, 'altus': 2691, 'fg': 4171, 'nd': 5745, 'stvzo': 6926, 's4': 6400, 'mountain': 5660, 'ma': 5430, '001': 10, 'wmh': 8148, '121': 284, 'pwash2': 6190, '752976': 2129, 'eh': 3843, 'weis': 7913, '411103__hartwaren_haushaltselektro_waeschepflegekuehlen_waschtrockner': 1309, 'kwa': 5118, '6322': 1840, 'wdd': 7889, '030': 60, '49173': 1457, 'rad': 6232, 'lissabon': 5360, 'hs11': 4742, 'blaugrau': 3036, '492596': 1468, 'woodstock': 8203, 'ecmmd8gpn103': 3809, 'l75694nwd': 5187, '11011': 200, 'carat': 3173, 'fron': 4309, 'l73478wfl': 5177, '52l': 1590, 'eec': 3834, '407000': 1291, 'ls300cx016': 5401, 'supra': 6962, 'charcoal': 3220, 'otn3': 5906, 'ot': 5902, 'amica': 2701, 'wa14640w': 7618, 'mtbhts': 5679, 'wd15g442': 7866, 'bitte': 3022, 'um': 7357, 'direktanlieferung': 3664, 'beim': 2946, 'kollegen': 5059, 'aktiv': 2661, 'berlin': 2971, 'semmelweisstr': 6569, '12524': 319, '449t0': 1393, '5715': 1670, 'care': 3179, 'sd': 6522, 'waw28640': 7835, 'ice': 4780, 'race': 6225, 't500': 7003, 'icobra': 4782, 'apple': 2752, 'zubehör': 8387, '6810': 1929, '32516_washing': 1097, 'machines': 5433, 'wm14w5fcb': 8105, 'frontlader60cm': 4317, 'breit': 3091, 'ironkey': 4874, 'd300': 3489, 'encr': 3930, 'ted': 7067, 'r3': 6213, 'wm14b2eco': 8035, '532311': 1598, '7351': 2077, '1915__informations': 670, 'kommunikations': 5066, 'medientechnik__massenspeicher': 5506, 'panamao': 5932, '49': 1449, '1_7_4': 722, 'elatio': 3894, '306': 1065, 'ns': 5809, 'clash': 3299, 'jr': 4940, 'felt': 4165, 'six': 6655, 'mtbhardtails': 5678, 'wab28280': 7638, 'exclusiv': 4034, 'a0192': 2581, 'out': 5907, '211': 811, '4006750': 1278, 'wvg30442': 8246, 'kuechen__waeschepflege__wa': 5103, 'trockenauto': 7231, '1674931000': 577, 'onux': 5866, 'fortani': 4274, '71': 1995, 'fitness_fahrraeder_cityraeder': 4195, 'eye': 4065, 'eye²': 4072, 'pwt': 6191, '3505': 1153, 'avaira': 2862, 'l98685': 5216, '810': 2260, '7508000': 2114, 'retractable': 6307, 'c650': 3144, '671w0925': 1919, '81433': 2268, 'meu': 5549, 'fischer': 4189, 'adac': 2626, '24gg': 877, 'wfbj': 7957, '7014': 1979, '1400upm': 398, 'wfbj7014': 7958, 'we': 7899, 'wab282h2': 7640, 'waschautomat6kg': 7731, '5037681': 1516, '566': 1658, '29053': 1008, 'pegasus': 5979, 'opero': 5870, '753510__75': 2133, 'herrentrekking': 4676, 'kettler': 5001, 'royal': 6367, 'graphit': 4481, '1_4_2': 702, 'prime': 6118, '854': 2340, 'pm': 6059, 'crossrad': 3433, '6640140': 1900, '98': 2552, 'trekk': 7213, 'entdecker': 3961, '13728': 378, '20170107': 771, '1160007': 238, '721693': 2041, '98671': 2554, 'dog': 3691, 'tag': 7013, 'indesit': 4814, 'xwde': 8318, '861480x': 2368, '1088': 185, 'nur': 5821, 'majorappliances__2000laundry__2020washerdryers': 5452, 'quasar': 6205, 'neu': 5762, 'materialbez': 5475, 'reign': 6272, '64ba': 1864, 'waschen__waschmaschine': 7741, 'infd32gbblk': 4824, 'unassigned__edv': 7367, 'zubehoer__unassigned': 8379, 'wm6yh890': 8126, 'weissewarewaschautomatbis1600umin': 7921, 'ptenc': 6170, '00717__waschmaschine': 29, '1201': 280, '8554': 2345, 'tx': 7289, 'colour': 3347, 'clip': 3312, 'bausch': 2921, 'lomb': 5389, '870493': 2386, 'hoover': 4724, 'fassungsve': 4121, 'hooverwaschmaschine': 4725, 'dyn7145d': 3780, 'fassungsvermoege': 4124, 'hnwf__household': 4702, 'appliances_waschen_frontlader': 2754, 'k¾úè': 5135, 'tf20': 7085, 'séria': 6993, 'èierny': 8421, 'all': 2668, 'voyagergo': 7589, 'stay': 6859, '1422863': 415, 'photofast': 6025, 'evo': 4019, '028011008__mobile': 57, 'computing_flash': 3373, 'xd': 8288, '_speichermedien': 2579, 'l77486pfl': 5199, 'xl': 8295, 'lcd': 5275, 'optisense': 5884, 'waschsystem': 7771, 'wasser': 7794, 'zeitbedarf': 8351, 'automatisch': 2855, 'jede': 4916, 'ermittelt': 3982, 'prog': 6143, '914531749': 2491, 'sw109': 6974, 'hawaii': 4636, 'wot24227': 8211, 'sammel': 6418, 'hauptwarengruppe_sammel': 4612, 'oberwarengruppe_waschmaschinen': 5834, 'wan280h0': 7688, '15516': 513, '726585': 2055, 'wml51432': 8167, 'meuwaschmaschine': 5550, 'handelundverkauf_standgeraete_waschmaschinen': 4575, '8514': 2336, 'sp032gbuf3j06v1dne': 6739, 'jewel': 4932, 'j06': 4898, 'kompakter': 5069, 'windows': 7985, 'mac': 5431, 'tiefblau': 7103, 'hb100': 4642, 'familie': 4106, 'feuerstein': 4169, 'fred': 4283, 'stand_standwaeschepflege_standwaschmaschine': 6843, 'bergsteiger': 2970, '724390': 2047, '060301_usb': 76, 'b05': 2876, 'c8': 3146, '74390': 2091, 'nightflight': 5780, 'dlx': 3685, 'mattweiss': 5488, '1_2_2': 694, '2859': 989, 'integr': 4839, 'aaa': 2590, '569001': 1664, 'wm14e327': 8044, 'freistehend': 4290, 'grossgeraete__waschmaschinen': 4508, 'trockner': 7239, 'nullinhalt': 5820, '1x': 740, 'z8': 8339, '4300': 1362, 'spielen': 6802, 'lernen__kinderfahrzeuge': 5305, '29048': 1007, '1664158001': 571, 'mbm': 5496, 'fatmaschine': 4131, 'dailies90': 3504, 'wkd': 8002, '11kd1303d': 250, 'cruiser': 3436, 'brown': 3104, 'wt': 8236, '2796': 942, 'waeschetrockner': 7666, '605': 1750, 'uun2': 7431, '0320s0r11': 62, 'dtig4': 3737, '6178_pamiec': 1795, 'xporter': 8302, 'jibe': 4936, 'u2': 7302, '65000': 1870, 'van': 7460, 'stael': 6836, 'sandgrau': 6427, '1_4_9': 707, 'acumed': 2618, '58': 1687, 'tages': 7014, 'diop': 3659, '8st': 2446, '600799': 1737, 'lesen': 5311, 'schreiben': 6494, '4mb': 1494, 'abmessungen': 2596, '5x21x11mm': 1729, '8g': 2438, 'besonderheiten': 2976, 'herstellergarantie': 4679, 'zwei': 8399, 'jahre': 4906, 'speicherkarten': 6770, 'dash': 3547, 'kinderraeder20': 5024, '24zoll': 879, 'trekkingfahrrad': 7216, 'speedline': 6758, '1_5_4': 710, '51232': 1555, 'pteu': 6172, '146': 424, '7260': 2054, 'liters': 5365, 'multifunktionsdisplay': 5700, 'pet': 6005, 'hair': 4560, 'removal': 6284, 'zuendapp': 8389, 'fully': 4338, 'tx35': 7290, 'sb': 6443, '512mb': 1557, '138623': 382, 'facet': 4090, '822764': 2285, '020': 50, '144': 421, '49064': 1454, 'cib': 3237, '3g': 1242, 'leuch': 5313, '664w0600': 1908, 'twist': 7282, 'turn': 7270, 'delphingrau': 3610, 'transportrad': 7197, 'babboe': 2890, 'curve': 3454, '1_99_10': 725, '651245': 1874, 'jugendrad': 4949, '730213': 2062, 'premium': 6104, 'speicherkapazitaet': 6766, 'sekunde': 6562, 'schreibgeschwindigkeit': 6497, '35': 1147, 'lesegeschwindigkeit': 5309, '3534480': 1169, '509219': 1537, 'wm14q342': 8076, 'waschautomat7': 7732, 'waw': 7825, '28790': 998, 'activeoxygene': 2616, '510': 1545, '1674981000': 578, 'performance': 5988, '66': 1891, 'centurion': 3206, 'eve': 4018, 'minze': 5594, 'petrol': 6008, 'crossbikes': 3426, '576': 1681, '06650': 84, 'piazza': 6027, 'tour': 7159, '17': 610, '753010__75': 2131, 'damencity': 3516, 'bike28zns': 3004, 'frozen': 4321, '12z': 349, '620160__kinderraeder': 1805, 'cob': 3333, 'u05': 7299, '888846': 2412, 'eyeli': 4068, '360101': 1175, '690': 1941, 'schwarze': 6512, 'anthacite3521481': 2732, 'intensousbdrive2032gb': 4851, 'ultrasport': 7354, 'rahmenhoehe': 6237, 'reifengroesse': 6271, '330900000080': 1120, 'bombtrack': 3059, 'script': 6520, 'haibike': 4558, 'land': 5243, 'roxy': 6366, '8690842006692': 2379, 'waschvollautomatwya71483leoeoe': 7790, 'infd8gbneonyl': 4829, 'papier': 5937, 'bürobedarf': 3139, 'schreibwaren': 6499, 'computerzubehör': 3371, 'tribe': 7223, 'fd015303': 4151, 'animals': 2721, 'the': 7091, 'originals': 5898, 'skelanimals': 6660, 'cat': 3194, 'schluesselanhaenger': 6475, 'kappenhalter': 4980, 'rosa': 6351, 'samoa': 6420, 'cm16cr000': 3319, 'rot__5': 6357, 'wv544neff': 8244, 'wv544': 8243, 'voll': 7562, 'integri': 4843, 'energielabel': 3952, 'geräuschwe': 4430, 'db': 3583, 'aquastop¾': 2776, '6061': 1752, '416039': 1323, 'tenus': 7076, '8655': 2373, 'ck': 3256, '186': 649, '14y79a': 490, 'testsieger': 7082, '1683837001': 589, 'mifa': 5576, 'cityrad': 3253, '501210': 1510, '2426': 861, '5714': 1669, 'contrail': 3395, 'fmn': 4261, 'style': 6928, '878655': 2398, '831__waschmaschinen__waschmaschine': 2302, 'locker': 5380, 'homeprofessional': 4716, 'supersilence': 6952, '73478': 2073, 'waschm': 7746, 'flashp': 4230, 'fancy': 4109, 'traveler': 7205, 'predator': 6098, '1tb': 739, '14e290': 468, 'survivor': 6969, 'stealth': 6862, 'shock': 6604, 'waterproof': 7817, '28867_flash': 999, 'cmfsl3x1': 3322, 'x1': 8273, '611654': 1770, 'dob': 3689, '49806': 1479, '191507': 669, '3511470': 1157, '449709': 1392, 'day90': 3580, 'cwt10r14': 3469, 'hardtail': 4588, 'twentyniner': 7278, 'xceed': 8285, 'sponsor': 6809, 'vx400128gb': 7599, '51431': 1559, 'wa7514': 7628, '5051386': 1527, 'lpflege': 5400, '21gang': 825, 'shimano': 6602, '20170114': 772, '1160009': 239, 'waschmaschiene': 7751, 'iq700': 4866, '6mm': 1964, 'cle': 3304, 'thomson': 7099, 'et': 4004, 'co': 3331, 'logo': 5387, 'program': 6145, '479': 1432, '1653437000': 567, 'dxa': 3776, '48ah': 1447, '3gg': 1244, 'wae283a7': 7655, 'aktion6': 2659, '434520': 1369, 'hazel': 4640, 'freizeit__e': 4296, '28397': 970, 'tom': 7126, 'ecmmd8ghb102': 3806, 'ge9': 4391, 'gold': 4462, 'casing': 3191, 'dtge9': 3735, 'police': 6066, '9613__freizeit': 2543, 'wohnen_fahrrad_kinderfahrraeder': 8196, 'v10': 7443, 'intrigue': 4855, 'delladyfullsuspensions': 3609, 'iq800': 4867, '261': 903, '1361812000': 372, 'honolulu': 4719, 'woman': 8201, 'hellblau': 4660, 'fitness_fahrraeder_cruiser': 4197, 'laufwerk': 5254, 'usbkey': 7412, 'wml61633eu': 8169, 'wya': 8269, '71683': 2027, '18623': 651, 'arcona': 2785, '751510__75': 2118, 'jugend20z': 4943, '24z': 878, 'agree': 2650, '62': 1797, 'rennraederab2000': 6289, '11149': 210, 'wp': 8215, '497': 1476, 'swivel': 6982, '67x': 1926, '773__verbatim': 2184, 'flashgreen': 4227, '187x': 654, 'petitekey': 6007, 'wm14q442': 8081, '139': 385, '9240': 2513, 'jugendfahrrad': 4946, 'cherry': 3222, 'heart': 4651, '41': 1303, 'freizeit__jugend': 4298, '264000': 908, 'm10': 5421, '546578': 1620, 'touring': 7166, 'caipi': 3154, 'wf7af5e3p4w': 7950, 'avalon': 2864, 'gent': 4420, 'cr': 3415, 'crossherrenbis500': 3432, 'gv': 4538, '10001_100000009_1000001__standgeraete_waschautomat_standgeraete': 120, 'istorage': 4879, 'datashur': 3553, 'personal': 5998, 'x2': 8275, '048__usb3': 71, '0stickab17gb': 109, 'degoya': 3595, 'oculsoft': 5840, 'free': 4284, '8er': 2437, '4042': 1289, 'brillen': 3097, 'lesehilfen': 5310, 'damenraederbis500': 3524, 'darkblue': 3537, 'dyck': 3778, 'fun': 4340, 'limetten': 5343, 'bk17027': 3024, '0054': 22, 'frontl': 4313, '1600upm': 545, '60120': 1743, 'attack': 2828, '556826': 1636, 'geraete': 4426, '132000': 362, 'sh1': 6590, 'dyn': 3779, '10146': 139, 'p8': 5920, 'traveller': 7206, 'avaira6': 2863, '443203': 1385, 'electra': 3895, 'loft': 5383, '3i': 1246, 'ladies': 5229, 'sportif': 6814, '1_5_1': 708, 'jelly': 4920, 'tda': 7041, '29er': 1021, 'waschmaschinepack': 7762, 'waschmaschinen_frontlader_waschmaschinefrontlader': 7759, 'wkb130wcs': 8000, '652': 1882, 'di': 3640, 'flexx': 4241, 'wmr': 8173, '861': 2365, 'grid': 4497, 'ready': 6261, 'geeignet': 4395, 'geführtes': 4398, 'xrc': 8307, '803002': 2249, '18': 638, 'attention': 2830, 'flashorange': 4229, '2017': 770, '752055__75': 2126, 'mtbhardtail27': 5677, 'fd019407': 4152, 'disney': 3672, 'figur': 4178, 'lustig': 5413, 'datenspeicher': 3565, 'daisy': 3507, 'duck': 3754, 'mehrfarbig': 5510, '00752__waschmaschine': 31, 'vault': 7472, 'privacy': 6126, '8226': 2284, 'waw324de': 7836, 'spaceloop': 6746, '75061': 2111, '47392': 1423, '1596382000': 534, 'fitness_fahrraeder_trekkingbikes': 4206, 'colourvue': 3350, 'funny': 4346, 'lens': 5303, 'triple': 7226, 'executive': 4036, 'wp12t297': 8220, 'singlespeedmitrennradlenker': 6652, 'flashlaufwerk': 4228, '352289': 1164, 'waw28540waschmaschine': 7828, 'waw28540': 7827, 'ladungsmenge': 5230, 'schleud': 6461, '9900': 2558, '137': 376, 'pczubehoerspeicherbaustein': 5964, 'wml15106mne': 8156, '1000u': 122, '5049998': 1526, 'carnivore': 3185, 'freizeit__mountainbikes': 4300, 'fdi64gucd10k': 4158, 'zelig': 8356, 'accessory': 2608, 'gwa': 4541, '38431waschmaschine': 1203, 'grundig': 4524, '38431': 1202, 'energieverbrauchklassen': 3956, 'beladungsmenge': 2953, 'schle': 6460, 'zahl': 8340, 'verbrauchswer': 7497, '195': 674, '7925600': 2213, 'highspeed': 4689, '256': 892, '899603': 2435, 'slyder': 6681, '51cm': 1569, 'peacemaker': 5973, 'wak': 7671, '282': 957, 'weissewarewaschautomatbis1400umin': 7920, 'advance': 2637, '1722783001': 620, 'triptychon': 7227, 'fitness_fahrraeder_mountainbikes': 4203, 'l5460dfl': 5141, '3pk': 1256, 'hornlenker': 4728, '108r': 186, 'waschmaschinefl': 7757, 'uniq844': 7377, 'hf': 4683, '474734732__kuechen_elektro': 1426, 'standgeraete_waschgeraete': 6851, 'watpla782': 7820, 'vitess': 7553, 'n8': 5721, '61433': 1782, 'monatskontaktlinse': 5636, '1st': 737, 'pk': 6044, '3038': 1058, '28492': 982, '318171': 1085, '700': 1967, 'vers': 7514, 'trants8gjf700': 7199, 'pgr': 6016, 'moist90': 5627, '1684824000': 591, 'maed': 5437, 'stahl': 6838, 'wdb': 7883, '20251061__frontlader': 778, 'summe7613317350787': 6937, '300x': 1053, '160502': 547, 'kd6': 4994, '5030': 1514, '3473': 1143, 'empty__empty__empty': 3926, 'saragossa': 6436, 'herrenraederbis500': 4675, 'fileit': 4180, '553009__buerotechnik_pc': 1631, 'technik_speichermedien': 7059, 'high': 4687, '744': 2092, 'wf90f5e5p4w': 7956, 'funktion': 4342, 'energiesparen': 3953, 'kalt': 4972, 'trommelreinigung': 7243, 'buers': 3123, 'vinyl': 7539, 'doppio': 3700, 'fixed': 4211, 'citybikes': 3249, 'pwash': 6189, '11mh2613d': 271, 'verbatimusb3': 7491, '016gbhi': 47, 'speedstore': 6759, 'godrive': 4461, 'wf70f5e0q4w': 7944, '666016': 1911, 'weflex': 7906, '1517727000': 500, 'w7243pr': 7614, 'colorblends': 3340, 'smaragdgruen': 6682, 'toric90': 7145, '380': 1197, 'port': 6073, '218591': 823, '21g': 824, '2821g': 958, 'iflashdrive': 4786, 'hd': 4644, 'ios': 4858, 'android': 2711, 'johnson': 4938, 'bari': 2903, 'waw285h1': 7834, '8026': 2248, 'wmy71433pter': 8184, '301864': 1055, 'sticksweiss': 6884, 'eh30': 3847, 'wolo': 8200, 'wmf111wps': 8141, '7314': 2063, '914912406': 2507, 'kawasaki': 4989, 'kidd': 5010, '1_6_15': 716, 'wat28490': 7812, 'vario': 7464, 'trommelsystem': 7244, 'verbrauchsanzeige': 7495, 'angabe': 2713, 'stromverbrauch': 6918, 'nach': 5726, 'programm': 6146, 'optionswah': 5883, 'travel': 7202, 'motorraeder': 5658, 'dtduo3c': 3734, '220w': 829, '18mb': 662, '8mb': 2444, 'l76471pfl': 5189, 'ultim': 7348, 'wmt': 8176, 'ecostar': 3820, '732': 2067, '3x': 1263, 'pac': 5922, '4000': 1266, '17560125410': 632, 'token': 7124, 'spare': 6748, 'unknown': 7391, 'presbyopia6': 6109, 'packung': 5927, '632742': 1843, 'sweep': 6975, 'mgn': 5552, 'eq': 3969, 'gs': 4528, 'version': 7520, 'medien': 5505, 'wab28222': 7635, '03': 59, '124167': 313, 'varius': 7471, 'myday30': 5714, 'p20': 5918, '6310': 1834, 'weissewaretoplader': 7919, 'wa7960': 7631, 'fit32gb': 4192, 'groningen': 4499, 'flieder': 4242, 'buleva': 3125, '562': 1653, '04251': 69, 'bulls': 3128, 'wildtail': 7982, 'layana': 5269, 'girl': 4443, 'purple': 6185, 'xr': 8305, 'james': 4911, 'cook': 3397, 'wm14w790': 8109, 'tonopah': 7129, 'uni': 7373, 'rahmen': 6235, 'velocity': 7483, '120r': 283, '673200': 1921, 'peloton': 5981, '2015': 759, '755030__75': 2144, 'rennrad': 6286, '701003': 1974, 'aim': 2652, '2016': 761, '752045__75': 2124, 'mtb29er': 5671, 'vw': 7597, 'beetle': 2938, 'bioclear6': 3011, '5460': 1617, 'dfl': 3637, '970210__haushalt_standgeraete_waschmaschinen': 2548, 'md': 5497, 'chix': 3229, '28320': 965, 'wm14b2h2': 8036, 'mehrfachwasserschutz': 5509, 'jungen': 4957, 'car': 3171, 'metallkugellagern': 5546, 'kinder': 5016, '123gsk': 307, 'cs': 3446, 'farben': 4112, 'auswahl': 2847, 'rennsport': 6291, '551697': 1626, 'ctb': 3449, 'einrohr': 3877, 'fgnd': 4172, '0usb': 113, '9349': 2520, 'ep': 3967, 'wm14e347waschvollautomatnennkapazitaet': 8046, 'haustechnik_waschen': 4630, 'trocknen_': 7234, 'seven': 6588, 'wayh2840': 7856, 'home': 4714, 'professional': 6139, '1565': 523, 'automatik': 2854, 'way': 7843, '32793': 1107, 'sp064gbuf2u05v1d': 6742, 'pastel': 5947, 'lavender': 5267, 'haze': 4639, '57867_flash': 1685, 'jl': 4937, 'optimum': 5879, '63473fl': 1848, 'weisse': 7916, 'ware_grossgeraete_waschautomat': 7716, 'wdxa': 7897, '596': 1709, 'ah': 2651, '1_1_3': 686, '234x': 849, 'gehaeuse': 4399, '623031021': 1820, 'rixe': 6330, 'xc': 8282, 'str': 6906, '24g': 874, '50m': 1541, 'slategreymatt': 6669, '753620__75': 2136, 'herrencross': 4670, 'mandelgruen': 5460, 'tageslinse': 7017, '807196': 2252, 'slide': 6673, 'thnu32haywht': 7098, '736999': 2078, 'gbschwarz': 4387, '474385': 1425, 'klapprad': 5037, 'foldo': 4265, '6g': 1959, 'capless': 3168, 're': 6257, 's5_2': 6405, 'bos': 3065, 'ww90j6400cw': 8265, '1496': 460, 'wot20295': 8210, '284': 973, '693639': 1947, '85': 2329, 'ps': 6165, 'waw284de': 7826, 'ab': 2592, '020__stand_waschen_waschmaschineab8kg': 52, '13mm': 392, 'l68470fl': 5165, '1400umin': 397, 'weissewarewaschmaschine': 7922, '1395': 388, 'allergieplus': 2673, '492458': 1466, 'deritus': 3621, 'derit': 3620, 'silencemotor': 6636, 'garantie': 4374, '556': 1635, '00053': 7, '71643': 2024, 'pte': 6167, '240': 855, 'street': 6912, 'kinderraeder24zoll': 5026, 'dh': 3638, 'tourenbike': 7162, 's5': 6403, 'cl00398': 3270, 'airoptix': 2655, '10912': 188, 'kontaktlinsen_wiederverwendbare': 5088, 'standar': 6845, '999': 2568, 'ex400': 4030, 'declaration': 3588, 'satin': 6438, '462437': 1415, '12cm': 342, 'touringräder': 7168, '5ham94715': 1722, '94715': 2527, '545818': 1615, '81': 2259, 'hg': 4684, 'wm14w5g1': 8106, '30inhalt': 1071, 'swivel16gb': 6983, 'brushed': 3109, '347': 1142, 'haustechnikgrossgeraetewaschmaschine': 4631, 'reaction': 6258, '2x': 1036, 'iridium': 4872, 'delcrosscountry': 3597, 'cwt': 3468, 'waschtrockenbuegelnwaschvolltrockner': 7775, 's70': 6407, 'oekokombi': 5845, 'l99484hwd': 5217, 'haushaltsgeraete__waschtrockner': 4626, '3__buerobedarf': 1226, 'aspect': 2803, '660': 1892, 'unisex00000000000000000000000000000241403': 7386, '1008050545__mountainbike_radsport_mtb_unisex': 128, 'int': 4838, 'microline': 5559, '580810__usb': 1689, 'wab282h2waschautomat': 7641, '557001': 1637, '22': 827, 'sky': 6663, 'damenraeder7': 3521, 'kiwi': 5033, '1014': 138, 'wkh': 8011, '131wps': 361, 'powerwash2': 6085, 'dos': 3702, 'l62260tl': 5153, 'l51260tl': 5140, 'topl': 7132, '1200u': 279, '557005': 1638, 'microvault': 5562, 'sa3': 6412, '5ywarr': 1732, 'smartph': 6685, 'tablet': 7009, 'accessories': 2606, 'components': 3363, 'flashblue': 4225, 'wtk': 8241, 'focal': 4262, '501638': 1512, 'surge': 6966, 'gen4': 4411, 'l6fb54478': 5168, '577192': 1683, '7347': 2071, 'exvfl': 4063, 'expert': 4044, 'kato': 4986, 'riot': 6328, 'monarch': 5632, 'wak62': 7679, 'eyelush': 4070, 'primus': 6120, 'bionisch': 3014, 'wkg120wps': 8010, 'frontlade': 4315, '2021': 775, 'private': 6127, 'label': 5223, '24447toplader': 868, 'hausgeraete_waschmaschinen_toplader': 4616, 'harstad': 4598, '1300': 352, 'ww80j6400ew': 8261, 'komplett': 5074, 'crazy': 3417, 'blind': 3041, 'gratis': 4483, 'linsenbehaelter': 5356, '60ml': 1759, 'topqualitaet': 7137, 'halloween': 4564, '24er': 873, 'elfenbein': 3912, 'angelegt__unassigned__unassigned': 2716, 'zodiac': 8365, '31cm': 1088, 'wae283eco': 7657, '28541': 986, 'slim': 6675, '836870': 2309, 'darkgrey': 3539, '56db': 1665, 'genie': 4415, 'bus': 3132, 't1': 6996, '12124': 289, '49178': 1461, 'stã¼ck': 6929, 'workspace': 8207, '15600': 517, 'wag': 7667, '32490': 1096, 'leistung': 5294, 'verbrauch': 7494, 'nennkapazität': 5752, 'schwarzmatt': 6514, 'wfh8014we': 7959, 'caribbean': 3183, '740617237757': 2085, 'kakc': 4970, 'vpt': 7590, 'bt': 3110, 'btc': 3112, 'btx': 3113, 'doodles': 3699, 'schuesselanhaenger': 6501, 'sportlichem': 6815, 'fussball': 4350, 'heavy': 4652, 'duty': 3769, 'nl': 5790, 'wan280eco': 7687, 'festplatten': 4168, 'lto': 5406, 'dat': 3550, 'band__flash': 2900, 't7': 7005, '2819': 956, 'rechts': 6265, '00777__einbau': 34, '285': 984, 'htgrossgeraetewaschmaschine': 4745, '680x': 1928, '55uv6': 1644, 'stella': 6870, 'tuerkis': 7264, '414787': 1319, '476273': 1428, 'eyecatcher': 4067, 'color': 3339, 'bosh': 3074, '50l': 1540, 'szv': 6992, 'rz': 6384, '49065': 1455, 'gb__verbatim': 4386, '3mb': 1252, 'j10': 4900, 'hama94168': 4569, 'smartly': 6684, 'notebo': 5804, 'hama94168flashpensmartly': 4570, '06080045__computer__hardware': 78, 'zubehoer__ram': 8375, 'erw': 3987, 'erweiterung': 3994, 'savage': 6441, 'div': 3675, 'wm14t690': 8096, 'waschenwaschmaschine': 7744, 'blaster': 3033, 'son': 6715, '266mb': 918, '417473': 1331, 'sutra': 6970, 'al': 2663, 'mustard': 5708, 'wf': 7941, '80f5e2q4w': 2256, 'weiss_elektro': 7915, 'grossgeraete_waschautomaten': 4513, '305134': 1062, 'stormfire': 6899, 's300': 6394, 'l87404efl': 5206, '914': 2482, '531': 1596, '610': 1762, '71433': 2010, 'telek': 7071, 'mobil': 5609, 'multifokal30': 5698, 'helix': 4658, 'fjordblue': 4215, 'umm3': 7360, 'xklusivgerät': 8294, 'zuteilu': 8395, '770': 2175, '126x': 325, 'ucs': 7326, 'servers': 6584, 'waschvollautomat8kg': 7784, 'courier': 3414, '790k': 2209, '7840': 2200, 'waq28492': 7702, 'blank': 3032, 'hardware__sonstiges': 4593, 'stck': 6861, 'unassigned__bueromaterial': 7366, 'allgemein__unassigned': 2678, '606204': 1753, 'zubehoer_verbrauchsmaterial_datentraeger': 8383, 'grafix': 4477, '14y59d': 489, 'ii': 4795, 'lemon': 5301, '1_6_10': 713, 'microsusb2': 5560, '656037': 1887, 'infd16gbneonpk': 4822, '16gb__uebertragen': 602, 'muehelos': 5685, 'ha': 4556, 'sdcz51': 6528, '032g': 63, 'b35': 2888, 'xram': 8306, '755702__usb': 2146, 'card': 3178, 'stormtroo': 6902, '124010': 308, 'hook': 4723, '50mb': 1542, 'allterrainbike': 2683, '6640115': 1895, 'lav': 5257, '5468dflwaschvollautomata': 1621, 'hausgeraete_waschmaschinen_frontlader': 4615, '334967': 1126, 'lexxoo': 5316, 'komf': 5062, 'linse': 5354, 'dpt': 3707, '7897': 2203, '570657': 1667, 'crusader': 3438, 'grau_schw': 4485, '109': 187, 'skorpion': 6661, '18738': 653, '20160820': 766, '1330040': 363, 'wm14e2': 8038, 'hyaluron': 4760, 'with': 7994, 'hydraclear': 4766, '1605445005': 549, 'sdcz43': 6524, '128g': 336, 'gam46': 4371, 'rohloff': 6343, '00003__0000000000360__00363': 2, 'carhifizubehoerzubehoer': 3182, 'crossherrenab500': 3431, '6222': 1814, 'hellgruen': 4664, '742253': 2090, '32541': 1098, '6400': 1855, 'cw': 3457, 'speichermedien__speichersticks__unassigned': 6777, 'klein': 5044, 'besonders': 2977, 'autoradios': 2858, 'note': 5803, 'ultrabooks': 7353, 'digitale': 3655, 'bilderrahmen': 3008, 'uvm': 7440, '8543': 2342, '1171520': 243, 'lacie': 5225, 'petite': 6006, 'itw': 4885, '61252': 1776, 'w1': 7603, '200': 746, '400mm': 1281, '900mm': 2455, '600mm': 1739, '95089': 2533, '776614': 2187, 'tcm': 7036, 'mercedes': 5534, 'switch': 6981, 'uts3': 7430, '0160r1blb': 44, 'damenrad': 3519, 'scale': 6445, 'jungen00000000000000000000000000000241555': 4958, '1008050545__mountainbike_radsport_mtb_jungen': 127, 'trk400': 7230, 'light': 5327, '755902': 2147, 'j07': 4899, 'hyde': 4763, '727200': 2056, 'sting': 6886, '6513612106': 1879, 'cl00620': 3278, 'electronic': 3897, 'office': 5850, 'supplies': 6958, 'hot': 4731, '530': 1592, '72800': 2059, '77695': 2188, 'kuechenartikel': 5105, 'haushaltsartikel__frontlader': 4623, 'glory': 4452, 'freeride': 4285, 'downhillfs': 3705, '767160': 2171, 'tourenrad': 7163, 'hartwaren_trekkingräder': 4609, 'grossgersolo_waeschepflege_waschvollautom': 4518, '23x12x4mm': 853, '497353': 1477, '727564': 2057, 'hartwaren_all': 4600, 'xtra': 8313, 'stuart': 6920, 'l73480fl': 5179, 'alum': 2694, '949upm': 2530, 'wp10r156': 8217, 'zwf71443w': 8405, 'selbstreinigungs': 6566, 'schublade': 6500, 'aquafall': 2769, 'waesche': 7664, 'besser': 2978, 'durchnaesst': 3767, 'optimale': 5877, 'nutzung': 5825, 'waschmittels': 7766, 'gewaehrleistet': 4436, 'handwa': 4578, '914912409': 2508, 'haier': 4559, 'hw80': 4754, '1482': 444, 'waschautomatfrontlader': 7738, 'hudora': 4747, 'emma': 3922, '10266': 145, 'allmountain': 2679, 'endurofs': 3939, 'mt': 5668, 'base': 2904, 'lime': 5340, '2859iwpm': 992, 'einbau_einbauwaeschepflege_einbauwaschmaschine': 3856, 'envie': 3965, 'advanced': 2639, '710__sandisk': 1999, 'factory': 4091, 'integrated': 4842, 'biria': 3017, 'maedchen': 5438, 'qbk0116': 6198, '01': 40, '6640135': 1899, '256bit': 894, 'hw': 4750, 'encryption': 3934, 'terra': 7078, 'oem': 5846, 'usbee': 7410, 'sha': 6593, '127400': 329, '620001__mtb': 1799, '11kh1313d': 259, '10196820': 143, '296571': 1015, 'encrypt': 3932, 'fips': 4185, 'elegance': 3900, '524513': 1581, 'weissewareelektrogrossgeraete': 7917, 'julia': 4952, 'minzgruen': 5595, '002': 14, '920': 2511, 'unisex00000000000000000000000000000241384': 7384, '36': 1173, 'vfl': 7526, 'wkg': 8009, 'mielewkh131wps': 5573, '632382': 1842, 'horn': 4727, 'video': 7529, 'dvd': 3770, 'tv': 7273, 'mediaplayer': 5502, 'stream': 6909, 'client': 3310, 'streaming': 6910, 'clients': 3311, 'innovative': 4834, '39404_pamieci': 1218, 'w7243pb': 7613, 'weekday': 7905, 'ultratief': 7355, 'bordeaux': 3063, '1_4_8': 706, 'jetflash790': 4930, '5ham104308': 1720, '104308': 155, '545819': 1616, '893390': 2425, 'dtse9': 3743, 'hw120': 4751, 'b1558': 2883, '198': 682, '1500': 493, 'trommeln': 7242, 'gleichzeitiges': 4450, 'eye²proclear': 4074, '550': 1624, 'awe': 2870, '5215': 1577, '00753__waschmaschine': 32, '1001': 123, 'fi04ob000': 4174, 'grow': 4519, 'garnet': 4376, 'schlauch': 6458, '914530582': 2485, '1621373000': 557, 'cl00129': 3260, 'hydro': 4768, '490': 1450, 'motorgarantie': 5657, 'cnmemory': 3330, 'minimo': 5587, 'zollzodiac': 8368, '38cm': 1212, 'trailer': 7178, 'gravur': 4490, '2002': 749, 'hydraglyde': 4767, '1x3': 742, 'bc8': 2928, 'dia14': 3643, 'ws12m440': 8233, 'fscr': 4325, '12440': 315, '12kg': 345, 'platin': 6050, 'presbyopia': 6106, 'ka': 4966, '7463': 2101, '14243': 416, 'trocknen_waschmaschinen_stand': 7237, '31006666': 1079, 'rose': 6352, 'supersonicmega': 6956, '865874': 2375, 'shinyblack': 6603, '865528': 2374, 'ixpand': 4897, 'drive64gb': 3719, 'dirt': 3666, 'einst': 3880, 'iconiccard': 4783, 'minion': 5589, 'friendly': 4308, 'zanker': 8341, '6314': 1837, 'dtvp3': 3747, 'pricacy': 6114, '405__kingston': 1290, 'techno': 7062, 'evolution': 4020, 'zeo': 8359, 'sph': 6795, '1615787000': 551, 'crystal': 3445, 'maedchenrad': 5440, 'siem': 6613, 'wm14n2g0': 8072, 'cl10001': 3284, 'focal6': 4263, '610268': 1764, '720000': 2032, '751530__75': 2120, 'jugendmtb20z': 4948, '764786': 2164, 'reflex': 6268, '28490': 981, 'mariechen': 5466, '6inhalt': 1961, 'meinelinse': 5512, 'monatslin': 5640, 'ridge': 6323, 'wm16y843': 8121, 'ewde': 4028, '71680': 2026, 'tacana': 7010, 'darkgreen': 3538, 'philips': 6021, 'fm08fd75b': 4257, 'gb__': 4384, 'oeffnen': 5843, 'benutzerfreundliche': 2961, 'verpackung': 7510, 'funktionales': 4343, 'wm14q4ok': 8087, 'wm14k29a': 8060, '20mb': 805, 'wf8af5': 7954, '600848': 1738, '854731': 2343, 'hecht': 4653, 'bicon': 2996, 'ascon': 2802, 'valore': 7458, 'bifocal': 3000, 'arbeitsspeicher': 2781, 'adata': 2630, 'dashdrive': 3548, 'ue700': 7331, 's75': 6409, '20d': 802, 'rbn': 6252, '664w0100': 1903, 'grossgeraete_unassigned_unassigned': 4511, '326164': 1101, '7g': 2232, '267g': 919, '208230': 798, 'klapp': 5035, '14e347': 469, 'waw32590': 7838, 'exclusivwaschvollautomat': 4035, 'waschmaschinen_sologeraetwaschmaschinen_': 7760, 'basic': 2906, 'line16gb': 5349, 'gy': 4547, '620180__klappraeder': 1806, 'faltraeder': 4104, 'wm14p420': 8074, 'pz': 6193, 'ro__chiavette': 6333, 'imation': 4800, 'rosso': 6354, 'i25953': 4775, 'supporti': 6961, 'magnetici': 5449, 'memorie': 5520, 'speeder': 6757, '416383': 1325, 'beachcruiser': 2930, 'cargo': 3181, '753b': 2137, 'sports__30000wheeled__30072cruiserbikes': 6819, 'wagh': 7668, 'pcmultimediausbsticks': 5960, 'bioclear': 3010, '319210': 1087, 'anschluss': 2728, 'einfacher': 3871, 'datentransfer': 3569, 'zwischen': 8409, 'bzw': 3138, 'kostenlose': 5096, 'app': 2750, 'appstore': 2757, 'verfuegbar': 7501, '9kg': 2569, 'l7749pvfl': 5200, '914531723': 2489, '5111743': 1551, 'haushaltsgeraete__7210': 4624, 'waschautomaten__721011': 7737, '79a': 2229, '11100': 207, 'ulfit': 7345, '79489': 2217, 'vc': 7474, 'country': 3412, '1x11': 741, '11mh1203d': 269, '9580650': 2539, 'plush': 6058, 'fire': 4187, '7461': 2099, 'wi14s441': 7974, 'wasch': 7723, 'vollautomat': 7563, 'tft': 7088, 'cookcontrol': 3398, '114962': 229, 'flecto': 4237, 'trekstor': 7219, 'multimedia': 5703, 'it__0310': 4882, 'notebooks': 5806, 'peripherie__speichermedien': 5994, 'kabel': 4968, 'sweet': 6976, 'honey': 4718, 'wmm': 8171, 'scale950': 6446, 'unisex00000000000000000000000000000238236': 7379, '74155': 2089, 'wkh131': 8015, '10000_100000451_1000003__allgemeindroege_grossgeraete_elektr': 119, '101153': 136, 'gwn': 4542, '26430': 912, '636': 1850, '453472': 1400, 'tiefeinsteiger': 7106, 'tiefeinst': 7105, 'weinrot': 7912, '3c': 1237, '231000': 844, 'scool': 6516, 'lem': 5300, 'spielzeug': 6804, 'kinderfahrzeuge__scool': 5021, '90inhalt': 2464, 'anthem': 2733, '99453': 2563, '751520__75': 2119, 'ww10h9600ew': 8249, 'automatische': 2856, 'waschmitteldosierung': 7765, 'mengen': 5527, 'deore': 3617, 'hydr': 4764, 'brake': 3084, 'wan': 7683, '28290': 963, 'wan28290': 7690, 'tones': 7127, 'wm14e3s1': 8050, '412980': 1312, 'ext700': 4053, 'dunkelbraun': 3756, 'waschvollautomatpack': 7786, 'oberwarengruppe_artikelloeschen': 5833, 'x755w': 8281, 'stereo': 6872, 'hpa': 4736, 'tm': 7119, 'bermudablue': 2973, 'gen': 4408, '1706635000': 614, 'travelair': 7203, 'biotrue': 3016, 'oneday': 5863, 'a1': 2587, 'herrenrad': 4672, '520': 1571, 'swg': 6977, 'grossgeraete_waeschepflege_waschm': 4512, 'computing__flash': 3372, 'lightnin': 5331, '212781': 816, 'cl00122': 3259, 'oxygen': 5916, 'nue330': 5815, '1141415003': 222, 'fitnessrad': 4209, 'fitness': 4193, 'lightspeed': 5334, 'fitness_fahrraeder_fitnessraeder': 4200, 'kwm': 5127, '7316': 2064, 'vx400256gb': 7600, 'square': 6829, 'memoria': 5518, 'homer': 4717, 'ts16gjf700pe': 7255, '157': 525, 'd3': 3488, '31006259': 1078, 'exp': 4043, 'abakus': 2593, '81633': 2270, 'trance': 7180, 'trk300': 7229, '5574492': 1639, 'neon': 5753, 'ra': 6222, 'xxd5': 8324, 'category': 3196, '5__pc': 1715, 'peripherals__memory': 5992, '16y892': 609, 'stop': 6891, 'cl00507': 3273, 'magiclens': 5446, 'wochen': 8189, '2cl': 1023, 'laufwer': 5253, '1574481000': 526, 'mech': 5499, 'scheibenbremsen': 6449, '446841': 1389, 'cdb': 3200, '485': 1439, 'vollintegrierter': 7574, 'ons': 5864, 'merk': 5536, 'stk': 6887, 'wak282e1': 7676, 'l72370tllavamatwaschmaschine': 5172, '913103727': 2475, 'waq2849u': 7704, 'sihy': 6629, 'taschenlampen': 7030, 'orinoco': 5899, 'umbra': 7358, '87777': 2397, 'spk_5242_': 6807, 'oxy': 5915, 'wml71433meu': 8170, '692245': 1946, 'etk200': 4005, 'boschwaschvollautomat': 3071, 'obosch': 5836, '5012': 1509, '470mm': 1420, '0720071': 89, 'wai': 7670, '2642': 911, '41231': 1311, 'rf': 6315, '553': 1630, '40054': 1274, 'wildcross': 7981, 'silbergrau': 6633, '710s': 2000, 'third': 7095, 'party__third': 5944, 'party__': 5943, '124164': 312, 'l73260vsl': 5174, 'speichermedien__portable': 6775, 'best': 2979, 'of': 5849, '37430': 1190, 'wkh271wps': 8018, 'quickpowerwash': 6209, 'fluessigwaschmittel': 4250, 'knopfdruck': 5054, 'supersonicmag2': 6955, 'appenzeller': 2751, 'excellent': 4033, 'bb': 2924, 'anthrazi': 2736, 'nue7': 5819, 'metall': 5541, 'dlm': 3683, 'lustiger': 5414, 'play': 6053, 'langer': 5244, 'datenhaltbarkeit': 3561, 'c80': 3147, '76': 2155, 'auc510': 2833, '32g': 1113, 'rti': 6374, 'choice': 3230, 'titan': 7113, 'ravenblack': 6249, 'anthracite': 2735, 'kwiksibs': 5126, 'zombie': 8369, 'inklusive': 4833, '5ue': 1728, 'geneigte': 4412, 'blende': 3039, 'thermo': 7092, 'programmmanager': 6150, 'anpassungsmoeglichkeit': 2725, 'waschprozesse': 7770, 'persoenliche': 5996, 'beduerfnisse': 2937, 'feedback': 4161, 'anzeige': 2745, 'vorraussichtlichen': 7583, '11mh1213d': 270, 'con': 3374, 'cwt12t24': 3472, 'separater': 6577, 'produktbeschreibung': 6136, 'hersteller': 4678, 'constructa': 3385, 'pastell': 5948, '6479': 1862, 'afl': 2649, 'daichi': 3502, 'antraciet': 2741, '395_usb': 1221, '395': 1219, 'tl': 7117, '425': 1357, '625w1900': 1826, 'rage': 6234, 'skyride': 6664, '1553850000': 515, 'kcp': 4991, '335100': 1127, '525319': 1582, '49061': 1452, 'ascend': 2801, 'z2': 8335, 'ocean': 5837, 'jersey': 4922, 'allroad': 2681, 'wmd': 8139, '1044': 163, 'bx': 3136, 'twisterline': 7285, '3522480': 1162, 'steel': 6868, '6012': 1742, 'way287e25': 7851, 'amr': 2702, 'wm14e446': 8053, 'iq': 4862, '300waschmaschine': 1052, '10686': 173, '165': 565, 'contactindi': 3390, 'l7fs74489': 5203, '14653': 433, 'wa14653w': 7621, 'cadence': 3151, 'evolve': 4021, 'dolfy': 3693, 'altrosa': 2690, 'w8554tx': 7615, 'waschautomat8': 7734, '113': 219, '4308': 1364, '751020__75': 2116, 'spiel': 6801, 'fahrrad12': 4095, '5z': 1733, '18z': 663, '264063': 909, 'v7': 7450, 'spheric': 6797, '710': 1996, '2dkom__': 1025, 'bully': 3129, '109x': 190, 'massstab': 5473, 'lavamat61264etl': 5264, 'aegtoplader': 2644, '913103620': 2474, 'aaeg': 2591, 'pd32gh2grpiwr10': 5969, 'piccolo': 6029, 'fm16fd90b': 4258, 'pico': 6030, '623013202': 1817, 'whis': 7966, 'eli': 3913, 'dna27': 3687, '48l': 1448, 'deeppurple': 3591, '49180': 1463, '551569': 1625, 'vrd': 7592, 'wp12t225': 8218, 'handwaesch': 4579, 'rotulador': 6360, 'lila': 5336, 'xtremkey': 8316, 'sdcz48': 6526, '016g': 46, 'u46': 7318, 'standardkatalog_speichermedien_speichersticks': 6849, 'twospeed': 7287, 'gwn57643c': 4543, '710893': 1998, 'wml15106newaschmaschine': 8158, 'wml15106ne': 8157, '60x84x45': 1760, 'energieeffizienzklassen': 3950, 'verbrauchwerte': 7499, '168': 586, 'm2': 5423, '0stic': 108, 'ecmmd8gl103': 3808, 'looney': 5391, 'tunes': 7267, 'taz': 7034, 'motiv': 5654, 'u201g0320m4': 7304, 'u201': 7303, 'cad': 3150, '7d': 2231, 'cr600': 3416, 'connector': 3384, 'lenses': 5304, 'mares': 5464, 'cx': 3474, 'ultegra': 7347, '22g': 838, '1369624000': 375, 'jungenrad': 4959, 'soennecken': 6696, '71616': 2022, 'unassigned__root__buerobedarf': 7368, 'sdk': 6539, '152000': 501, 'little': 5366, 'cyou': 3482, 'turbo': 7268, '75694': 2150, 'nwd': 5827, '20253062__stand': 781, '721005': 2036, 'istick': 4878, 'conexiones': 3376, 'plata': 6049, 'waq284h2': 7707, 'ljds35': 5371, '64gabeu': 1866, 's35': 6395, '24gang': 876, '14640': 427, 'ewd': 4026, '71483': 2016, '168vg4wde': 594, '99104': 2561, 'schluesselring': 6476, '334': 1124, 'pg': 6015, '4x': 1498, 'gen2': 4410, 'feuerwehr': 4170, '1300432': 355, 'fw': 4351, '74': 2080, 'sdcz8': 6531, 'wm16y793': 8120, 'ed1': 3822, 'diversewaschmaschinefrontlader': 3681, '1_2_1': 693, '32er': 1112, 'bo': 3052, 'gsv': 4529, 'perlgrau': 5995, '11541': 234, 'copperhead': 3404, 'rockaway': 6340, '68470': 1934, '92': 2510, 'wasserverbrauch': 7806, 'ltr': 5407, 'wm14t4e0': 8093, '529915': 1588, '13b12waschmaschine': 391, '840': 2315, 'psg': 6166, 'top': 7130, 'config': 3377, '735000': 2076, 't50': 7002, 'trapeze': 7201, '753610__75': 2135, 'damencross': 3517, 'wm14n290': 8070, '__unassigned': 2577, 'vivid': 7557, 'pc__600computingconsumables__650computingconsumables': 5956, 'other': 5905, 'univega': 7389, '1393178001': 387, 'sprint': 6825, 'spx': 6828, 'tz': 7296, 'vollgefedert': 7568, 'v1': 7442, '744754': 2095, 'cwf14b21': 3460, '715823': 2019, 'dancker': 3531, 'bio': 3009, 'fm04fd85b': 4256, 'thnu16enspubl5': 7097, 'transmemorymini': 7189, 'vm': 7559, 'di2': 3641, 'anodized': 2724, '184103': 648, 'wm14p490': 8075, 'tdo': 7046, '827755': 2296, 'l89375tl': 5210, 'dampfglaetten': 3529, 'daunen': 3576, '913103812': 2476, 'wmb71432pteu': 8135, 'swk': 6986, 'verbr': 7493, '41l': 1339, '194kwh': 673, '5000901': 1503, '207566': 796, 'nostalgierad': 5802, '74959': 2104, 'pinstrip': 6040, '639491': 1852, '114957': 227, 'l102': 5138, 'speedy': 6760, 'thin': 7093, 'wa5715': 7623, 'mattblau': 5478, '280000': 949, 'cl00800': 3282, 'harmony': 4597, 'ivory': 4887, 'freizeit__beachcruiser': 4293, 'wda211': 7881, 'u03': 7298, '19091': 667, '20160416': 763, '882': 2409, 'wm14b281': 8033, '114958': 228, '6792440': 1925, '230889': 842, '17402005__usb': 626, 'emt': 3927, 'sam': 6416, 'kwa6322wa': 5121, 'kelly': 4997, 'zwf81463c': 8408, 'crossfire': 3430, '2000': 747, '1_5_3': 709, 'dt4000': 3731, 'aes': 2647, 'sdws': 6540, '76487fl': 2167, 'dampfprogramm': 3530, 'waschtrockner8kg': 7778, '1622187001': 558, 'monaco': 5631, '700c': 1969, 'tiagra': 7100, 'fitness_fahrraeder_rennraeder': 4204, 'wm14k248': 8058, 'softtrommel': 6700, 'impraegnieren': 4807, 'va': 7456, 'dam': 3509, '73489': 2075, '914534132': 2492, '97463': 2550, 'bias': 2993, 'teerain': 7068, 'jugendbike': 4945, '18g': 660, '701220': 1978, 'prim': 6115, 'primaver': 6117, '1357': 368, 'fd002406': 4140, 'schluempfe': 6473, 'papa': 5936, 'schlumpf': 6478, 'stic': 6877, '003012__edv': 19, 'zubehoerundsoftware_usbstics': 8384, 'tor': 7139, 'miss': 5597, 'grace': 4475, 'evot': 4022, '1005': 124, '1d': 731, 'standard': 6846, 'conflex': 3378, '1651162001': 566, 'windsor': 7986, 'frontkorb': 4312, '45mb': 1408, 'sologeraete': 6712, 'zwf01483wr': 8404, 'gentlecare': 4422, 'trommel': 7240, '74489': 2097, 'wv': 8242, 'usd': 7416, 'sonderbeschaffung': 6717, 'wab282mk': 7642, 'wars': 7720, 'darth': 3545, 'vader': 7457, 'lightsaber': 5333, '1478413000': 439, 'zweirad': 8401, '495842': 1472, '76471': 2162, 'sonoran': 6721, 'hybrid': 4762, '2x30': 1039, '9411': 2521, '1666839003': 573, 'trekkingbike': 7215, 'boulevard': 3076, 'man': 5458, 'military': 5578, 'waw327f0': 7841, 'edvspeichermediensdcardusb': 3833, 'wda111': 7877, '876543': 2395, 'stand_standwaeschepflege_standtoplader': 6842, 'backspin': 2895, 'wf72f5e5p4w': 7948, '630562': 1833, '1674829000': 576, 'relax': 6280, '285621': 987, '14657': 435, 'fanbike': 4108, '2gg': 1028, 'suntour': 6944, 'drehgriff': 3712, 's04': 6386, '562544': 1654, 'backfire': 2894, 'monatskontaktlinse3': 5638, '79': 2206, 'series': 6579, 'wab28221': 7634, '8023': 2247, 'powerkid': 6080, '271': 930, 'schraege': 6493, '11kh2713d': 261, 'dakar': 3508, 'polish': 6067, '505714': 1529, 'waa28222': 7632, '1stck': 738, 'nature': 5741, 'hpc': 4737, 'slt': 6679, 'zeroblack': 8360, '6840frontlader': 1933, 'multilife': 5702, 'exotic': 4042, 'motto': 5659, 'partys': 5945, 'sr': 6830, '182250': 643, 'isensoric': 4876, 'sensofres': 6575, 'w6543s': 7610, 'bek': 2947, 'waschaut': 7726, 'wkl': 8020, '7319330002': 2066, '271613': 931, 'braun_speichermedien_speicherkarten': 3086, '540': 1606, 'lg': 5318, 'f14a8rd': 4078, 'negro': 5750, 'waschmaschin': 7752, 'pop': 6069, 'sdcz53b': 6529, 'b3': 2886, 'l6476afl': 5161, '914903224': 2503, 'unassi': 7364, '11mb': 262, '26zoll': 925, 'kw14': 5115, '620110__atb': 1802, 'simpsons': 6648, 'fd003404__': 4142, 'comic': 3357, 'simpson': 6647, 'integriertem': 4846, 'flashspeicher': 4233, 'lizensiert': 5368, '782': 2197, 'b2': 2884, 'h2': 4551, 'bestcoll': 2981, 'melba': 5515, 'mintgrün': 5593, '72279tlwaschvollautomat': 2044, 'toplader1': 7135, 'trend': 7220, 'puffo': 6175, 'cuoco': 3453, 'euroffice': 4012, 'promozioni': 6156, '668f': 1914, '340': 1132, 'gooddrive': 4465, 'eazzy': 3797, '2x6': 1040, '02': 49, 'can': 3160, 'gc': 4388, '14102': 408, 'waschautomatv': 7739, '14t40': 481, '324492': 1094, 'org': 5895, '123926': 304, 'echo': 3801, 'deep': 3589, 'wm14b222iq': 8032, '5045126': 1524, 'kwa6310kf': 5119, 'periféricos': 5989, 'ext500': 4051, 'connecteur': 3382, 'metallgehaeuse': 5544, 'elefant': 3899, 'ekmmd8gm323': 3893, '5661590': 1659, 'fd008306': 4150, 'horror': 4729, 'jas': 4912, '46': 1410, 'hyal': 4759, '560150__kontaktlinsen': 1648, 'hyaluronlinsen': 4761, 'rocket': 6341, '857677': 2350, '01850': 48, '753520__75': 2134, 'damentrekking': 3527, '325806': 1099, '53x': 1604, 'schiebarer': 6451, 'schutzkappe': 6507, '77a__xlyne': 2190, 'axial': 2873, 'deldamenrennraeder': 3602, 'zwy': 8412, '61225': 1774, 'wi': 7973, 'm334': 5426, 'animalitos': 2720, 'seal': 6545, 'attach': 2825, 'aero': 2646, 'kerato': 4998, 'view': 7534, '2014': 758, 'non': 5796, 'food__brillen__sehhilfen': 4270, 'infra': 4831, 'terreno': 7080, '49176': 1459, 'wae28446': 7659, '10er': 192, 'cl10009': 3290, 'nk': 5788, '506967': 1532, '689196': 1938, 'wae20037it': 7647, 'links': 5352, 'wdt': 7893, '6335': 1844, '8984083800': 2433, 'wis28441bosch': 7993, 'wis28441': 7992, 'einknopf': 3876, 'tasten': 7031, 'für': 4355, 'programmablauf': 6147, 'te': 7050, 'drehzahl': 3714, 'restzeit': 6300, 'zeitvor': 8355, 'spezialprogramme': 6791, 'jeans': 4915, 'dunkl': 3762, 'sportswear': 6822, 'extr': 4057, '28zoll': 1004, 'cd': 3199, 'rd': 6254, 's805': 6410, 'ada': 2625, '375200': 1192, '60260': 1746, 'slwaschmaschine': 6680, 'operator': 5869, 'rotate': 6358, 'rosé': 6355, 'wm16w540': 8115, 'wm14q49u': 8086, '110__stand_waschen': 205, '835978': 2308, 'vorrauss': 7582, '11kh1303d': 258, '095': 97, 'wa7460p': 7627, 'usm': 7418, '437273': 1371, 'watr': 7823, 'wdw': 7895, '85140': 2337, '32760000': 1104, '211wpm': 815, 'wat28320': 7808, '933323': 2516, 'pharma': 6017, 'mielewmb120wcs': 5575, 'jet': 4923, 'solutions': 6713, 'mtap': 5669, '00108025': 11, '7937': 2215, 'individual': 4816, 'sh': 6589, 'cryptofips': 3444, 'usbflashlaufwerk': 7411, 'logistics': 5385, 'services': 6586, 'contract': 3394, 'warehousing': 7717, 'emea': 3919, 'iml': 4802, 'wm16w541': 8116, 'ds3': 3724, '239': 852, 'option': 5880, '7549': 2142, 'sharp': 6600, 'fm64fd90b': 4259, 'wp10r155': 8216, '5037298': 1515, '100rd': 131, 's107': 6390, '1675002000': 579, 'zwf': 8403, '01483wr': 43, 'waschautomat10': 7730, 'aquacontrolschlauch': 2767, 'plasma': 6047, 'mobiler': 5611, 'ist': 4877, 'speicherloesung': 6772, 'dazu': 3582, 'geschaffen': 4433, 'ihres': 4794, 'erweitern': 3992, 'sich': 6607, 'nie': 5774, 'wieder': 7977, 'ueberlegen': 7335, 'welche': 7931, 'erinnerungen': 3980, 'loeschen': 5382, 'sollten': 6709, 'niemals': 5778, 'mehr': 5508, 'moment': 5629, 'missen': 5598, 'nehmen': 5751, 'fotos': 4277, 'videos': 7530, 'direkt': 3663, 'leefibridge': 5282, 'unvergesslichsten': 7397, 'momente': 5630, 'verpassen': 7512, 'stecken': 6863, 'einfach': 3868, 'ihr': 4790, 'klicken': 5049, 'kamera': 4974, 'fangen': 4110, 'fotografieren': 4276, 'sehen': 6553, 'alles': 2675, 'ueberall': 7334, 'jeder': 4919, 'ermoeglicht': 3983, 'ihnen': 4789, 'gesamte': 4431, 'film': 4182, 'musiksammlung': 5707, 'herum': 4680, 'dass': 3549, 'dafuer': 3499, 'einziges': 3886, 'speicherplatz': 6784, 'ihrem': 4792, 'geraet': 4425, 'belegen': 2954, 'egal': 3842, 'ob': 5832, 'transantlantische': 7182, 'geschaeftsreise': 4432, 'familienausflug': 4107, 'laden': 5227, 'alle': 2669, 'zeitvertreib': 8354, 'kommt': 5065, 'kurz': 5109, 'ganz': 4373, 'erweitert': 3993, 'einem': 3865, 'bruchteil': 3107, 'kosten': 5094, 'jetzt': 4931, 'sicher': 6608, 'musik': 5706, 'ihren': 4793, 'geraeten': 4427, 'austauschen': 2846, 'spezifikationen': 6794, 'aufbau': 2836, 'tpe': 7172, 'kunststoff': 5108, 'silikon': 6639, 'aluminium': 2695, 'kompatibilitaet': 5072, '5s': 1727, '5c': 1716, '094175': 96, 'f1695rd': 4080, 'wan282a0': 7691, '1535498000': 505, 'xwde861480xwde': 8321, 'einbaugeraete_waeschetrockner': 3859, 'matts': 5486, 'microusb': 5561, 'watplat781': 7821, 'diamondback': 3647, 'remix': 6282, '1_6_4': 717, 'mimic': 5580, 'wd15g490': 7867, '62260': 1815, '71432': 2009, 'wawh': 7842, '8690': 2378, 'adapter': 2629, '3521492': 1161, 'lunelle': 5412, '128cb': 335, '500____': 1507, '__tra_consumer': 2576, 'products__': 6135, 'neongreen': 5755, 'gor': 4467, '7544': 2139, '492472': 1467, 'wm14n2b1': 8071, 'crypto': 3443, '197': 681, '51096': 1548, '1111': 208, 'freizeit__trekkingraeder': 4302, 'kuma': 5107, '784': 2199, '150mb': 494, 'sek': 6561, '261685': 904, 'ro': 6332, '270': 927, '560': 1646, '8430': 2321, '75665': 2148, 'class': 3300, 'wendigo': 7934, 'cwf14e24': 3461, 'fix': 4210, 'cycles': 3476, 'erwachsene': 3988, 'pap': 5935, 'iwc': 4889, '61051': 1766, '535mm': 1603, '85004': 2332, 'exc': 4031, 'wlt': 8025, '24440': 865, 'ecmmd8gl101': 3807, 'l101': 5137, 'sylvester': 6987, '211477': 813, 'neff': 5749, 'integrierbar': 4844, '4242004185031': 1355, 'comfort6': 3355, 'wml160wps': 8160, 'oxford': 5914, 'bar': 2901, '130mb': 357, '49812': 1482, 'praktischen': 6093, 'schiebemechanismus': 6452, 'schreibgesc': 6495, 'computerzubehoer': 3370, '49177': 1460, '702597': 1983, 'crossbike': 3425, 'ultima': 7349, 'silverusb2': 6644, '70220': 1982, 'britto': 3099, 'schlankes': 6456, 'geldboersen': 4406, 'mappen': 5462, 'passt': 5946, 'witzige': 7995, 'schicke': 6450, 'verborgenem': 7492, 'tausende': 7033, 'persoenlichen': 5997, 'dateien': 3559, 'secureaccess': 6550, 'sorgt': 6726, 'noch': 5793, 'datensicherheit': 3564, '1599714000': 535, 'gazette': 4381, '622831': 1816, 'br': 3082, 'bl': 3025, '713387': 2006, '850': 2330, 'amber': 2700, '563': 1655, '18948': 656, 'pulsar': 6179, 'füllmenge': 4354, 'klartextanzeige': 5041, 'dosiert': 3704, 'vollautomatisc': 7564, 'rex': 6314, '7462': 2100, 'wdyn': 7898, '4853': 1440, '914903215': 2502, '1271499002': 327, 'dream': 3709, 'fat': 4128, 'wk': 7996, '541': 1609, '3424': 1136, 'enterprise': 3962, 'd250': 3486, 'visitint': 7550, '3533480': 1167, 'cruzerblade': 3440, 'einziehbarer': 3885, '350692': 1154, '274762': 933, 'waschmachine': 7747, '85399': 2339, 'wdt6335': 7894, '820g': 2281, 'ts16gjf300': 7253, '123956': 305, 'flair': 4222, '__supra': 2575, 'vd': 7477, 'gravity': 4489, '4mm': 1495, '8mm': 2445, 'ts8gjf350': 7259, 'ts8gjf370': 7260, '370': 1184, '15671': 524, 'lavamat51060tl': 5262, 'l51060tl': 5139, 'la': 5222, '17580': 633, 'diverseshandyzubehoer': 3679, '8690842851728': 2380, 'waschvollautomatwmb71632pteuoeoe': 7789, 'challenge': 3212, 'transcendjetflash79032gbusb3': 7184, '0white': 114, 'way287w5': 7853, '281': 953, 'novartis': 5808, '799': 2227, 'uv150': 7437, 'next': 5768, 's364': 6397, 'ta': 7008, 'patentierte': 5950, 'waschtechnologie': 7772, '31006941': 1080, 'mie': 5566, 'waschau': 7725, 'wmv': 8178, '963': 2547, '10499100': 164, 'u0532gb': 7300, '1404563': 403, 'transme': 7185, 'u204': 7307, 's362': 6396, 'ggv': 4439, '6910': 1944, '5010': 1508, 'kwf71411we': 5123, 'volcanic': 7561, '25mb': 899, 'türkis': 7297, '604740__schreibwaren_business': 1749, 'center_digitale': 3205, '75480': 2140, '914605600': 2496, 'l75480wd': 5185, 'mtbfullys': 5675, '412981': 1313, 'met': 5538, '1300410': 354, 'df': 3636, '89': 2413, '234200': 847, 'contessa': 3393, '630': 1832, '1008050545__mountainbike_radsport_mtb_damen': 126, '551982': 1627, 'tcx': 7039, 'slr': 6678, 'sedanblack': 6552, 'racewhite': 6228, '115000': 231, 'jake': 4909, 'snake': 6691, '789187': 2202, 'wm14q492': 8084, 'siemenswm14q492a': 6621, '71243': 2004, '388843': 1209, '14642': 428, '451872': 1398, '24227': 860, 'modernes': 5621, 'wohnen__waschmaschinen': 8195, '80x': 2258, 'miel': 5567, 'wmb120wcs': 8129, '407001': 1292, 'wm14e32a': 8045, 'sp032gbuf2710v1s': 6736, 'uc350': 7324, 'rennraederab1000': 6288, 'herrenraederab500': 4674, 'wd90j6400aw': 7874, 'kombi': 5060, 'haushalt': 4620, 'bad_waeschepflege_waschmaschinen': 2896, '826297': 2294, '801000': 2243, 'incl': 4812, '49631_pamieci': 1475, 'teamgruen': 7053, '824883': 2291, '1484647001': 445, 'metropolis': 5548, '230928': 843, 'mtx': 5683, 'gadget': 4365, 'vive': 7556, 'baukn': 2916, '18gg': 661, 'daewoo': 3498, 'dwd': 3772, 'hb': 4641, '1412': 411, 'lav82470bi': 5259, 'vollintegrierbarer': 7572, 'unterbau': 7395, '914528235': 2484, '7332543171149': 2069, 'lunapiena': 5411, 'g1928': 4358, 'wml51231': 8162, 'kl': 5034, 'abholpreis': 2595, 'xtc': 8312, 'waschautom': 7727, 'l5468dfl': 5144, '40801': 1293, '128bb': 334, 'ekmmd16gs550': 3890, '28390': 968, '126681': 323, 'chil': 3228, 'magicblackmatt': 5444, '6478': 1861, 'b100': 2877, 'click': 3309, 'freistehende': 4291, 'energieklasse': 3951, 'schleudereffizienzklasse': 6468, 'fassungsvermoeg': 4123, '521125': 1574, 'gn': 4458, 'caliber': 3157, 'dnister': 3688, 'miami': 5554, '6513602902': 1878, '2955': 1014, 'eye2': 4066, 'mult': 5689, 'wm14k220': 8057, '100bu': 129, '863': 2369, '627350': 1828, 'singelspeed': 6649, 'rh59': 6319, 'good': 4464, 'ram': 6244, 'katu': 4987, 'magnetic': 5448, '458390': 1406, 't3s': 7000, 'wot24447': 8213, 'wmv960wpslw': 8180, 'whiteedition': 7971, '9945500': 2564, '4002515516553': 1269, '8245': 2289, '1081': 181, 'ecomonitor': 3817, 'erwartenden': 3989, 'energieverbrauchs': 3957, 'gre': 4492, 'jetdrive': 4924, 'powerwasch': 6083, 'wmb61632pteu': 8134, '5000906': 1504, 'violet': 7542, 'crossdamenab500': 3428, 'chrome': 3232, '5040': 1520, 'kinderraeder20zoll': 5025, '417349': 1329, 'wa50ex': 7622, '85136': 2335, '00123': 12, 'summit': 6942, 'acuvueneu': 2623, 'cwf14k21': 3462, 'wmg120wps': 8145, '176': 634, '1111424': 209, 'wmv960wps': 8179, 'powerwash': 6084, 'mielewaschautomat': 5571, 'mmiele': 5607, 'dml': 3686, 'diverse': 3677, 'waschautomat8kg': 7735, 'devon': 3633, 'dtmck': 3739, '9001002': 2450, '4811': 1436, 'nocolor': 5794, 'unisex': 7378, '15511__fahrraeder': 512, 'jugend_unisex': 4944, 'kw11': 5114, '1053757': 168, 'dirtmax': 3669, 'oceanbluematt': 5838, 'alloy': 2680, '215144': 818, 'ht': 4744, '260': 902, '8383': 2311, 'days': 3581, 'nachlieferung': 5732, 'way28543': 7844, 'variosofttm': 7469, 'dt400': 3730, 'level': 5314, 'manag': 5459, 'jump': 4954, 's25': 6391, 'adptor': 2634, '225000': 833, 'tw': 7274, '28080': 951, 'starlit': 6855, 'waq28411': 7699, 'uts2': 7429, '0640nbblx': 81, 'navy': 5742, '487770': 1445, 'automatix': 2857, '2025_20251035_202510__waschen': 782, 'trocknen_frontlader': 7235, 'waschmaschine_waschmaschine': 7754, 'link': 5351, 'devices': 3631, '661188': 1893, 'l68470vfl': 5166, '346435': 1140, 'acm': 2612, '5222': 1579, 'reinigungs': 6274, 'wak28280': 7675, 'wm4yh790': 8123, 'siemenswaschvollautomat': 6615, 'iq8009kg': 4868, 'homeconnect': 4715, 'ssiemens': 6833, 'waschtrockn': 7776, 'alarm': 2664, '721210': 2039, 'sensitive': 6573, '858362703010': 2354, 'rax': 6251, 'flat': 4235, 'summe7613317355379': 6939, '70120100075': 1977, 'puky4128': 6177, 'fahrraeder__kinderrad': 4100, '12__ohne': 341, 'schaltung': 6448, '1421326': 413, 'l99699hwd': 5220, 'sterling': 6874, 'applegreen': 2753, 'cv': 3456, '701': 1970, '886527': 2411, 'milano': 5577, '1365756': 373, '672057': 1920, '560197': 1649, 'fe': 4159, '86495': 2371, '416894': 1327, 'wm14t4em': 8094, 'endz': 3940, 'restzei': 6299, 'premier': 6103, '1472': 438, 'dw': 3771, '540mm': 1608, '31004986': 1076, 'u520': 7319, '174': 625, '1140': 221, 'majorappliances__2000laundry__2025toploadwashingmachines': 5453, 'swiss': 6979, 'katalog': 4985, 'toris': 7146, 'sl3': 6666, 'estick': 4003, 'charge': 3221, '558819': 1640, '4222': 1348, '160013': 542, '1679308000': 584, '878708705__fahrrad_fahrraeder_elektrofahrraeder': 2400, 'gravito': 4488, 'jugendraeder20': 4951, 'way32843': 7854, '417468': 1330, 'tdn1h': 7045, 'way285eco': 7846, 'variosoft': 7468, 'ressourcenschonendes': 6297, 'wassermanagement': 7803, 'cl00136': 3262, 'iwd': 4890, 'reifendemontageset': 6270, 'nkw': 5789, '653692': 1884, 'wkh120wps': 8012, '156': 516, 'lotos': 5394, 'urban': 7402, 'freizeit__cityraeder': 4295, '849988': 2328, '166': 569, '9960': 2565, 'uwuchtskontrolle': 7441, '721': 2035, 'editionconn': 3829, 'ct': 3448, 'b30': 2887, 'anaconda': 2705, 'thats': 7090, '68478': 1935, '430123': 1363, '49807': 1480, '4242003685808': 1354, 'anti': 2738, 'waq28342': 7698, 'vistakon': 7552, 'cwf14w40': 3465, 'wnm64': 8187, 'sp064gbuf2830v1s': 6740, '830': 2298, '487662': 1444, 'grue': 4520, 'prima': 6116, 'l63476fl': 5155, 'boschedition': 3068, '25waschvollautomat': 900, 'twiste': 7283, 'trans': 7181, '534629': 1600, 'fd003403': 4141, 'springfield': 6824, 'marge': 5465, 'verb': 7489, '153kwh': 507, '59db': 1713, '5037685': 1518, 'wae28496': 7660, 'amsterdam': 2703, '8i': 2441, 'pearl': 5976, 'dunkelgrau': 3757, '31': 1072, '408616': 1294, 'gotland': 4470, 'herrenraeder3': 4673, '99699': 2566, '914605901': 2498, 'usm32ca1': 7423, 'eisblau': 3887, 'wak28248': 7674, '1626028001': 560, 'bliss': 3042, '5037683': 1517, '10322': 147, '420232': 1343, '14b2eco': 467, 'wak28227': 7673, '1465151003': 431, 'giro': 4445, 'italia': 4883, '725101': 2052, 'women': 8202, '6513602106': 1876, '461493': 1412, 'holymoly': 4713, 'dynamo': 3784, 'adam': 2627, 'elements': 3911, 'iklips': 4796, 'phone__memory': 6023, 'oblong': 5835, 'boston': 3075, 'xo': 8298, 'ultrawave': 7356, 'privileg': 6128, '475': 1427, '820684': 2280, 'was629': 7722, '133905': 366, 's400': 6401, '331h': 1122, 'datentraegersoftware': 3568, '893139': 2423, 'hanseatic': 4582, 'hwm814a3d': 4757, '448049': 1391, '465966': 1417, 'waschen__waschtrockner': 7742, 'wkk': 8019, '3649900': 1179, 'euphoria': 4009, 'kinara': 5015, 'addwa': 2632, 'xkl': 8292, '40x': 1302, 'gr': 4474, '104392': 160, '222201': 831, 'buegel': 3116, 'edelstahl': 3824, 'e3': 3790, 'f2': 4081, 'whirlpool': 7965, '6940520': 1949, '10784': 176, 'get': 4435, 'argus': 2789, 'eyes': 4071, 'comfor': 3353, 'knaben': 5051, '121039': 285, 'x31': 8278, 'v165w': 7444, 'hpv165w8gbusbstick': 4738, '51476': 1562, '3111': 1083, '43932': 1374, 'browser': 3105, 'wm14e290': 8041, '101t': 144, 'bbf': 2926, '266286': 914, 'specific': 6754, '190': 666, 'frejus': 4303, 'klappfahrrad': 5036, 'freizeit__klappraeder': 4299, 'waschautoma': 7728, 'wda211wpm': 7882, '10195430': 141, '105': 165, 'liteblue': 5362, 'cream': 3418, '81493': 2269, '99104__verbatim': 2562, '441': 1379, 'sonderp': 6718, 'einbauwaschautomat': 3861, 'wm16w4c1': 8114, '00046': 5, '752040__75': 2123, 'mtbhardtail': 5676, '20er': 803, '7gg': 2233, 'kettenschaltung': 5000, 'drehgr': 3711, 'bvb': 3134, '1229586': 295, '150': 492, '253236': 886, '86': 2364, 'f5': 4083, 'e5': 3792, 'p4': 5919, 'wf86f5e5p4w': 7953, 'donnington': 3697, '49300': 1471, 'antrieb': 2742, 'graphite': 4482, '380s': 1199, 'mooster': 5651, 'pcs72009mx2848gb': 5963, 'cooles': 3400, 'monster': 5644, 'certified': 3207, '526': 1584, '589166': 1697, 'wm14b221iq': 8030, '5006602': 1506, '6gang': 1960, '18er': 659, 'ckt': 3257, '6640110': 1894, 'si': 6606, 'way2874s': 7849, '189': 655, 'selbstreinigungsschublade': 6567, '3504450': 1152, 'elektronik': 3909, 'computer__usb': 3366, 'range': 6247, '843393': 2323, 'horizon': 4726, '1450': 423, 'f4': 4082, '720': 2031, 'case': 3190, '3bauwak83': 1230, '83': 2297, 'saphir': 6433, 'rx': 6382, '77': 2174, '89499': 2432, 'fl2': 4217, '671573': 1918, 'a0536': 2585, '322864': 1091, 'wak282mk': 7678, 'l6460afl': 5157, 'infd16gbneonb': 4820, 'trendigen': 7221, 'schreibgeschw': 6496, 'rainbo': 6239, '6792430': 1924, 'nue57': 5818, 'rennwagen': 6292, 'dlr': 3684, '5er': 1718, 'schwarzma': 6513, 'l87485fl': 5207, 'classixx': 3303, '373839': 1189, 'flah': 4221, 'au': 2832, 'narural': 5738, '1402': 399, 'ecmmd8gt203': 3812, '746801': 2103, '128ba': 333, 'wm14t4g0': 8095, '854740': 2344, 'tampa': 7023, '124014': 309, 'lavagrey': 5260, 'arancio__flash': 2778, 'arancione': 2779, 'infd16gbneonor3': 4821, 'wor': 8204, '20156': 760, 'lawu': 5268, '752': 2122, '00715__waschmaschine': 27, '438994': 1373, 'wap28480': 7696, 'nachlegefunkti': 5730, 'waterblue': 7814, 'pwy': 6192, '731631': 2065, 'wan280a1': 7686, 'usm16sa1v': 7421, '1714': 617, '565906': 1657, '71479': 2014, 'officeproducts__3000officesupplies__3127foamboards': 5851, 'offroad': 5853, 'wm14w59a': 8103, 'dto': 3741, '3boswaq284vo': 1235, 'waq284vo': 7708, '1675898000': 580, 'j80': 4902, 'zinc': 8362, 'lisa': 5359, '3050001': 1060, 'sli': 6672, 'k400': 4965, 'minigum': 5585, 'dualusb': 3753, 'ult': 7346, 'speicherkarte': 6769, '4027': 1288, 'waq28476ex': 7701, 'usthree': 7428, '80mb': 2257, '512gb': 1556, 'supersonic': 6954, '117000': 242, '415037': 1320, 'wae284a6': 7661, 'datatravelermicroduo': 3558, '3in1': 1247, 'tageskontaktlinse': 7015, 'sdcz450': 6525, 'citerra': 3244, 'wd15h590iq890vollwaschtrockner': 7869, 'wd15h590': 7868, 'hausgeraetesolo_waschen_waschtrockner': 4619, 'waschtrocknerbosch': 7779, 'mädchenfahrrad': 5718, 'florida': 4247, 'paladin': 5930, 'fi16ob000': 4175, '615537': 1788, '173': 622, '8926': 2420, 'expressprogramm': 4047, 'opening': 5868, '346396': 1139, 'sub': 6932, 'scott': 6518, '25599__fahrradzubehoer': 891, 'sonderpostenfahrradzubehoer': 6719, 'alle_herren': 2670, '5460dfl': 1618, '416518': 1326, 'ts128gjf790w': 7252, 'spiderman': 6800, '12r7': 346, 'spielware': 6803, 'freien': 4289, '25725': 896, '32gbsilber': 1116, 'tobago': 7121, 'wtf130wpm': 8240, 'wtf': 8239, '10521510': 167, '4002515771471': 1270, 'india': 4815, '004g': 21, 'advan': 2636, '7916000': 2211, 'firma': 4188, 'f80': 4088, 'autoclean': 2850, 'einspuelkasten': 3879, 'selbstreinigende': 6563, 'waschmittelschublade': 7767, 'capdosing': 3166, 'individueller': 4818, 'einsatz': 3878, 'spezialwaschmittel': 6792, 'weichspueler': 7911, 'boost': 3062, 'kd13': 4993, 'clear': 3306, 'wader': 7645, '10780': 175, '3714': 1186, 'cyclo': 3478, '3000': 1045, 'mattblaugrau': 5479, 'sdcz73': 6530, '064g': 82, 'g46': 4362, '342': 1134, '11mb1206d': 264, 'weissewgrossgeraetewaschmaschine': 7924, 'blist': 3043, 'watk': 7819, '8612': 2366, 'analog': 2706, '552': 1628, '29246': 1010, 'sharptail': 6601, 'day6': 3579, 'aluline': 2693, '6347': 1846, '207491': 795, 'bbe': 2925, '62069': 1808, '913217545': 2481, '7mm': 2237, '28743': 997, 'zwy61004wa': 8413, '913101511': 2471, 'wmf': 8140, '11mf1213d': 266, '327879': 1106, '757160': 2153, '5716': 1675, 'anzeigen': 2746, 'flusensieb': 4255, '4004470757163': 1272, '1027': 146, 'buerotechnik_unassigned_unassigned': 3122, '347914': 1144, '831__waschmaschinen__': 2301, '6mb': 1963, 'stück': 6930, '149': 453, 'xrwwde': 8308, 'wdbi': 7888, 'waschtrocknerpack': 7780, '525566': 1583, '869445': 2381, 'iq500': 4865, 'wm14q3ed1': 8079, '797009': 2223, 'dais': 3506, '554843': 1634, 'fighter': 4176, 'neongelb': 5754, 'infd64gbneonb3': 4825, '91081': 2468, 'flesh': 4238, '2in1': 1031, 'hama91081': 4568, 'wf71': 7947, 'f5e4q4w': 4085, 'l71360tl': 5171, 'zwart': 8398, 'storm': 6898, 'delfreeride': 3603, '6640125': 1897, 'ver49812': 7488, 'w668f': 7611, '590337': 1700, 'ww80k6404qw': 8263, 'addwash': 2633, 'mtra': 5682, 'executive16gb': 4037, 'transp': 7191, '268': 920, '12145': 290, 'hdo': 4646, 'bu': 3114, '10540': 170, '66x': 1915, '90983': 2462, '00090983': 9, 'wat28410': 7810, 'effizienzklasse': 3838, 'extrem': 4061, 'niedriger': 5776, 'energieverbrauch': 3955, '1633803000': 562, 'hawk': 4637, 'energy': 3958, '52cm': 1589, 'remo': 6283, '21550_flash': 819, '85671': 2349, 'ecmmd16gb102p5': 3803, 's37': 6398, 'cl00171': 3266, '324758': 1095, '283fo': 972, 'detroit': 3629, 'california': 3158, '871196': 2387, 'bauknechtwaschmaschine': 2918, 'joy': 4939, 'fassungsverm': 4122, '1134': 220, 'vollintegrierbar': 7571, 'exklusiv': 4040, 'aston': 2818, 'martin': 5468, 'vantage': 7461, '427695': 1360, 'samana': 6417, 'mysterypearl': 5716, 'cwt10r165': 3471, '10f2s': 193, '624364': 1825, 'solo_waschautomaten': 6711, 'toure': 7160, 'hardware_hardware': 4595, 'erweiterungen_pc': 3997, 'molly': 5628, 'pale': 5931, 'peach': 5974, 'wm16y891': 8122, 'wm14e220': 8039, 'farblinse': 4116, 'plano': 6046, '0020p0blb': 15, 'tws': 7288, 'nino': 5785, 'laserpointer': 5247, 'officeproducts__900computingaccessories147__unassigned': 5852, 'dtse9h': 3745, 'l73484wvfl': 5181, 'tenaya': 7075, 'hb102': 4643, 'jerry': 4921, 'gtz': 4533, '371m': 1187, 'dezz30065': 3635, '1447': 422, 'sapphire': 6435, 'wdd030': 7890, 'diversewaschautomat': 3680, 'freizeit__hollandraeder': 4297, 'legend': 5285, 'fashion': 4120, 'bloom': 3048, 'hollandraeder': 4711, '755333': 2145, 'surv': 6968, '725100': 2051, '416038': 1322, 'atx': 2831, 'tigris': 7109, '1_3_3': 699, 'nue354': 5817, 'dimensions': 3657, 'pacific': 5923, 'hartflex': 4599, 'wt2796wpm': 8238, 'speichersti': 6786, 'wae284w5': 7662, 'minne': 5591, 'u301': 7309, 'haselnuss': 4610, '61633': 1792, 'schnã': 6488, 'ppchen': 6087, '53500': 1601, 'wdb030wps': 7887, 'hardware_speichermedien_usbspeicher': 4596, 'pr': 6089, 'as6': 2800, 'wf70f5e5p4w': 7946, '1679469000': 585, 'ft4': 4328, 'wless': 8022, 'infd16gbtag3': 4823, 'speicherkart': 6768, '3siewm14q442': 1262, '27gg': 946, 'mattrot': 5485, 'stromtroppe': 6917, '71269': 2005, '814': 2265, 'd43': 3491, 'haag': 4557, 'multi90': 5691, '800': 2240, 'gentle': 4421, 'cn': 3327, '003': 16, 'blk': 3046, 'rtl': 6375, 'wot24445': 8212, 'avantixx': 2866, 'b12': 2878, 'triathlonraeder': 7222, 'ptemg': 6169, 'heist': 4657, 'ljds73': 5373, '32gabeu': 1114, 's73': 6408, '724': 2045, 'bonnie': 3061, '3330079032': 1123, '07198_usb': 88, '203gang': 786, 'cnm': 3328, 'balloon': 2899, '761c': 2160, 'sona': 6716, 'darkred': 3544, 'wm14t390': 8089, 'erweiterungen': 3996, 'culbuto': 3452, 'tim': 7111, 'xwde861480x': 8320, 'indes': 4813, '11506': 232, '1562631000': 519, 'ringset': 6327, 'kasten': 4984, '205': 788, 'tlg': 7118, '617': 1794, '200b': 751, 'zwy612': 8415, 'pter': 6171, '7k': 2234, '7464': 2102, 'l75674nwd': 5186, '279307': 940, 'verschluesselt': 7515, 'reader': 6260, 'wm14n2mi0': 8073, 'computercomputerzubehoer': 3369, '745980': 2098, 'sp016gbuf3j06v1d': 6735, 'deepblau': 3590, '489841': 1446, 'beige': 2944, 'precept': 6097, 'farbig': 4113, 'cm08hg000': 3318, '11s': 274, 'maxell': 5490, 'mbit': 5495, 'lauffaehig': 5251, 'win': 7984, 'xp': 8300, 'vista': 7551, 'os': 5901, 'abwaertskompatibel': 2601, 'euro': 4011, 'haushalts': 4622, 'elektronikwaschmaschinen': 3910, 'raid': 6238, 'fb': 4134, '74484': 2096, 'vkeh': 7558, '591': 1704, 'wm16y542': 8119, 'frontla': 4314, 'dosierempfehlung': 3703, 'natuerliche': 5739, 'mickey': 5555, 'modeaccessoire': 5617, 'taeglichen': 7012, 'gebrauch': 4394, '10351': 149, 'kontaktlinsen_einmal': 5086, 'wae28220': 7649, '1379444000': 379, 'rise': 6329, 'magwheel': 5450, 'fitness_fahrraeder_bmxraeder': 4194, '623031026': 1822, 'triest': 7224, '773317': 2183, 'w5523': 7607, 'schleuderumdrehungen': 6470, '69': 1940, '1481388000': 443, 'dacapo': 3495, '961431': 2546, 'selbstreinigender': 6564, 'kondensator': 5077, 'flusenentfernung': 4254, 'bei': 2943, 'jedem': 4917, 'trockengang': 7232, 'konstant': 5082, 'niedrigen': 5775, 'aquawave': 2777, 'programmwahl': 6153, 'memo': 5517, 'waschvollau': 7781, 'grossgeraetewaschvollautomat': 4516, 'unico': 7374, 'granitegrey': 4480, 'brilliant': 3098, '839292': 2312, '24447': 867, '781': 2194, 'a0520': 2584, 'gxb': 4544, '286197': 994, 'colorline': 3342, 'nt': 5810, 'rabeneick': 6224, 'ts': 7251, 'slate': 6668, 'matthellblau': 5484, 'swivel64gb': 6985, 'vio': 7540, 'nabendynamo': 5725, 'ltn': 5405, '409500': 1296, '1465145005': 430, 'fitness_fahrraeder_fahrradteile': 4198, '890': 2414, 'kwf': 5122, '71411': 2008, 'rowdy': 6364, '1_3_1': 697, 'ast': 2809, '130t': 358, 'vega': 7480, 'profilescratch': 6142, 'resistant': 6295, '1625926001': 559, 'damenrennrad': 3525, 'elysee': 3917, 'sti': 6876, 'itwd': 4886, '720001': 2033, '6513602440': 1877, '3s': 1258, 'toims': 7123, 'cars': 3189, 'nbsp': 5744, '2025_20251040_202510__waschen': 783, 'trocknen_toplader': 7236, '823': 2286, '123912': 300, 'lore': 5393, '361408': 1176, 'cm04co000': 3314, '08gb': 94, '192': 671, '10340': 148, 'totaler': 7156, 'kontrollsensor': 5089, 'yoda': 8333, 'pts': 6174, 'waschamschine': 7724, 'bekowmb71643pts': 2949, 'astigmat': 2813, 'pcmultimediamultimedia': 5959, 'wäsche': 8271, 'wm14q3v1': 8080, '14q3v1': 477, 'wae28347': 7654, '1497801': 463, '3inhalt': 1248, 's45': 6402, 'fp': 4279, '166x': 575, '104387': 158, 'hamahsprofpvalore8gb166x104387': 4572, 'wm14n060': 8063, '835067': 2306, '890s': 2417, 'us': 7403, 'koch': 5056, 'vorwaesche': 7585, 'hand': 4573, '914530588': 2486, 'hisen': 4697, 'wfu6012we': 7962, 'ww12k8': 8251, '148': 442, '148xr1wde': 451, '892337': 2419, '75708': 2151, '324353': 1093, 'multifocal30': 5695, 'wan280a0': 7685, 'glow': 4455, '8110': 2263, 'mielewkh271wps': 5574, 'qbc0116': 6197, '456381': 1404, 'geniess': 4417, '7244919': 2048, '05': 72, '171': 615, '9499': 2528, 'tueroeffnung': 7265, 'einfache': 3869, '76475': 2163, 'acuvue30': 2621, 'fjh1514': 4214, 'glanz': 4448, '19545': 676, 'waschmas': 7748, '11kf1313d': 253, '124141': 311, 'save2data32gb': 6442, 'lightn': 5329, '544': 1611, 'cl10005': 3288, 'way28790eu': 7850, 'pp': 6086, 'wm14k29': 8059, '196kwh': 680, 'waschentrocknenwaschmaschine': 7743, 'lecteur': 5278, 'no': 5791, 'retrofahrrad': 6309, 'old': 5856, 'moonlight': 5650, '14e44': 470, 'rza': 6385, 'sof': 6697, '389918': 1210, 'uc008': 7322, 'retai': 6304, 'lehmx32gbbeu': 5288, 'e0': 3787, 'abw': 2600, 'rtskompatibel': 6376, 'lese': 5306, 'emily': 3921, 'kontaktlinsen_kosmetisch': 5087, '294659': 1012, '778396': 2189, '94169': 2525, 'noteboo': 5805, 'hama94169flashpensmartly': 4571, 'zubehã': 8386, 'r__ram': 6220, 'phi': 6019, 'circle': 3242, 'sil': 6630, 'wa6440p': 7624, '9840': 2553, 'meine': 5511, 'individualprogramme': 4817, 'steril': 6873, 'tub': 7263, 'hygiene': 4769, 'reinigungsprogramm': 6275, 'prem': 6102, 'wm14q3e2': 8078, 'siemenswm14q3e2': 6620, '8a': 2436, '1538833000': 506, 'montana': 5645, 'velocetta': 7482, 'pieghevole': 6032, 'tageszeitanzeige': 7019, '11mr8613d': 272, '44205': 1381, 'ekmmd8gc400': 3892, '262236': 905, '419237': 1335, 'polizei': 6068, '71009': 1997, '1722783000': 619, 'wp12t447': 8221, 'fd002404': 4139, 'schlaubi': 6457, '73477': 2072, 'wvfl': 8245, 'wm14t320': 8088, '1553848000': 514, '20zoll': 807, 'l87695nwd': 5209, 'aeglavamat': 2643, 'turbowaschtrockner': 7269, '914605716': 2497, 'hausgeraete_waschtrockner_frontlader': 4617, 'lotusweiss': 5397, 'jaune': 4913, '3hoohlg472d3': 1245, 'hlg472d3': 4700, 'c0': 3140, 'action': 2614, 'team': 7052, 'meran': 5533, '222': 830, 'l74489wvfl': 5183, '70180100033': 1980, 'puky4324': 6178, '18__ohne': 657, '414510': 1318, '773040': 2182, 'electronics': 3898, '14u1': 482, 'tbs2h': 7035, '117': 241, '8900': 2415, 'touchdisplay': 7158, '664w0700': 1909, 'kd': 4992, 'hsv': 4743, 'server': 6583, 'yacuma': 8328, '3bauwacare724ps': 1229, 'wacare724ps': 7643, 'evot10051d': 4024, 'sand': 6426, 'speichermedien__speicherkarten__usb': 6776, '1435404': 419, 'silverborn': 6642, 'diamondblackmatt': 3648, 'hardtail28': 4589, '878708707__fahrrad_fahrraeder_atbu': 2402, 'mtbraeder': 5680, '3502460': 1149, 'computerarbeitsspeicher': 3367, '346048': 1138, 'monatslinse': 5641, '5814': 1690, 'iwe': 4893, '81683': 2272, '8k': 2442, 'scultura': 6521, '5000': 1502, '603_ict': 1748, 'gadgets': 4366, '526710': 1586, 'kx': 5133, 'lehzx16gbbsbeu': 5289, 'zx': 8416, '417503': 1332, 'datatr': 3554, 'wkb130wps': 8001, 'aktion8kg': 2660, 'cl10002': 3285, 'multigressiv': 5701, '710silverus': 2001, '52256': 1580, '2111': 812, 'myday': 5713, '725000': 2050, '869': 2377, '8195': 2276, 'beam': 2931, '792': 2212, 'sharkoon': 6598, 'flexi': 4240, 'ultimate': 7350, '754z': 2143, 'evot1005': 4023, 'lillesand': 5337, 'vintage': 7538, 'damenraeder3': 3520, 'v285w': 7446, 'opticland': 5874, 'wml51431ewaschmaschine': 8166, 'wml51431e': 8165, 'variables': 7463, 'schleudera': 6463, '158': 528, 'angaben': 2714, '2010': 755, 'brompton': 3101, 'h6l': 4555, 'z75': 8338, 'limited': 5345, '104390': 159, 'hama104390': 4567, 'staiger': 6839, 'oregon': 5894, '217077': 822, 'wkf131': 8006, 'wpswaschmaschine': 8229, 'wkf131wpspowerwash': 8008, '11kf1313': 252, 'aspect910': 2805, 'unisex00000000000000000000000000000238291': 7381, 'u401': 7317, 'kwa6310wa': 5120, '913101516': 2473, '14w7': 487, 'qdn1h': 6200, 'waq284a2': 7705, '123925': 303, '798144': 2225, '1721675000': 618, 'wkb': 7998, 'nue327': 5813, 'wan28120': 7689, 'iwte': 4896, '71482': 2015, '2x8gb': 1041, '492234': 1465, 'lbw': 5271, '330b': 1121, 'electric': 3896, 'cruzerglide': 3441, '2013': 757, 'erh': 3978, 'euron': 4013, 'ek': 3889, 've': 7479, 'enduro': 3938, '0s1010': 107, '7600': 2157, 'ew': 4025, '4seas': 1496, 'gelbe': 4405, '1634341000': 563, 'kids': 5012, 'fc': 4135, 'bayern': 2923, 'muenchen': 5686, '32770': 1105, 'owm': 5912, 'usm64sa3b': 7427, '346747': 1141, 'wb': 7858, 'garu': 4378, '960': 2541, '744520': 2094, 'lds': 5276, 'ito': 4884, 'directsensor': 3662, 'profieco': 6141, '30246': 1056, '194': 672, 'pharmaceuticals': 6018, 'wo': 8188, 'usbmemory': 7413, 'eucalypt': 4007, '128509': 331, 'schwar': 6510, 'b14': 2879, 'snow': 6694, 'phili': 6020, '14617': 425, 'mattbraun': 5480, 'havanna': 4633, 'leefibridge32gbusbstickmitlightninganschl': 5283, 'fã¼rios': 4353, 'rookie': 6349, 'clef': 3308, 'r2d2': 6212, 'pinst': 6038, 'wmb120': 8128, 'wpslotosweiss': 8226, '11mb1206': 263, '1360499001': 371, 'insomnia': 4836, 'l71260tl': 5170, '913': 2470, '217': 821, 'iron': 4873, '27er': 944, 'v95d': 7455, 'wm16g490': 8113, '443': 1384, 'buerobedarf': 3119, '1562657000': 521, '754': 2138, 'plating': 6051, '1688208001': 593, '3533492': 1168, '87': 2382, 'puur': 6187, 'r3t': 6216, 'circles': 3243, '566b': 1661, '9041': 2459, 'datentransferrate': 3570, 'masse': 5471, '94175': 2526, 'software__unassigned': 6705, 'ride': 6321, '505972': 1530, 'surfsticksilber': 6965, 'surfstick': 6964, 'hood': 4722, 'darkpetrol': 3542, 'dirtht': 3668, '695': 1950, '627': 1827, '390888': 1214, '605b': 1751, '796325106': 2221, 'ktm': 5101, 'avenza': 2867, '20653': 793, 'solero': 6707, 'tk': 7116, 'computercomputerdatenspeicher': 3368, 'populair': 6071, 'usa': 7404, 'teamline': 7054, 'aeamazon': 2640, 'frustfreie': 4322, 'verpackungue': 7511, '3e': 1240, '2849': 980, '531407': 1597, 'ljds50': 5372, '4gbabeu': 1490, 'wlt24440': 8026, '10915': 189, '431237': 1366, '851': 2334, 'wien': 7978, 'waq28492serie': 7703, 'varioperfectwaschvollautomat': 7467, '12108__genie': 287, '12108': 286, '530566': 1594, '797549': 2224, 'summerville': 6941, 'n7': 5720, 'iceblue': 4781, 'creamwhite': 3419, '100g': 130, '354': 1170, 'wd14h540': 7865, 'sp064gbuf2t0sv1k': 6741, 'elegante': 3901, 'schuetzt': 6502, 'verloren': 7507, 'gehen': 4400, 'kann': 4975, 'technische': 7060, 'linux': 5358, '061005__computer': 79, 'informationstechnik_speichermedien_usb': 4830, 'wmc120wps': 8138, '561709': 1651, '12u2': 348, 'hdm0nh': 4645, 'stoarge': 6888, 'limette': 5342, 'wm6yh840': 8125, 'iqdrive': 4870, 'gerade': 4424, 'flint': 4243, 'schiefergrau': 6454, '123832': 299, '6210': 1810, 'kuehlgeraet': 5106, '114969': 230, 'pietas': 6033, '28422': 974, 'absolute': 2598, 'citrus': 3246, 'l76485hfl': 5194, 'luxury': 5415, 'wm14w540': 8099, 'xwe': 8322, '71483x': 2017, '497919': 1478, 'komfortdisplay': 5063, 'grossem': 4501, 'basis': 2909, '796899': 2222, 'foldrider1': 4267, 'foldrider': 4266, 'lavamat75465tl1': 5265, 'silence': 6635, 'l75465tl1': 5184, 'ctm': 3450, 'sdddc': 6535, 'contend': 3392, '8614': 2367, 'sdcz50': 6527, '295': 1013, '1366955000': 374, 'fellow': 4164, 'zankertoplader': 8343, '913107701': 2477, 'eelectrolux': 3836, '5661591': 1660, 'sp008gbuf2u06v1b': 6732, 'u06': 7301, 'superman': 6948, 'movie': 5663, 'fd033401': 4156, 'eur': 4010, '121r': 292, '623031013': 1819, '24g60xl': 875, 'verico': 7506, '20066': 750, '722': 2043, '250': 881, '834551': 2304, 'capt': 3170, 'sharky': 6599, 'dtvp30': 3748, 'encrypted': 3933, 'white__fff': 7970, 'whistle': 7968, 'shape': 6596, '298455': 1018, 'rennraederbis1000': 6290, '348607': 1146, 'roam': 6337, '596055': 1710, 'intensivspuelen': 4848, 'vollwasserschutz': 7578, 'energieeffiz': 3946, '858350903010': 2351, 'wlg20260by': 8023, 'boelé': 3055, 'freestand': 4286, 'praèky': 6095, 'pøedem': 6194, 'plnìné': 6054, '108027': 177, '771022': 2178, 'fd005404': 4145, 'hello': 4665, 'kitty': 5032, 'kiss': 5029, 'demon': 3615, 'sdws4': 6541, 'wrls': 8231, '00579__zubehör': 23, 'aspect740': 2804, 'unisex00000000000000000000000000000238281': 7380, '257690': 897, '1621340000': 554, 'tiefeneinsteiger': 7107, 'sahara': 6414, '602240': 1745, 'calaview2': 3156, 'hw70': 4753, '1479': 441, 'sanfjord': 6430, 'dj': 3682, 'owl': 5911, 'purpur': 6186, 'linsenplatz': 5357, 'imed55': 4801, 'spheric6': 6798, 'wm14t410': 8091, 'l5468fl': 5145, 'udr': 7330, 'l5468': 5143, '19635rt': 679, '241547': 858, 'shark': 6597, '14636': 426, '8192': 2274, 'energieeffizienzklass': 3948, '858377503010': 2356, 'drive____': 3720, '__csc_cisco_hardware__': 2573, '104393': 161, 'stormgrey': 6900, 'wm14q48d': 8083, '420': 1341, '122': 294, '11kh1223d': 257, '10521300': 166, '14b21': 466, '8314': 2299, 'standwaschautomat': 6852, 'deldamenraeder8': 3599, 'eaton': 3796, 'slender': 6671, 'blackout': 3030, 'lineanthrazit': 5350, 'jetflash710': 4928, 'silverusb': 6643, 'maxx': 5493, 'wm14e428ex': 8052, 'wm14n020': 8062, 'erweit_speicherkarten': 3991, 'clear1': 3307, '1145423000': 225, 'm3': 5425, 'ausstattung': 2845, 'naar': 5723, 'keuze': 5002, 'stuk': 6923, '9220__chiavetta': 2512, 't79220': 7007, '4006': 1276, 'waw325e25': 7839, 'elektrohausgeraete_waschgeraet': 3908, 'infd64gbnoir3': 4826, 'noir': 5795, 'ww70k4': 8255, '620150__jugendraeder': 1804, '870301': 2384, 'fassungsvermã': 4126, 'ge': 4390, 'dynamic': 3782, 'dyt6122d3': 3786, 'fã¼llmenge': 4352, 'energieeffiziensklasse': 3947, 'schleudereffiziensklasse': 6467, 'jã': 4962, 'hrlicher': 4740, '8900l': 2416, 'frei': 4288, 'wã': 8270, 'hlbar': 4699, 'gerã': 4429, 'uaschemission': 7320, '61dba': 1796, 'schleudern': 6469, '78dba': 2205, 'digitaldisplay': 3654, 'aquaprotect': 2771, 'wassersicherheitssystem': 7804, 'kurzwaschprogramme': 5112, '44min': 1395, 'baumwolle': 2920, 'pflege': 6011, 'hnwt__household': 4703, 'appliances_waschen_toplader': 2755, 'ebony': 3798, '121500': 291, '545': 1613, '02038': 51, 'yazoo': 8329, 'devil': 3632, 'durable': 3765, 'ud310': 7328, 'like': 5335, 'cityzen': 3255, 'meteor': 5547, 'gry': 4526, 'genies': 4416, '480': 1435, '559326': 1641, '622': 1813, 'cremona': 3422, 'ecmmd8gd302p2': 3805, '616': 1790, 'boy': 3081, 'coaster': 3332, '366323': 1180, 'ladevolu': 5228, 'samsungwaschmaschine': 6423, 'modell': 5619, 'ww12h8400ew': 8250, '1521660000': 502, 'castello': 3193, 'ibx': 4779, 'edit': 3827, 'silberne': 6634, 'wm14n0a0': 8065, 'iqdr': 4869, '137kwh': 380, '39ltr': 1225, 'aquast': 2773, 'schl': 6455, '790w': 2210, 'speicherkartenusbstickmassenspeicher': 6771, 'carribean': 3187, '701001': 1972, 'tcr': 7038, 'carbonblack': 3176, 'racegreen': 6226, 'aquabluematt': 2762, '440168': 1378, 'monatskontaktlinse2': 5637, '51432': 1560, 'autodrive': 2851, 'auto': 2849, 'wkh270wps': 8017, '1724238000': 621, '101483': 140, 'gvw': 4540, '585': 1693, 'twc': 7275, '843': 2320, '874147': 2389, '616784': 1793, 'xo2': 8299, '77497': 2186, '327': 1103, 'ka4': 4967, 'revers': 6311, 'basi': 2905, 'cl00617': 3277, '758140': 2154, 'unwuchtkontrolle': 7398, 'ca': 3148, '85x59': 2363, '5x57': 1730, '4004470758146': 1273, '3miewda211wpm': 1253, 'wf57846p53xeg': 7943, '2er': 1026, 'batman': 2910, '112278': 216, 'waterperfect': 7816, 'op': 5867, 'racingedition': 6230, 'waw28550': 7829, 'mobilfunkzubehör__0230': 5614, 'zubehör__speicher': 8388, 'waschtro': 7773, 'holiday': 4708, 'fc7144w3': 4137, '162': 553, 'energiesparend': 3954, 'praktisch': 6091, 'exzellentem': 4064, '620013552': 1800, 'whist': 7967, '27r': 947, '44m': 1394, 'stormgreymatt': 6901, '914903236': 2504, 'waschmaschineauf': 7755, 'europalette': 4015, 'liefern': 5324, 'nivolet': 5786, '31006120': 1077, 'waschtrockenbuegelnwaschmaschinen': 7774, 'acurve': 2619, 'dx': 3775, '874909': 2393, 'cmfvy3a': 3324, 'wasserabweisend': 7795, '11mg1203d': 268, '491794': 1462, 'cl00563': 3274, 'swivel32gb': 6984, 'wd806p4sawq': 7871, '803106': 2250, '882__waschtrockner': 2410, '457443': 1405, '467019': 1418, '510s': 1550, 'bulli': 3127, 'lieferbar': 5323, '5711': 1668, 'standwaschmaschine': 6853, '757110': 2152, '914534155': 2494, '1604838002': 546, 'vuelta': 7596, 'nachfolger': 5727, 'wm14q44u': 8082, '4900': 1451, '282h0': 964, 'iga': 4787, 'igk': 4788, 'mv': 5710, 'u301api': 7310, '1466792000': 436, 'concept': 3375, '14mm': 474, '71633': 2023, 'v70': 7451, '664573': 1901, 'comfo': 3352, '670300': 1916, '24440a': 866, 'hardsoftwarezubehoercomputerzubehoer': 4587, 'l99699fl': 5218, '914535200': 2495, 'f1496ad3': 4077, '76487': 2166, '1142': 223, 'd1': 3484, 'candyaqua1142d1weiss': 3162, 'altamira': 2689, '3521482': 1160, '4005930': 1275, 'boschwab28280': 3070, 'uk': 7343, 'flag': 4220, 'bunt': 3130, '4x2': 1499, '143000': 417, '206250': 792, 'bermuda': 2972, '85881': 2359, 'spaceloo': 6745, '85943': 2360, 'eiskoenigin': 3888, 'elsa': 3916, 'tern': 7077, '305998': 1064, '833142': 2303, '863946': 2370, 'silsoft': 6640, '614572': 1784, '12317': 298, '300sl': 1051, '71941': 2028, 'ss': 6832, '621807': 1812, 'sdcz80032': 6532, 'siena': 6626, '11da1101d': 246, '14t320': 479, 'impala': 4805, 'r7t': 6218, '767466': 2172, 'lenovo': 5302, 'various': 7470, 'champion': 3217, 'ruby': 6378, 'cl00806': 3283, '85400': 2341, 'cm08co000': 3316, '1403d': 402, 'ruggedkey': 6380, 'berry': 2974, '865077': 2372, '841': 2317, 'rider': 6322, '1489305': 448, '190mb': 668, 'cayo': 3198, '20g': 804, 'magic': 5442, 'fortyfour': 4275, '40cm': 1299, '1478413001': 440, 'energieeff': 3945, 'popal': 6070, 'dutch': 3768, 'tr28': 7174, '655840': 1886, 'tfs': 7087, '6440p': 1859, 'ww70k5400uw': 8257, '894091': 2429, 'dtduo3': 3733, '3502480': 1151, 'sddd2': 6534, '20550': 789, 'sw105': 6973, 'detest': 3628, '795315111': 2219, 'veneto': 7484, 'pretec': 6113, 'disk': 3671, 'tango': 7027, 'wassermanag': 7802, '8192mb': 2275, 'videoueberw': 7531, 'technaxx': 7057, 'vip': 7544, 'interview': 4854, 'videoüberwachung': 7532, 'wmh120wps': 8149, 'pn100': 6060, 'peanuts': 5975, 'snoopy': 6693, 'fla': 4218, 'brick': 3095, 'colours': 3348, 'speichermedienspeicherkartenspeichersticks': 6782, 'wfu': 7961, '7012': 1976, 'wmo': 8172, '835260': 2307, 'chiave': 3224, 'e300': 3791, '649301': 1863, '28xxl': 1002, '950': 2532, 'unisex00000000000000000000000000000241390': 7385, 'way287w4': 7852, '1381': 381, 'comfortcontrol': 3356, 'l8fe74485': 5213, 'cl10007': 3289, 'nachkauf': 5729, '336442': 1129, 'usm32gxb': 7424, 'consumables__storage': 3386, 'supplies__optical': 6959, 'medias': 5504, '195070': 675, '754809': 2141, 'funktionswaesche': 4344, 'varioperfe': 7465, 'oranje': 5888, 'd0kw': 3483, '372303': 1188, 'api123013': 2749, 'mix': 5602, '240294': 856, 'xclusiv': 8287, 'integraloe': 4841, '49172': 1456, 'oxyplus': 5917, 'bisaugust': 3019, 'x20': 8276, '732834': 2068, '5889': 1696, 'ecocomfort': 3814, 'lotoswei': 5395, '5436021': 1610, '003002': 17, 'black____': 3027, 'pinstr': 6039, 'niedrigtemperaturwaschen': 5777, 'zeitprogramme': 8352, 'zeitsparen': 8353, 'aquacontrol': 2766, 'energieef': 3944, '914606021': 2500, 'ww70k4420yw': 8256, 'wmf120wps': 8142, 'cierra': 3240, 'damenraeder8': 3522, 'l6479afl': 5164, 'moist180': 5626, '32ba': 1109, '70810200022': 1987, 'spec91815': 6750, '7404': 2082, 'fahrraeder__mtb': 4101, '29zoll': 1022, 'lady__kettenschaltung': 5232, 'l76675wfl': 5196, '447': 1390, 'locked': 5379, 'l6347fl': 5156, 'kleingerät': 5047, 'u361k0320m4': 7316, 'darkpurple': 3543, 'm50': 5427, 'wm14n0x0': 8067, '359125000': 1172, 'genua': 4423, 'tosusb64gbhayabus': 7153, '664w0300': 1905, '2058603': 790, 'superfly': 6946, '6513612902': 1880, '835': 2305, 'fd007502': 4149, 'simpatiche': 6646, 'archiviazione': 2783, 'dati': 3574, 'portachiavi': 6075, 'bianco': 2992, 'awb510lp': 2869, 'basiccontrol': 2907, '1000rpm': 121, 'kitchen__30600homeenvironment__30605misc': 5031, 'waschvollautom': 7782, 'nova': 5807, 't200': 6997, 'scooby': 6515, 'doo': 3698, 'hanna': 4581, 'barbera': 2902, 'aspheric': 2806, 'month': 5647, 'clariti6': 3297, 'gv1510twhc3': 4539, '695w8900': 1953, 'c410': 3143, '51060': 1547, 'ww12k8402ow': 8252, '141': 407, 'wifi': 7979, 'digital': 3653, '591234': 1705, '1404604': 404, 'u361': 7314, 'sp004gbuf2u05v1h': 6731, '640': 1854, 'model': 5618, '49842': 1486, 'gb__superschneller': 4385, 'uebertragung': 7337, 'mal': 5456, 'schn': 6480, 'zwy61023ki': 8414, 'casino': 3192, 'ruff': 6379, 'dt101g3': 3728, 'cl00145': 3264, 'dekotür': 3596, '60010207': 1736, '695f': 1952, 'code': 3336, 'verriegelung': 7513, '11069503d': 203, '096': 98, 'deldamenraederbis500': 3601, '1390': 386, 'impraegnier': 4806, '870008': 2383, 'magickblack': 5445, '825468': 2293, 'crispy': 3423, '1403': 401, 'elektrogrossgeraete': 3906, 'wm14w5em': 8104, 'yllw': 8332, 'wmtecostar6bw': 8177, 'midnight': 5564, 'pc__unassigned__unassigned': 5957, 'bergerac': 2966, '874760': 2391, '341281': 1133, 'conn': 3379, 'noon': 5798, '2090905': 801, 'primo': 6119, '425832': 1359, 'cologo': 3338, '200gb': 752, '382180': 1200, 'wa14642w': 7619, 'chiavetta': 3225, '91016': 2467, 'source': 6728, 'titanium': 7115, 'ungefed': 7372, '6573642902': 1888, '393254': 1216, '1122817003': 217, 'fatt': 4132, 'tf': 7083, 'l72475fl': 5173, '367819': 1181, '608655': 1755, 'grosses': 4504, 'endezeitvorwahl': 3937, 'l89495fl2': 5212, 'rj45': 6331, 'anschlussverdoppler': 2729, '237': 851, '89495': 2431, 'quarzgrey': 6204, '1_9_3': 729, '90916': 2461, 'sirrus': 6654, '1485339': 446, 'deutschland': 3630, 'ty21': 7291, 'screaming': 6519, 'raving': 6250, 'rabbids': 6223, '63473': 1847, 'waschautomat7kg': 7733, '61014': 1763, 'waw285h0': 7832, 'shoreline': 6605, 'wm14b2e2': 8034, 'siemenswm14b2e2': 6616, '750': 2106, '0mlc': 106, 'and____': 2709, '__kgt_kingston': 2574, 'flash__': 4224, '620__usb': 1809, 'l6fb67490': 5169, '695141': 1951, 'wkh122': 8014, 'wpspowerwash': 8227, '11kh1223': 256, 'diverses_kuehl': 3678, 'gefriergeraete': 4397, 'zubehoer_kuehl': 8380, 'wan282f0': 7692, '28570': 988, 'bionische': 3015, '1246096000': 316, 'kleinkramusbsticks': 5048, 'clarity': 3298, 'couleur': 3411, '1435229': 418, 'tcp': 7037, 'tds': 7049, 'uc340': 7323, '364414': 1178, 'v95': 7454, 'deluxe': 3613, 'delhi': 3606, 'warmwasser': 7718, 'ax': 2872, 'apex': 2748, 'connect200gb': 3381, 'hollywood': 4712, 'limegreen': 5341, 'lo': 5377, '090': 95, 'himmelblau': 4692, '421273': 1346, '1514562005': 499, '300s': 1050, '568498': 1663, 'infd16gbarc3': 4819, '104245': 153, '50_50__gsm': 1538, 'zubehoer_memory': 8381, 'mk': 5603, 'siemenswm14e48ed': 6617, '708684': 1988, '1619666000': 552, 'wae2829u': 7650, '1250': 318, 'cwt10r16': 3470, 'herrenfahrrad': 4671, '165w': 568, 'sip': 6653, 'cl10004': 3287, '1229587': 296, 'cnmem': 3329, 'wkb130': 7999, '612': 1771, '126811': 324, 'traverse': 7207, 'damen00000000000000000000000000000241471': 3512, 'ls300sx032e4u': 5402, 'dtse9g2': 3744, 'l61470': 5149, '4kg': 1492, 'einbauwaschtrockner': 3863, 'art': 2793, '665w1300': 1910, '1389051': 383, 'canny': 3165, '16er': 598, 'hm': 4701, '1_8_4': 723, '20160326': 762, '1160030': 240, 'wmh122wps': 8150, 'wak83': 7680, 'posten': 6077, 'hw60': 4752, '1411n': 410, 'wdb030wcseco': 7886, '586958': 1694, 'rh53': 6318, 'sizweirad': 6658, '825': 2292, 'monet': 5643, 'jamaica': 4910, 'wak282lx': 7677, '727659': 2058, '286743': 995, 'strebel': 6911, 'hiltwein': 4691, '1485944001': 447, 'bluetezeit': 3050, 'fitness_fahrraeder_hollandraeder': 4201, '16949': 595, 'sticksilber': 6883, 'loop': 5392, 'thin6': 7094, 'wpstwindos': 8228, '11mg1203': 267, 'hausgeraetesolo_waschen_frontlader': 4618, 'frontladermiele': 4319, 'l73476wvfl': 5175, '7802': 2192, 'xec': 8289, 'l73478fl': 5176, 'lavammat': 5266, 'opisense': 5871, '29061': 1009, '455400': 1403, 'cl00334': 3267, 'bicolor': 2995, 'azur': 2874, 'wm14e425': 8051, 'ecoplus': 3818, 'portable': 6074, 'funkrufempfaenger': 4341, 'as102': 2798, 'abraracourcix': 2597, '3050019': 1061, '601094': 1741, 'l62260': 5152, 'wan28060': 7684, 'wan282ho': 7694, 'senf': 6571, 'wm14w4c1': 8098, 'dunkelblau': 3755, '51506': 1564, '690017': 1942, 'delladybikesht': 3608, '77000': 2176, '323747': 1092, '442': 1380, 'cl00600': 3276, 'bifo': 2999, '3m': 1251, 'rigid': 6325, 'gxw': 4546, 'easylock': 3795, 'sicherung': 6611, 'wichtigen': 7975, 'rettung': 6310, 'beschaedigten': 2975, 'usm16gxw': 7420, 'a6': 2588, '208672': 799, '530850': 1595, 'fuel': 4331, '06643': 83, '753005__75': 2130, 'bike26zns': 3003, '114789': 226, 'vilitas': 7536, '8gb70mb': 2440, 'waschmasch': 7749, 'ladyfullsuspensions': 5234, '14er': 471, 'mocca': 5616, 'b20': 2885, '910': 2465, 'unisex00000000000000000000000000000241383': 7383, 'pqi': 6088, '77253_flash': 2181, 'premiumpro': 6105, '4016572018974': 1284, 'waschvollautomatwa6310': 7787, '3oeoe': 1255, 'ws12t440': 8234, '216064': 820, 'eva': 4017, '16w590': 607, '4021522': 1285, '004002': 20, 'stimmrecorder': 6885, '0081': 37, '387_high': 1207, 'accessoires': 2605, '4249': 1356, 'trommelinnenbeleuchtung': 7241, 'vollwasser': 7577, 'stopp': 6892, 'en': 3929, 'fips197': 4186, '419604': 1336, 'equilibria': 3971, 'sora': 6724, 'chromo': 3235, 'sms': 6690, 'lager': 5237, '00650': 26, 'ww80j6400cw': 8260, 'z33': 8336, 'use': 7417, 'material': 5474, 'bravo': 3090, 'bra': 3083, 'ueberzeugen': 7339, 'powerpoint': 6082, 'software__job': 6704, 'career__unknown': 3180, 'lockerg3': 5381, 'secur': 6548, 'waw325v0': 7840, 'chaivetta': 3211, 'stay__chiavette': 6860, 'qualitaet': 6201, 'bestes': 2982, 'preis': 6099, 'leistungs': 5295, 'verhaeltnis': 7505, 'vertrauen': 7523, 'millionenfach': 5579, 'bewaehrte': 2987, 'format': 4273, 'pcs': 5962, 'wechselbares': 7904, 'erkannt': 3981, 'steht': 6869, 'verfuegung': 7503, 'betriebssystem': 2984, 'treiber': 7211, 'www': 8268, 'heruntergeladen': 4681, 'datatravel': 3556, '560140__kontaktlinsen': 1647, '57846': 1684, '320': 1090, 'hayabusa': 4638, 'or': 5886, 'l76475fl': 5191, '725290': 2053, 'tonga': 7128, 'carribeanblue': 3188, 'hispeed': 4698, '848745': 2327, '914530964': 2488, '255750': 890, 'panther': 5934, 'ts8gjf810': 7262, 'germany': 4428, '633904': 1845, 'adapt': 2628, 'micr': 5556, 'way28742': 7847, 'ecmmd8gsh103': 3810, 'sh103': 6592, 'catwoman': 3197, '0602': 75, 'wkh131wps': 8016, 'chamonix': 3213, 's30': 6393, 'cannondale': 3164, 'catalyst': 3195, 'micu3': 5563, '149490': 459, 'arp': 2791, 'twilight': 7279, 'gruengrau': 4522, '3521471': 1159, 'ac8': 2603, 'gef': 4396, '131128': 360, 'hotpoint': 4734, 'aqd1071d': 2760, 'wot24497': 8214, '587423': 1695, 'transpar': 7192, 'valparola': 7459, 'delrennraederbis1000': 3612, 'greed': 4493, 'l76675fl': 5195, '9901010': 2560, '1549733000': 508, '30cm': 1069, 'copper': 3403, 'deldamenraederab500': 3600, '357347': 1171, 'c29er': 3142, 'two': 7286, '283758': 967, 'waschmaschi': 7750, '411103__hartwaren_haushaltselektro_waeschepflegekuehlen_einbauwaschmaschine': 1306, '78279': 2198, '20251061__toplader': 779, 'hulk': 4748, 'marvel': 5470, '9x2': 2570, '7x1': 2238, 'wm14y59d': 8111, '20161001': 768, 'ware__laufw': 7715, 'speich__sonst': 6761, 'damen00000000000000000000000000000241472': 3513, 'just': 4960, 'elegantes': 3902, 'grossen': 4502, 'leichten': 5292, 'befestigung': 2939, 'aufgrund': 2837, 'kleinen': 5046, 'bauweise': 2922, 'ideale': 4785, 'ergaenzung': 3977, 'wie': 7976, 'neue': 5763, 'ultrabookoe': 7352, 'intel': 4847, 'sowie': 6729, 'anschluessen': 2727, 'robuste': 6339, 'benutzern': 2962, 'sicheren': 6609, 'transport': 7195, 'wohin': 8194, 'immer': 4803, 'neuen': 5764, 'bietet': 2998, 'fuenfjaehrige': 4334, 'kostenlosen': 5097, 'technischen': 7061, 'support': 6960, 'legendaere': 5286, 'zuverlaessigkeit': 8396, 'schlaufe': 6459, 'speicherkapazitaeten': 6767, 'taschenformat': 7029, 'einfachen': 3870, 'handlichen': 4576, 'mitnahme': 5600, 'wml61432': 8168, '49l': 1488, 'cl00131': 3261, 'aspire': 2808, 'b5eeg': 2889, '011': 41, 'i5': 4777, '2tb': 1035, '00300__pc': 18, 'desktop': 3626, 'lachs': 5224, '284w0': 983, 'unrivaled': 7393, 'basicline': 2908, 'praktischem': 6092, 'schutzbuegel': 6506, 'anhaengeoese': 2719, 'oese': 5847, 'anhaengen': 2718, 'steckerschutz': 6866, 'durch': 3766, 'drehmechanismus': 3713, 'lxbxh': 5418, 'tangerine': 7026, 'fd030405': 4155, 'poe': 6062, '245': 869, '584942': 1692, '416235': 1324, 'telekom': 7072, 'phones__zubehoer': 6024, 'netzbetreiber__zubehoer': 5759, 'netzbetreiber': 5758, '70610200020': 1986, 'spec95316': 6751, '5004': 1505, 'dwt': 3774, '413': 1314, '273': 932, 'grad': 4476, 'celcius': 3202, 'waschfunktion': 7745, 'chrom': 3231, '4000g2dm': 1268, '462000': 1414, '1x6': 743, 'dtvp30av': 3749, 'eset': 4001, 'av': 2861, '473776': 1421, 'wkf131wps': 8007, 'kwn7314w': 5131, 'a³': 2875, '298628': 1019, 'l69680vfl2': 5167, 'm700': 5429, 'desing': 3625, 'siemenswm16w591': 6625, 'lesegeraete': 5307, '1402d': 400, 'verbrauchsmaterial': 7496, '567661': 1662, 'suprilens': 6963, '234169': 845, '1008040545__trekkingrad_radsport_mtb_unisex': 125, 'wmi': 8153, '3191': 1086, 'galfila': 4369, 'modula': 5624, '1737085000': 623, 'quickfold': 6208, 'wd12j8400gw': 7864, 'sdix30c': 6538, 'gn6nn': 4459, 'weniger': 7935, '4212': 1345, 'zweira': 8400, '15510__fahrraeder': 511, 'kinder_unisex': 5017, 'selection': 6568, 'cl00700': 3281, 'aquac': 2763, '14u2': 483, 'vdn1h': 7478, '87375': 2388, '913217456': 2479, 'z6': 8337, 'gregster': 4495, '6671': 1912, '5ham123923': 1721, '123923': 302, '545817': 1614, '594761': 1707, '1273': 328, 'ndp': 5747, '121t': 293, '914534147': 2493, '14655': 434, 'saphire': 6434, 'boma': 3057, 'htx': 4746, 'actinum': 2613, '2972': 1016, 'stripe49063': 6915, 'buerobedarf_edv': 3121, 'zubehoer_unassigned': 8382, 'sunrise': 6943, 'bronze': 3102, '1465177001': 432, 'tandem': 7024, 'saratoga': 6437, 'komm': 5064, 'seite': 6560, 'macht': 5434, 'figu': 4177, '93100': 2514, 'wm14e197': 8037, '413404': 1316, 'girly': 4444, 'wm14q492waschvollautomat': 8085, '721508': 2040, 'retro': 6308, 'mystery': 5715, '61418': 1780, '0stickbis16gb': 110, 'cl00441': 3271, 'vtp': 7595, 'beautiful': 2932, 'taeglich': 7011, '11171401d': 211, 'transportsicherung': 7198, '553m': 1632, 'powerkiddy': 6081, 'lauflernraeder': 5252, '453945': 1402, 'ts16gjf700': 7254, '614': 1778, 'wml51211ei': 8161, 'wm6810': 8124, '210522': 810, 'nabe': 5724, 'citye': 3250, 'bike71': 3005, '12cm28zollh': 343, '00637': 25, '76680': 2169, 'xwde861480': 8319, 'wp12t227': 8219, '5468fl': 1622, 'colormaker': 3343, 'korr': 5092, 'r30': 6214, '439524': 1375, 'kiddy': 5011, 'fuchsia': 4329, 'explorer': 4045, '335h': 1128, '1683836000': 588, '772470': 2180, 'wm14q371ex': 8077, 'relay': 6281, 'vg': 7528, 'entdeck': 3960, 'alutrape': 2697, 'bau': 2914, 'garten_kfz': 4377, 'pflege_zweiraeder': 6012, '87695': 2396, 'hostsystem': 4730, 'schnittstelle': 6487, 'versenkung': 7519, 'steckers': 6865, 'nichtgebrauch': 5772, 'kompaktes': 5070, 'edles': 3831, 'hotline': 4732, 'eingeschraenkte': 3874, 'laufwerks': 5256, 'datenuebertragungen': 3573, 'zehn': 8346, 'so': 6695, 'grosse': 4500, 'aller': 2671, 'arten': 2794, 'sehr': 6554, 'stecker': 6864, 'laesst': 5235, 'versenken': 7517, 'daher': 3500, 'gut': 4537, 'benutzung': 2963, 'seiner': 6558, 'position': 6076, 'fixiert': 4213, 'verwendung': 7524, 'schutz': 6505, 'versenkt': 7518, 'schliessen': 6471, 'ordner': 5892, 'per': 5985, 'drag': 3708, 'drop': 3721, 'systemvoraussetzungen': 6990, 'hoeher': 4705, 'archivlebensdauer': 2784, 'stromversorgung': 6919, 'batterien': 2912, 'akkus': 2657, 'erforderlich': 3975, 'fat32': 4129, 'lieferumfang': 5325, 'sphere': 6796, 'wda201wpm': 7880, 'wk14d541': 7997, 'g0001': 4356, '904': 2458, 'cl00339': 3268, 'contacolor': 3388, 'cappucino': 3169, '9716': 2549, '751366': 2117, '521405': 1575, 'waterloo': 7815, '781873': 2196, 's102': 6389, 'usb8gb': 7408, 'roubaix': 6362, 'spaceloopxl': 6747, '247047': 871, 'öko': 8422, 'x10': 8274, 'champague': 3216, 'paradiso': 5940, 'm01': 5420, 'zwf81443w': 8407, 'leic': 5290, '914912305': 2506, '123961': 306, 'monatsl': 5639, 'dioptr': 3660, 'konnekt': 5078, '858367203010': 2355, '14a8': 465, 'cl10014': 3292, 'bit': 3021, 'verschluesselung': 7516, 'zertifiziert': 8361, 'ev': 4016, 'uv140': 7436, 'èierno': 8420, 'modrý': 5622, 'reverse': 6312, 'belize': 2957, 'tageskontaktlinsen': 7016, 'aspheric6': 2807, 'tread': 7210, '3aeglm79485fl': 1228, 'lm79485fl': 5376, '880': 2406, 'jetfla': 4925, 'champ': 3214, 'vollelektronik': 7566, '720093': 2034, 'fd007416': 4148, 'trooper': 7245, '290': 1006, 'summe7613317058850': 6936, 'leistungsfaehiger': 5298, 'nutzer': 5823, 'wert': 7939, 'schnellen': 6484, 'legen': 5284, 'uebertragungsgeschwindigkeiten': 7338, 'erreichen': 3984, 'erreicht': 3985, 'datentransferraten': 3571, 'optimal': 5876, 'verstaut': 7521, 'transportiert': 7196, 'weiterhin': 7928, 'zeichnet': 8347, 'hohe': 4707, 'weshalb': 7940, 'ausreichenden': 2842, 'unzaehlige': 7399, 'weitere': 7927, 'speicherintensive': 6765, '182976': 645, 'quattro': 6206, 'ehemals': 3848, 'imagi': 4798, 'cityfold': 3252, '7897eu': 2204, '396632': 1222, 'atta': 2824, '128721': 332, 'ecmmd8gsw108': 3811, 'guilty76': 4534, 'racing': 6229, 'gran': 4478, 'fondo': 4268, 'wda201': 7879, 'dyna': 3781, 'r30g2': 6215, '385000': 1205, '453730': 1401, 'druck': 3723, '78174': 2195, 'bergsteig': 2968, '26z': 924, 'lightni': 5330, 'dolphin': 3694, 'prespyopia': 6110, 'bomann': 3058, '179': 637, 'promolens': 6155, '3k': 1249, 'dunkelgruen': 3758, '1662166000': 570, 'typbezeichnung': 7293, 'kompa': 5067, '181': 642, 'keypad': 5005, 'dt2000': 3729, 'awoe': 2871, '8247': 2290, 'einbaugeraete': 3858, 'speeddrive': 6756, 'anthr': 2734, '641788': 1858, 'katzenaugen': 4988, 'magicblack': 5443, 'ano': 2723, 'fhp': 4173, '714575': 2013, '1702298000': 612, '614906': 1787, '1514562003': 498, 'lm300co032': 5375, 'superschneller': 6949, 'praktischer': 6094, 'unbesp': 7370, 'speichermed': 6773, '6204': 1807, 'a0387': 2582, 'd284f0': 3487, '314809': 1084, 'ump': 7361, 'wm14b221': 8029, '4242003674840': 1352, 'l79485fl': 5202, '733367': 2070, 'chromfb': 3234, 'york': 8334, 'ekmmd4gm510': 3891, '157500': 527, '1464988000': 429, 'rdk': 6256, 'es2': 3999, 'wm14e280': 8040, '139787': 390, 'venture': 7486, 'wae282v7': 7651, '519823': 1568, '1xsb': 744, '1160001': 236, '252787': 885, 'rams': 6246, 'aufruestung': 2839, '9580630': 2538, 'standardkatalog__elektro': 6847, 'vrc': 7591, 'ud': 7327, 'delrennraederab2000': 3611, 'wmc': 8137, '11mc1201d': 265, '09901030': 103, 'usbdrive': 7409, '16gbred': 604, '425012': 1358, 'salerno': 6415, '1678438001': 581, 'bianchi': 2991, 'impulso': 4809, 'dama': 3510, 'bianca': 2990, '11sp': 275, 'celeste': 3203, 'damenrennraeder': 3526, 'sportrad': 6816, '276742': 936, '032gb': 64, '49826': 1485, '664w0500': 1907, '668': 1913, 'l77485pfl': 5198, '914531747': 2490, '4963': 1474, '398': 1223, 'pd16gh2grunsbl': 5965, 'unity': 7388, '248521': 872, 'aq114d': 2759, '69d': 1956, 'aqualtis': 2770, 'laptop': 5246, 'externe': 4055, 'opslag': 5872, 'stuks': 6924, 'presyopia': 6112, '243767': 863, '20001': 748, 'crossdamenbis500': 3429, 'escape': 4000, 'v30': 7448, 'eucalyptus': 4008, 'cmfpla16gb': 3321, '129528': 338, 'frontgepaecktraeger': 4311, '725': 2049, 'unisex00000000000000000000000000000241582': 7387, 'hill': 4690, '764981': 2168, '750747': 2113, 'orbit': 5891, 'braunewarespeicherkarte': 3089, 'w690fwpm': 7612, 'mieletoplader': 5569, '104394': 162, '6640120': 1896, '559m': 1642, '535963': 1602, 'oxbridge': 5913, 'limone': 5346, 'mambo': 5457, '478807': 1431, 'pd2gh2grtsbbl': 5966, 'dirtbike': 3667, 'fd004410': 4144, 'princess': 6121, 'principessa': 6122, 'vision2': 7547, '69689': 1955, '402495': 1287, 'hartwaren_ebikes': 4602, 'pedelecs': 5978, 'hotpink': 4733, '84000': 2316, '799890': 2228, 'yh': 8331, 'netzwerk__unassigned__unassigned': 5761, 's372': 6399, '1492493': 456, 'wdb030': 7884, '12062': 281, '0080k0blb': 36, 'ch': 3210, 'siemenswm14t390': 6623, '70f5e0q4w': 1992, 'f5e0q4w': 4084, 'citron': 3245, 'pole': 6065, 'nera': 5757, 'waw285h0waschautomat1400': 7833, '1152378': 233, '620': 1798, '95416': 2535, 'diverge': 3676, 'cen': 3204, 'gloss': 4453, 'straße': 6908, '6583582902': 1889, 'heed': 4655, '254b': 889, 'galifa': 4370, 'unterstuetzte': 7396, 'betriebssysteme': 2985, 'x64': 8279, '914530674': 2487, '1745694000': 627, 'iwdd': 4891, '6145': 1783, '226': 834, '1255': 320, 'fd': 4138, 'diagnosis': 3644, 'ud311': 7329, 'jahresenergieverbrauch': 4907, 'wae28346': 7653, 'schleuderdrehzahlen': 6466, 'spuelstopp': 6827, 'programmsteuerung': 6152, 'bedienblende': 2935, 'klartext': 5040, 'universal': 7390, 'einfuelloeffnung': 3872, '135ue': 370, 'tueroeffnungswinkel': 7266, 'regelba': 6269, 'elek_wt__elektrogeraete': 3903, '809926': 2255, '511643': 1552, 'l76678wfl': 5197, '842500': 2319, 'eo': 3966, 'fd007407': 4147, 'ptect': 6168, 'schokolade': 6489, '492': 1464, 'advance6': 2638, 'ts16gjf790k': 7256, 'f5ebp': 4086, '4w': 1497, 'cie': 3239, 'wkh121wpsdlwpwa2': 8013, '0td': 111, '11kh1213d': 255, '10196800': 142, 'rollen': 6345, 'fahrbar': 4093, '858351203050': 2352, '431400': 1367, 'happygirl': 4585, 'happyg': 4584, 'wasserfest': 7799, '689899': 1939, 'd7i': 3493, 'faltraeder7': 4105, 'roadsign': 6336, '2sb': 1033, 'limettengruen': 5344, 'spielzeug__spielzeug': 6805, 'kinderfahrzeuge': 5020, 'wayh2790': 7855, 'tre': 7209, 'multifunktions': 5699, '1738394003': 624, '05451': 73, 'wcsa': 7860, '09901000': 102, 'haustechnik_stand': 4629, 'tosh': 7151, 'transmem': 7186, 'ws64gb': 8235, 'robust': 6338, 'stoãÿfestes': 6905, 'gummigehã': 4535, 'wasserdicht': 7797, 'wassertiefe': 7805, 'duale': 3752, 'kompatibilitã': 5073, 'zweite': 8402, 'hã': 4774, 'produkttyp': 6138, 'r__kingston': 6219, 'technology__speicher': 7066, 'sixty': 6656, 'blends': 3040, '76024': 2158, 'ww80e6404qw': 8258, '270048': 928, '894646': 2430, '28540': 985, '0305__elektrogeraete': 61, 'lindau': 5347, 'coco': 3335, '230': 840, 'siemenswm14n290mk': 6618, 'wmb61432pteuwaschmaschinebeko': 8132, 'wmb61432pteu': 8131, 'waschmaschinebeko': 7756, '61432': 1781, 'nf': 5770, 'wmb61443pte': 8133, 'maximales': 5492, '8800': 2407, 'f9': 4089, 'bds2h': 2929, 'l6478': 5162, 'cwf14w6g': 3467, '629702': 1830, 'xxfat': 8325, 'databyrån': 3552, 'suruga': 6967, '57442': 1680, '94167': 2524, 'cl10029': 3295, 'woehl': 8192, 'parabolar': 5939, 'l89379tl': 5211, 'xtraxx': 8314, 'installation': 4837, 'ã¼ber': 8418, 'batterie': 2911, 'benã': 2964, 'tigt': 7110, 'zeigt': 8348, 'ãœbertragungsstatus': 8419, 'datenmanagementsoftware': 3563, 'schnit': 6486, 'r__transcend__speicher': 6221, '445039': 1387, '461822': 1413, '49808': 1481, '684': 1931, 'volturi': 7579, '214840': 817, '750180': 2107, 'domingo': 3695, 'metallblau': 5542, 'pd32gh3grtnkr9': 5970, 'retail9': 6306, '1666471000': 572, 'gxh': 4545, 'wm14b222': 8031, '224983': 832, 'tierhaarentfern': 7108, 'wwdc': 8267, 'granite': 4479, 'wa7840': 7630, 'trueye90': 7250, 'patriot': 5951, 'pulse': 6180, '166945': 574, '11kh1203d': 254, 'sdddc2': 6536, 'l6468afl': 5158, '638000': 1851, 'lins': 5353, '325e25': 1100, '574014': 1679, 'imobile': 4804, 'xc90': 8284, 'ww80k5400ww': 8262, '220': 828, '1370': 377, '11000': 198, 'slm': 6677, 'finest': 4184, '1_5_6': 712, '1683838000': 590, '14n290': 475, '1497960000': 464, 'vcm': 7476, 'farce': 4118, '1230607': 297, 'wkf120wps': 8005, '9576670': 2536, 'lav61470bi': 5258, 'vollintegr': 7570, '305': 1059, 'vybe': 7601, 'i3': 4776, 'einsteig': 3881, '1621372000': 556, 'r7': 6217, '819536': 2277, 'bronzefarben': 3103, 'oas': 5829, '293258': 1011, '94998': 2529, '520g': 1572, 'goldfarben': 4463, '30590': 1063, '893149': 2424, 'm20': 5424, 'ljdm20': 5369, '64gbbeu': 1868, 'waschmaschinetl': 7763, 'uniq': 7376, '632': 1839, 'darkberry': 3536, 'coral': 3406, 'kwn8314f': 5132, '09787040': 100, 'iwde': 4892, '5k': 1724, '110698': 204, 'fuse': 4348, '810698': 2261, 'alurahmen': 2696, 'broadway': 3100, 'bondiblue': 3060, 'balance': 2897, 'sdcz88': 6533, 'belfort': 2956, 'visionsilikon': 7548, 'viva': 7555, 'prestigio': 6111, 'gun': 4536, 'transperent': 7194, 'presbyopia30': 6108, 'xpression': 8304, 'flowers': 4249, '1296': 339, 'ndah': 5746, '492695': 1469, 'vorsi': 7584, 'fmb18': 4260, 'meniconz': 5531, 'symbio': 6988, '892659': 2421, '71184': 2003, 'zbd': 8345, 'wacare824ps': 7644, 'sonderverhandelte': 6720, 'ble': 3038, 'chica': 3227, '01643': 45, '12t227': 347, '4gelenk': 1491, '2hybr': 1030, 'pd32gh2grpikr10': 5968, 'ubs': 7321, 'auv110': 2859, 'defender': 3593, 'elite200': 3915, 'pioneer': 6043, '99699fl': 2567, '5jahre': 1723, '10jahre': 194, 'wm14e3ed2': 8049, '25jahre': 898, 'kw16': 5116, '369': 1182, 'gravel': 4486, '893435': 2426, 'dtu30g3': 3746, 'cl10023': 3294, 'ac': 2602, '342005': 1135, '108066': 180, 'feronia': 4166, 'wf12f9e6p4w': 7942, 'wae28196': 7648, '243_16': 864, '85616': 2347, 'specialized': 6753, 'jynx': 4961, 'drtywht': 3722, 'nvy': 5826, 'hyp': 4770, 'ecmmd32gc410': 3804, 'superslim': 6953, 'galano': 4368, 'adrenalin': 2635, '590w': 1703, 'propel': 6157, 'defy': 3594, '49174': 1458, '6014': 1744, 'cwt12t27': 3473, 'haw': 4634, '16w591waschmaschine': 608, 'kwheek': 5125, 'literoutdoor': 5364, 'exii': 4038, 'dunkelsilber': 3761, 'wmh262wps': 8152, '798209': 2226, 'wis': 7991, '28441': 977, '1605446001': 550, 'trieste': 7225, '5715waschmaschine': 1674, '5715bht': 1671, '49bomann': 1487, '5715energieeffizienzklasse': 1673, 'schleuder1400': 6462, 'ja9000': 4904, '6314f': 1838, '438941': 1372, 'stickblue': 6880, '6443': 1860, '421358': 1347, 'wm14e398': 8047, 'prod_flash': 6134, 'havana': 4632, '389922': 1211, '560791': 1650, '04841': 70, '442540': 1383, 'alluminio': 2684, '336504': 1130, 'zol': 8366, '75073': 2112, 'oasys24': 5831, 'lector': 5279, '65': 1869, '385': 1204, 'rad16': 6233, '878708703__fahrrad_fahrraeder_jugendatb': 2399, 'mtbbis24': 5672, 'faehig': 4092, 'cwf14t40': 3464, '11066803d': 202, '09686500': 99, '90315': 2457, 'epic': 3968, 'fsr': 4326, 'hyper': 4771, 'steuerbar': 6875, 'smartphone': 6686, 'apps': 2756, 'ladbar': 5226, 'blackmatt': 3029, 'orbiflex': 5890, 's2a': 6392, 'ocom': 5839, '378m': 1195, 'h540': 4554, 'wmr863wps': 8175, 'tdosxl': 7048, 'wmg823wps': 8147, 'wificonn': 7980, 'ko': 5055, 'royalblau': 6368, 'lagoon': 5239, '298998': 1020, 'wm14n0': 8061, 'wm14w590': 8102, 'spirit': 6806, '20160625': 764, '124168': 314, '954': 2534, 'wolletrockenprogramm': 8199, '628121': 1829, '1054': 169, 'geared': 4393, '63479': 1849, '9900980': 2559, 'b14266a': 2881, 'ec': 3799, 'wat284euro': 7813, 'gqx': 4473, 'w5': 7606, 'g1': 4357, 'naechsten': 5734, 'generation': 4413, 'schnell': 6482, 'ideal': 4784, 'am': 2698, 'arbeitsplatz': 2780, 'hause': 4613, 'schule': 6503, 'kingstons': 5028, 'erfuellt': 3976, 'vorzuege': 7586, 'technologien': 7064, 'neueren': 5765, 'digitalen': 3656, 'dokumenten': 3692, 'praesentationen': 6090, 'klar': 5039, 'konzipiert': 5090, 'kostenguenstig': 5095, 'umstieg': 7363, 'diese': 3652, 'ueberzeugende': 7340, 'erfahrung': 3973, 'minimale': 5586, 'investition': 4857, 'erhaeltlich': 3979, 'hat': 4611, 'fuenf': 4333, 'sorgen': 6725, 'zukunftssichere': 8390, 'speicherung': 6789, '308107': 1067, '234247': 848, '1685266000': 592, 'tourensport': 7164, 'fitness_fahrraeder_tourenraeder': 4205, 'credit': 3420, 'happy': 4583, '933333': 2518, 'niner': 5783, 'dtmicro': 3740, '1699308000': 596, 'grossgeraete__waschtrockner': 4509, 'editor': 3830, '24225': 859, 'weisstoplader': 7925, 'l6470fl': 5160, '737334': 2079, 'geneve': 4414, '1563': 522, 'filerex': 4181, '1621347001': 555, 'computer__speicherkarten': 3365, 'despicable': 3627, 'torontogreymatt': 7149, 'helldogs': 4662, '334608': 1125, '3027': 1057, 'auv150': 2860, '16g': 599, 'rrd': 6371, '63233': 1841, 'pins': 6037, '79489fl': 2218, 'fd004402': 4143, 'batz': 2913, 'maru': 5469, '400792': 1280, 'glamour': 4447, 'storengo': 6897, 'sp016gbuf2u05v1k': 6734, 'is__sonstige__sonstige': 4875, '623030022': 1818, 'montpellier': 5649, '55l': 1643, '9416': 2523, '170343': 613, 'wmg820wps': 8146, '519453': 1567, 'markennovy': 5467, 'single': 6650, 'wab282eco': 7639, '5037686': 1519, '610496': 1765, 'wdd030wps': 7891, '10436960': 157, '703000': 1984, '23': 839, 'usm16ca1': 7419, 'uec': 7341, 'deckel': 3586, '351067': 1156, '199500': 683, '207744': 797, 'pantera': 5933, 'compatibles': 3360, 'seit': 6559, 'anbeginn': 2707, 'existieren': 4039, 'kleine': 5045, 'einzeller': 3883, 'laufe': 5250, 'suchten': 6933, 'uebelsten': 7332, 'boesewichter': 3056, 'vom': 7580, 'tyrannosaurus': 7295, 'napoleon': 5737, 'doch': 3690, 'irgendwann': 4871, 'ging': 4442, 'herrschaft': 4677, 'eines': 3867, 'jeden': 4918, 'superschurken': 6950, 'ende': 3935, 'meister': 5513, 'dienen': 3650, 'konnten': 5081, 'verfielen': 7500, 'latzhosentraeger': 5249, 'depression': 3618, 'aber': 2594, 'dann': 3533, 'namens': 5735, 'kevin': 5003, 'plan': 6045, 'gemeinsam': 4407, 'rebellischen': 6263, 'liebenswerten': 5322, 'bob': 3053, 'weite': 7926, 'welt': 7932, 'anfuehrer': 2712, 'seine': 6557, 'mitstreiter': 5601, 'finden': 4183, 'drei': 3715, 'begeben': 2941, 'aufregende': 2838, 'reise': 6276, 'schliesslich': 6472, 'potenziellen': 6078, 'fuehrt': 4330, 'scarlet': 6447, 'overkill': 5909, 'erste': 3986, 'weibliche': 7909, 'superschurkin': 6951, 'weltherrschaft': 7933, 'reissen': 6279, 'will': 7983, 'kalten': 4973, 'antarktis': 2731, '60er': 1757, 'weg': 7907, 'ins': 4835, 'hippe': 4695, 'london': 5390, 'dort': 3701, 'bisher': 3020, 'groesste': 4498, 'herausforderung': 4666, 'meistern': 5514, 'ad1': 2624, 'cm08cr000': 3317, 'ts32gjf790k': 7258, '26630waschmaschine': 916, '26630': 915, 'was': 7721, '151': 495, 'hwm714a3': 4756, '526050': 1585, '5cnm75051': 1717, '75051': 2108, 'grossgeraete__standgeraete__waschtrockner': 4507, 'l99699h': 5219, 'print': 6123, 'brunata': 3108, '502726': 1513, 'wm14e4g7': 8056, 'r2': 6211, 'd2': 3485, '48430': 1437, '664w0200': 1904, 'townie': 7170, 'original': 5897, 'quartz': 6203, '772377': 2179, 'petrolmatt': 6009, 'm70': 5428, 'multif': 5692, '28222': 959, 'boschwab28222': 3069, 'kaefer': 4969, '88': 2405, 'motivlinsen': 5655, 'sh102': 6591, 'superheroes': 6947, '47390': 1422, 'sdix': 6537, 'g57': 4364, 'xpand': 8301, 'securelock': 6551, '6910waschautomat': 1945, 'pd4gh2grtsbw': 5971, '874181': 2390, '4109': 1305, 'pinstripe3': 6042, 'rosey': 6353, '530096': 1593, 'comf': 3351, '251b': 884, 'l76485fl': 5193, '230617': 841, '2x10': 1037, 'l8fs86699': 5214, 'washing_machines': 7792, '62430': 1824, '15mbs': 538, '15m': 536, 'hardware__unassigned__unassigned': 4594, 'exceed': 4032, '714': 2007, 'visiontech': 7549, '31004975': 1074, '31004976': 1075, 'sticks__externe': 6882, 'datenspeicher__computer': 3566, '1512': 497, '87495': 2394, 'xfl': 8291, '17519': 631, '9312': 2515, 'l77695pfl': 5201, '675388': 1923, '71613': 2021, '1437495': 420, '824182': 2288, 'impulse': 4808, '1_8_5': 724, 'topeka': 7131, '180m': 640, '42317': 1350, '1589521000': 529, '1562194000': 518, 'professioneller': 6140, '5yw': 1731, '612462': 1775, 'prob': 6130, '1492509': 457, '701002': 1973, '4242002828022': 1351, 'waschvollautomatwae28426oeoe': 7788, '1301009': 356, 'automatic': 2853, 'reisenthel': 6277, 'bikebasket': 3006, '484984': 1438, 'tange': 7025, '125': 317, 'leise': 5293, 'direktantrieb': 3665, '874865': 2392, '590__festplatten__cruzer': 1702, '409914': 1298, '508591': 1536, 'iq100': 4863, 'summe7613317354341': 6938, 'xs': 8309, 'seid': 6555, '14n2e1': 476, 'lovely': 5398, 'vex': 7525, '3samwf70f5e5p4w': 1259, 'ecodrive': 3815, 'ribbons': 6320, 'wm14': 8028, 't320': 6999, 'cl00344': 3269, 'conta': 3387, '4096mb': 1297, 'antivirus': 2740, 'transonic': 7190, 'replica': 6293, '1497618000': 462, 'vcf': 7475, 'wayh8740': 7857, 'allergiker': 2674, 'fei': 4162, 'wmh261wps': 8151, '79064gb': 2208, '289248': 1000, 'wor20156': 8206, '11279604d': 218, 'kombigeraet': 5061, 'l76474efl': 5190, '49822': 1484, 'nachtblau': 5733, 'sensofresh': 6576, 'aquastopp': 2775, '14g7': 473, 'qdn0h': 6199, '3daedwdcv701pc': 1239, 'dwdcv701pc': 3773, 'ju': 4941, '9001003': 2451, '67490': 1922, '251505': 883, '6312': 1836, 'kf': 5006, '20251040__waschmaschine': 777, 'funmax': 4345, 'midnightbluematt': 5565, 'wcswaschmaschine': 7861, 'topladereek': 7136, '5715bomann': 1672, 'aquaclear': 2764, 'airone': 2654, '009000__edv_edv': 38, 'u302k0160m4': 7312, 'camry': 3159, '8050': 2251, 'standalone': 6844, 'load': 5378, 'mpge': 5665, '1418312': 412, 'sauber': 6439, 'geht': 4402, '370938': 1185, 'wap': 7695, '28480': 979, '374m': 1191, 'kwn7314fwaschautomat': 5130, 'zanker7': 8342, '554237': 1633, '250740': 882, 'empress': 3925, 'fd025505': 4154, 'pencase': 5983, 'correction': 3408, 'fluid': 4253, '4004055': 1271, 'ljdp10': 5370, '32ggcrbeu': 1117, '417049': 1328, '265332': 913, '177554': 636, '14t3g0': 480, 'cl00598': 3275, 'multifoc': 5693, '6cl': 1957, 'intenso4gbusbstickrainbowline': 4850, 'bekowml51432meu': 2950, '2d': 1024, 'bechtle': 2933, '014101012__bechtle': 42, 'intern_bueromaterial_give': 4852, 'aways': 2868, '8564p': 2348, 'b1486': 2882, '614019642': 1779, 'donna': 3696, '9198': 2509, '3miewmf111wps': 1254, 'telekommunikation': 7073, 'mobiltelefon': 5615, '4000g2': 1267, '3blowdt6335': 1233, '310300': 1082, 'dri': 3716, '71663': 2025, 'watprime652di': 7822, '206821': 794, '14w8': 488, 'tdn0h': 7044, 'sram': 6831, 'autom': 2852, 'fs1517': 4324, '19550': 677, 'freizeit__rennraeder': 4301, '496': 1473, 'candygow496d': 3163, '08005050__weiãÿe': 93, 'ware__groãÿelektro__waschtrockner': 7713, 'noname': 5797, '0gb': 105, 'ot3098': 5903, '10803': 179, '687713': 1937, 'express': 4046, 'sp032gbuf2x21v1k': 6738, 'x21': 8277, '3762': 1193, '7001': 1968, 'ventura': 7485, '28396': 969, '104065': 152, 'a0vw': 2586, 'siemenswm14q342': 6619, 'ft': 4327, 'emerald': 3920, 'optic': 5873, '75670': 2149, 'grossgersolo_waeschepflege_wa': 4517, '7925601': 2214, 'trueye180': 7248, 'abverkauf': 2599, 'lagerwar': 5238, 'musterstück': 5709, 'pinguin': 6035, '395_niet': 1220, 'toegewezen': 7122, '8000': 2241, '1590503000': 532, 'wmb71632': 8136, 'eye²vison²multi': 4075, '183234900': 647, '0262': 56, 'spore': 6810, 'hell': 4659, 'raiser': 6242, '4370': 1370, '5gg': 1719, 's1': 6387, '111t': 212, '386': 1206, 'as107': 2799, 'cwf14k21waschmaschine': 3463, 'haushaltsgrossgeraete_waschmaschinen_constructa': 4627, 'on': 5861, 'fleur': 4239, '3bekwml15126mne': 1232, 'wml15126mne': 8159, '283f0': 971, '8500': 2331, 'connectivity': 3383, '227356': 836, 'attaché': 2827, 'tf10': 7084, 'dell': 3607, '61632': 1791, '14w40': 484, 'made': 5436, '2859iwpmre': 993, 'edel': 3823, '2859i': 991, 'softtronic': 6701, '7010': 1971, '51612': 1566, 'royalbluematt': 6369, 'bauk': 2915, '73': 2060, 'khe': 5008, 'anschlag': 2726, '821795': 2283, 'santiago': 6432, 'diamant': 3645, '240937': 857, '9614': 2544, '818819': 2273, '515137': 1565, '1678502001': 582, 'blackmamba': 3028, '51456': 1561, 'wmx127wps': 8182, 'true': 7246, '1389064': 384, 'jetflash780': 4929, '845220': 2324, '58474': 1691, 'kakcf': 4971, 'schwa': 6509, 'uc510': 7325, '690f': 1943, '11kh2703d': 260, 'l5468fla': 5146, '903': 2456, '419': 1334, '3samww90k4420yweg': 1260, 'ww90k4420yw': 8266, '6840': 1932, 'anyroad': 2743, '11g': 249, 'waschmittel': 7764, 'ressourcen': 6296, 'af5': 2648, 'q4w': 6196, 'wf7af5ecq4w': 7951, 'wak28220': 7672, '119947': 245, '1411': 409, 'dh3q': 3639, 'aktuell': 2662, 'alivio': 2667, 'flow': 4248, '1_1_4': 687, '14w65': 486, 'classic65': 3302, 'olive': 5859, 'heinrich': 4656, 'speicherstck': 6785, 'schluessenanhaenger': 6477, 'matie': 5476, '75279': 2128, 'fusion': 4349, '1680612000': 587, 'xpres': 8303, 'mimobot': 5581, '544276': 1612, '1712738000': 616, 'woehlk': 8193, '2k': 1032, 'cfa': 3209, '3blownf74421we30': 1234, 'wnf74421we30': 8186, 'sp032gbuf2m01v1s': 6737, 'l9ws99öko': 5221, 'bridge': 3096, 'perfekte': 5987, 'spezie': 6793, '326820': 1102, 'sp064gbuf3j50v1t': 6743, '61215': 1772, '913101515': 2472, 'hedonic': 4654, '00090': 8, '740617223101': 2083, '256757': 893, '801002': 2244, '253477': 887, '8014': 2246, 'schneeflocken': 6481, 'antibakteriell': 2739, '95uec': 2540, '845mm': 2325, '610mm': 1768, '1261d1': 322, '124127': 310, 'kb570': 4990, '035': 65, '200x': 753, 'oakland': 5828, 'carbonitegrey': 3177, 'mädchen': 5717, '1298226': 340, 'zeligone': 8357, '685428': 1936, '623836': 1823, '653454': 1883, 'wear30': 7902, 'mainau': 5451, 'cl10015': 3293, 'essential': 4002, '1_3_2': 698, 'usm32we': 7426, 'trk': 7228, 'nb': 5743, 'toplade': 7133, 'rojo': 6344, '383885': 1201, 'l73484v': 5180, 'l60260sl': 5148, '572635': 1678, '28690': 996, 'oe': 5842, 'logixx': 5386, 'haushaltswaren': 4628, 'ts32gjf710spe': 7257, '279753': 943, '870315': 2385, '520s': 1573, 'usm32sa3': 7425, 'lokohwd': 5388, 'l98485fl': 5215, '94141': 2522, '533077': 1599, '709398': 1989, 'smeg': 6687, 'slb': 6670, 'sizwkinderrad20rotatbkin': 6659, '20z': 806, 'ferrari': 4167, '812970': 2264, 'calais': 3155, 'romeo': 6348, 'rom': 6347, 'herr': 4668, 'xsf': 8310, 'wheels': 7964, 'mielew194wcs': 5570, 'crxx': 3442, '148xrwwde': 452, '75260': 2127, 'ares': 2788, 'tp': 7171, 'pd2gh2grtsbol': 5967, 'wm14w570': 8101, 'wasserm': 7801, 'turquoise': 7271, 'dyt': 3785, '60101': 1740, '478369': 1429, '879346': 2404, 'spicy': 6799, '28120': 954, '246666': 870, 'wf81f5e5p4w': 7952, '50mg': 1543, '446': 1388, '27058': 929, 'spuelen': 6826, 'tie': 7101, 'b14266': 2880, '528710': 1587, '807326': 2253, '75054': 2109, '277472': 937, 'capitan': 3167, '579776': 1686, 'rou': 6361, '50cn': 1539, '277498': 938, '1699320000': 597, '279416': 941, 'entry': 3964, 'j20': 4901, 'rd5': 6255, 'aa': 2589, 'kurzwaesche': 5111, 'driv': 3717, '98711': 2556, '85880': 2358, 'u202w0080e4': 7306, '115mb': 235, '399059': 1224, 'ak': 2656, '5400': 1607, 'ow': 5910, '20253040__stand': 780, '28327': 966, '16gxl': 606, 'wa74': 7626, '2sd': 1034, 'x64gb': 8280, '2829': 962, 'transmemor': 7187, '91483x': 2501, 'cmfvygt3a': 3325, '06651': 85, 'steppenwolf': 6871, 'haller': 4562, 'shadow': 6594, 'signalorange': 6627, '419639': 1337, 'darkmint': 3541, 'braunewarecomputerzubehoer': 3088, '841751': 2318, 'dampf': 3528, 'dxoa': 3777, 'q49hc3': 6195, '400628': 1277, '3524480': 1165, '70f5': 1991, 'e0q4w': 3788, '592b': 1706, '452618': 1399, 'l87685': 5208, '1490480': 454, 'dualdrive': 3751, '298426': 1017, '623031025': 1821, '45s': 1409, '3522481': 1163, 'skt79221': 6662, '1421329': 414, 'wnf': 8185, '7442': 2093, 'we30': 7900, '50403040__flash': 1521, '5717': 1676, 'aoa6': 2747, 'smileyworld': 6689, 'sw100': 6972, 'endezeitvorwah': 3936, '576280': 1682, '71612': 2020, 'buerobedarf__bueromaterial__06': 3120, '234197': 846, 'dewey': 3634, 'prints': 6124, '61483': 1786, '858494': 2357, '2027': 784, 'wm14w740': 8108, '73479': 2074, '74147': 2087, 'ordu': 5893, 'm15': 5422, 'carb': 3174, 'teal': 7051, '380595': 1198, '13582': 369, '20161231': 769, 'trocknen_waschmaschinen_waschmaschinen': 7238, 'sammelwarengruppe': 6419, 't07': 6995, 'uv128': 7434, 'freak': 4282, 'jugendfahrraeder': 4947, 'atbs': 2820, 'schulraeder': 6504, 'sicherheit': 6610, 'xw861480': 8317, 'herfag': 4667, '913217544': 2480, '701004': 1975, '602k': 1747, '348100': 1145, '590__festplatten': 1701, '408840': 1295, '235x': 850, 'lavamat51260tl': 5263, 'mielewkb130wps': 5572, 'konsul': 5083, '8381': 2310, 'cl10003': 3286, 'bt7': 3111, '97691': 2551, '1_9_2': 728, '1589534000': 530, 'l6478afl': 5163, '28590': 990, '2790': 939, 'wm14t3s30': 8090, '613755': 1777, 'fr': 4280, 'handel': 4574, 'service': 6585, 'hippchen': 4694, 'miru': 5596, 'cmfsv3b': 3323, 'chewbaccaoe': 3223, '108189': 182, 'wf70f5e2q4w': 7945, 'cl00502': 3272, 'rubber': 6377, '6x': 1965, '10700000089': 174, '00__200__1070__nicht': 39, 'belegt__spielwaren__kinderfahrzeuge': 2955, 'cm04ob000': 3315, 'his': 4696, 'boschway287e25': 3072, 'cl00164': 3265, '14g6': 472, 'tdm2nh': 7043, '11200': 214, 'summe7613317058843': 6935, '740': 2081, 'unisex00000000000000000000000000000241367': 7382, '123919': 301, 'sty': 6927, '795383': 2220, '3lgef14u2tdh1nh': 1250, 'f14u2tdh1nh': 4079, '507916': 1535, 'titanite': 7114, 'waw28590': 7830, '5014359': 1511, '80101110__usb': 2245, 't400': 7001, '664648': 1902, '00123924': 13, '18642': 652, '9000349': 2448, '40248': 1286, '753300': 2132, '752050__75': 2125, 'mtbfullsuspension': 5673, '3533470': 1166, '1058419': 172, 'nue130': 5811, '794720': 2216, '3boswat28320': 1236, '28090': 952, '70__kinderfahrzeuge': 1990, '74122': 2086, '10_101': 191, '3po': 1257, '561883': 1652, 'd300encrypted': 3490, '9578890': 2537, 'caadx': 3149, 'xc30': 8283, '4006752': 1279, '5460fl': 1619, 'rebels': 6264, 'dtmc3': 3738, '432276': 1368, '85952': 2362, 'aeres': 2645, 'ama': 2699, 'k02': 4963, 'vollelektro': 7565, '4242003676219': 1353, 'font': 4269, 'l76269tl3toplader': 5188, '913217047': 2478, 'pre': 6096, '108028': 178, '41541': 1321, '00051': 6, 'imap': 4799, 'wd8ak5400ow': 7872, '6543': 1885, '893': 2422, 'eqp': 3970, 'konbike': 5076, 'ket': 4999, 'cedar': 3201, '787865': 2201, '51411': 1558, 'ei': 3849, 'curzer': 3455, '96140': 2545, 'trueye30': 7249, '5970750': 1711, 'w95f64vi': 7616, '275971': 935, 'ww80k6404sw': 8264, '206105': 791, 'cadiz': 3152, 'head': 4649, '933344': 2519, 'hydracle': 4765, 'wor20155': 8205, '650mm': 1873, 'chromosilver': 3236, 'lc300b032': 5273, 'sng': 6692, '400x': 1283, 'kein': 4995, 'dachcode': 3496, 'alltag': 2682, 'freizeit': 4292, 'ener': 3942, '878708708__fahrrad_fahrraeder_trekkingraeder': 2403, '1492920': 458, 'wa14653': 7620, '28250__haushaltsgeraete_elektro': 960, 'sc': 6444, '70f5e5p4': 1993, '242721': 862, '5056': 1528, '64cb': 1865, '892045': 2418, '39': 1213, '1489727': 449, 'holland': 4709, '839946': 2313, 'countryline': 3413, 'france': 4281, 'nue272': 5812, 'schluessel': 6474, '851974': 2338, 'iw': 4888, '580310__gesperrt': 1688, '49814': 1483, '701843': 1981, 'wp12t497': 8222, 'wae28326': 7652, 'angebot': 2715, 'prospector': 6160, '32bb': 1110, 'fd021405': 4153, 'schoolmax': 6492, 'darkgreymatt': 3540, 'readyboost': 6262, 'eingabestift': 3873, '1679307000': 583, '485488': 1441, 'vol': 7560, 'elektrisches': 3904, 'kwn7314f': 5129, 'sa': 6411, 'sp12': 6744, '7516003': 2121, 'cl00138': 3263, '521537': 1578, 'emonda': 3923, 'alr': 2687, '6583592902': 1890, 'wm14e48ed': 8054, '104': 150, 'memoriescable': 5521, 'telephony': 7074, 'gps': 4471, 'phone': 6022, '308536': 1068, 'bergst': 2967, 'bergsteige': 2969, '09945380': 104, 'mini3': 5584, 'way28743': 7848, 'wm16w7a1': 8118, 'wdw85140': 7896, '486232': 1443, 'ok': 5855, '308000': 1066, 'cl00658': 3279, '310': 1073, 'wml51231ewaschmaschine': 8164, 'wml51231e': 8163, '345900': 1137, 'straitline': 6907, 'blomberg': 3047, 'montegoblack': 5646, 'damen00000000000000000000000000000241473': 3514, '7508003': 2115, 'papilio': 5938, '1207': 282, '0710012': 87, '81425': 2267, 'bauknechtwatplatinum42bw': 2919, 'cwf14w6d': 3466, 'wcswaschmaschinea': 7862, 'l6': 5147, '70vfl': 1994, 'l85475sl': 5205, 'zwf71663w': 8406, 'dimensions6': 3658, 'wmb120wps': 8130, '670565': 1917, '90890': 2460, 'eighty': 3852, '10824': 183, 'alien': 2666, 'cruk': 3437, 'unicorn': 7375, 'wf8af5e0q4w': 7955, 'samsungwf8af5e0q4weg': 6424, 'strider': 6913, 'klassische': 5042, 'monate': 5634, 'wm14e2g0': 8042, 'summe7613317055705': 6934, 'lfice': 5317, '064': 80, 'progressive': 6154, 'dunkeloliv': 3759, '52146': 1576, '1_6_7': 718, 'exo': 4041, 'swi': 6978, 'viol': 7541, 'ww60j3283lw1eg': 8254, 'ww300': 8253, 'sensocare': 6574, 'quick': 6207, 'collection': 3337, '0080g2blb': 35, 'c008': 3141, '1497617000': 461, '281513': 955, 'se9h': 6544, '827535': 2295, '10436950': 156, 'sen': 6570, '5630760': 1656, 'sz': 6991, 'ativa': 2822, '5__hardware': 1714, 'ons__memory': 5865, '133320': 364, 'athabasca': 2821, 'sortiert': 6727, 'wenn': 7936, 'lb': 5270, 'umstellen': 7362, 'vim': 7537, 'jetflash380': 4927, 'torisch': 7147, 'jf700': 4933, '85951': 2361, 'pcpcsonstiges': 5961, '90016': 2453, 'allez': 2676, 'dsw': 3725, 'brsh': 3106, 'tarblk': 7028, '16gb__usb': 603, 'vollwaschtrockner': 7576, 'hx': 4758, '350mb': 1155, '180mb': 641, 'infd8gbneonbl': 4828, 'infd8gbneonb': 4827, 'einbaugeraet': 3857, '430827': 1365, 'blaze': 3037, '444791': 1386, 'rh48': 6317, 'wkd130wps': 8003, 'wat28420': 7811, '1397': 389, 'standgeraet': 6850, '60cm': 1756, '810991': 2262, 'u302r0320mf': 7313, 's1000': 6388, 'encry': 3931, 'lm300cb032': 5374, 'honululu': 4720, '760b': 2159, '620039172': 1801, '26youtback': 923, '021g': 54, '361754': 1177, 'klúè': 5050, '721136': 2038, '75056': 2110, 'shame': 6595, 'prismenballast': 6125, 'monat': 5633, 'wat28390': 7809, '253865': 888, 'piccadilly': 6028, 'l76475wfl': 5192, '134': 367, '3siewm14q342': 1261, '8142': 2266, 'gates': 4379, 'protection': 6162, '7mbs': 2236, '422298': 1349, '98709': 2555, 'f1296ndah': 4076, '227445': 837, 'morado': 5652, 'topsy': 7138, 'polarweiss': 6064, '419640': 1338}\n"
     ]
    }
   ],
   "source": [
    "print(count_vec.vocabulary_)"
   ]
  },
  {
   "cell_type": "markdown",
   "id": "aabf7b43",
   "metadata": {},
   "source": [
    "#### Split data into train and test parts"
   ]
  },
  {
   "cell_type": "code",
   "execution_count": 17,
   "id": "4d10b702",
   "metadata": {},
   "outputs": [],
   "source": [
    "X = bow\n",
    "y = df['product_group']"
   ]
  },
  {
   "cell_type": "code",
   "execution_count": 18,
   "id": "681c3ff8",
   "metadata": {},
   "outputs": [],
   "source": [
    "from sklearn.model_selection import train_test_split"
   ]
  },
  {
   "cell_type": "code",
   "execution_count": 19,
   "id": "008084d9",
   "metadata": {},
   "outputs": [],
   "source": [
    "X_train, X_test, y_train, y_test = train_test_split(X, y, test_size=0.3, stratify=y)"
   ]
  },
  {
   "cell_type": "code",
   "execution_count": 20,
   "id": "a1e6c848",
   "metadata": {},
   "outputs": [
    {
     "name": "stdout",
     "output_type": "stream",
     "text": [
      "NUMBER OF DATA POINTS IN TRAIN DATA : 5598\n",
      "NUMBER OF DATA POINTS IN TEST DATA : 2400\n"
     ]
    }
   ],
   "source": [
    "print(\"NUMBER OF DATA POINTS IN TRAIN DATA :\", X_train.shape[0])\n",
    "print(\"NUMBER OF DATA POINTS IN TEST DATA :\", X_test.shape[0])"
   ]
  },
  {
   "cell_type": "markdown",
   "id": "32c2dbf7",
   "metadata": {},
   "source": [
    "#### Train a Navie Bayes model for Product classification"
   ]
  },
  {
   "cell_type": "code",
   "execution_count": 24,
   "id": "57819a86",
   "metadata": {},
   "outputs": [],
   "source": [
    "from sklearn.naive_bayes import MultinomialNB"
   ]
  },
  {
   "cell_type": "code",
   "execution_count": 25,
   "id": "102ad32c",
   "metadata": {},
   "outputs": [],
   "source": [
    "model = MultinomialNB().fit(X_train, y_train)"
   ]
  },
  {
   "cell_type": "code",
   "execution_count": 26,
   "id": "882116b5",
   "metadata": {},
   "outputs": [],
   "source": [
    "y_pred = model.predict(X_test)"
   ]
  },
  {
   "cell_type": "code",
   "execution_count": 27,
   "id": "1ef68f1f",
   "metadata": {},
   "outputs": [],
   "source": [
    "with open('model.classification', 'wb') as f:\n",
    "    pickle.dump((count_vec, model), f)"
   ]
  },
  {
   "cell_type": "code",
   "execution_count": 28,
   "id": "573d6837",
   "metadata": {},
   "outputs": [],
   "source": [
    "from sklearn.metrics import accuracy_score\n",
    "from sklearn.metrics import classification_report\n",
    "from sklearn.metrics import f1_score"
   ]
  },
  {
   "cell_type": "code",
   "execution_count": 35,
   "id": "d50df5f7",
   "metadata": {},
   "outputs": [
    {
     "name": "stdout",
     "output_type": "stream",
     "text": [
      "Naive Bayes Train Accuracy - 0.9975\n"
     ]
    }
   ],
   "source": [
    "accuracy = accuracy_score(y_test, y_pred)\n",
    "print(\"Naive Bayes Accuracy -\",accuracy)"
   ]
  },
  {
   "cell_type": "code",
   "execution_count": 36,
   "id": "e19af7a5",
   "metadata": {},
   "outputs": [
    {
     "name": "stdout",
     "output_type": "stream",
     "text": [
      "Naive Bayes F1 score - 0.9975013614444141\n"
     ]
    }
   ],
   "source": [
    "f1 = f1_score(y_test, y_pred, average=\"macro\")\n",
    "print(\"Naive Bayes F1 score -\",f1)"
   ]
  },
  {
   "cell_type": "code",
   "execution_count": 31,
   "id": "d2e6c09e",
   "metadata": {},
   "outputs": [
    {
     "name": "stdout",
     "output_type": "stream",
     "text": [
      "                 precision    recall  f1-score   support\n",
      "\n",
      "       BICYCLES       1.00      0.99      1.00       600\n",
      " CONTACT LENSES       0.99      1.00      1.00       600\n",
      "     USB MEMORY       1.00      1.00      1.00       600\n",
      "WASHINGMACHINES       1.00      1.00      1.00       600\n",
      "\n",
      "       accuracy                           1.00      2400\n",
      "      macro avg       1.00      1.00      1.00      2400\n",
      "   weighted avg       1.00      1.00      1.00      2400\n",
      "\n"
     ]
    }
   ],
   "source": [
    "print(classification_report(y_test, y_pred))"
   ]
  },
  {
   "cell_type": "markdown",
   "id": "99544b8e",
   "metadata": {},
   "source": [
    "#### Plot Confusion, Recall and Precision Matrix"
   ]
  },
  {
   "cell_type": "code",
   "execution_count": 37,
   "id": "038485a4",
   "metadata": {},
   "outputs": [],
   "source": [
    "from sklearn.metrics import confusion_matrix\n",
    "import seaborn as sns\n",
    "def plot_confusion_matrix(y_test, y_pred):\n",
    "\n",
    "    C = confusion_matrix(y_test, y_pred) #confusion_matrix\n",
    "    R =(((C.T)/(C.sum(axis=1))).T) #recall_matrix\n",
    "    P =(C/C.sum(axis=0)) #precision_matrix\n",
    "    \n",
    "    labels = [1,2,3,4]\n",
    "    \n",
    "    #representing_C_in_heatmap_format\n",
    "    print(\"-\"*40, \"Confusion Matrix\", \"-\"*40)\n",
    "    plt.figure(figsize=(20,7))\n",
    "    sns.heatmap(C, annot=True, cmap=\"YlGnBu\", fmt=\".3f\", xticklabels=labels, yticklabels=labels)\n",
    "    plt.xlabel('Predicted Class')\n",
    "    plt.ylabel('Original Class')\n",
    "    plt.show()\n",
    "    \n",
    "    #representing_P_in_heatmap_format\n",
    "    print(\"-\"*40, \"Precision Matrix (Columm Sum=1)\", \"-\"*40)\n",
    "    plt.figure(figsize=(20,7))\n",
    "    sns.heatmap(P, annot=True, cmap=\"YlGnBu\", fmt=\".3f\", xticklabels=labels, yticklabels=labels)\n",
    "    plt.xlabel('Predicted Class')\n",
    "    plt.ylabel('Original Class')\n",
    "    plt.show()\n",
    "    \n",
    "    #representing_R_in_heatmap_format\n",
    "    print(\"-\"*40, \"Recall Matrix (Row Sum=1)\", \"-\"*40)\n",
    "    plt.figure(figsize=(20,7))\n",
    "    sns.heatmap(R, annot=True, cmap=\"YlGnBu\", fmt=\".3f\", xticklabels=labels, yticklabels=labels)\n",
    "    plt.xlabel('Predicted Class')\n",
    "    plt.ylabel('Original Class')\n",
    "    plt.show()"
   ]
  },
  {
   "cell_type": "code",
   "execution_count": 38,
   "id": "54c47f3d",
   "metadata": {},
   "outputs": [
    {
     "name": "stdout",
     "output_type": "stream",
     "text": [
      "---------------------------------------- Confusion Matrix ----------------------------------------\n"
     ]
    },
    {
     "data": {
      "image/png": "[encoded data removed]",
      "text/plain": [
       "<Figure size 1440x504 with 2 Axes>"
      ]
     },
     "metadata": {
      "needs_background": "light"
     },
     "output_type": "display_data"
    },
    {
     "name": "stdout",
     "output_type": "stream",
     "text": [
      "---------------------------------------- Precision Matrix (Columm Sum=1) ----------------------------------------\n"
     ]
    },
    {
     "data": {
      "image/png": "[encoded data removed]",
      "text/plain": [
       "<Figure size 1440x504 with 2 Axes>"
      ]
     },
     "metadata": {
      "needs_background": "light"
     },
     "output_type": "display_data"
    },
    {
     "name": "stdout",
     "output_type": "stream",
     "text": [
      "---------------------------------------- Recall Matrix (Row Sum=1) ----------------------------------------\n"
     ]
    },
    {
     "data": {
      "image/png": "[encoded data removed]",
      "text/plain": [
       "<Figure size 1440x504 with 2 Axes>"
      ]
     },
     "metadata": {
      "needs_background": "light"
     },
     "output_type": "display_data"
    }
   ],
   "source": [
    "plot_confusion_matrix(y_test, y_pred)"
   ]
  },
  {
   "cell_type": "markdown",
   "id": "54526d39",
   "metadata": {},
   "source": [
    "#### Map a predicted class to every row for checking the model output"
   ]
  },
  {
   "cell_type": "code",
   "execution_count": 25,
   "id": "65568699",
   "metadata": {},
   "outputs": [
    {
     "data": {
      "text/html": [
       "<div>\n",
       "<style scoped>\n",
       "    .dataframe tbody tr th:only-of-type {\n",
       "        vertical-align: middle;\n",
       "    }\n",
       "\n",
       "    .dataframe tbody tr th {\n",
       "        vertical-align: top;\n",
       "    }\n",
       "\n",
       "    .dataframe thead th {\n",
       "        text-align: right;\n",
       "    }\n",
       "</style>\n",
       "<table border=\"1\" class=\"dataframe\">\n",
       "  <thead>\n",
       "    <tr style=\"text-align: right;\">\n",
       "      <th></th>\n",
       "      <th>predicted</th>\n",
       "      <th>actual</th>\n",
       "      <th>result</th>\n",
       "    </tr>\n",
       "  </thead>\n",
       "  <tbody>\n",
       "    <tr>\n",
       "      <th>5245</th>\n",
       "      <td>CONTACT LENSES</td>\n",
       "      <td>WASHINGMACHINES</td>\n",
       "      <td>0</td>\n",
       "    </tr>\n",
       "    <tr>\n",
       "      <th>13</th>\n",
       "      <td>BICYCLES</td>\n",
       "      <td>WASHINGMACHINES</td>\n",
       "      <td>0</td>\n",
       "    </tr>\n",
       "    <tr>\n",
       "      <th>7451</th>\n",
       "      <td>CONTACT LENSES</td>\n",
       "      <td>BICYCLES</td>\n",
       "      <td>0</td>\n",
       "    </tr>\n",
       "    <tr>\n",
       "      <th>4710</th>\n",
       "      <td>CONTACT LENSES</td>\n",
       "      <td>USB MEMORY</td>\n",
       "      <td>0</td>\n",
       "    </tr>\n",
       "    <tr>\n",
       "      <th>4841</th>\n",
       "      <td>CONTACT LENSES</td>\n",
       "      <td>BICYCLES</td>\n",
       "      <td>0</td>\n",
       "    </tr>\n",
       "    <tr>\n",
       "      <th>6616</th>\n",
       "      <td>WASHINGMACHINES</td>\n",
       "      <td>WASHINGMACHINES</td>\n",
       "      <td>1</td>\n",
       "    </tr>\n",
       "    <tr>\n",
       "      <th>4894</th>\n",
       "      <td>USB MEMORY</td>\n",
       "      <td>USB MEMORY</td>\n",
       "      <td>1</td>\n",
       "    </tr>\n",
       "    <tr>\n",
       "      <th>4337</th>\n",
       "      <td>WASHINGMACHINES</td>\n",
       "      <td>WASHINGMACHINES</td>\n",
       "      <td>1</td>\n",
       "    </tr>\n",
       "    <tr>\n",
       "      <th>1430</th>\n",
       "      <td>USB MEMORY</td>\n",
       "      <td>USB MEMORY</td>\n",
       "      <td>1</td>\n",
       "    </tr>\n",
       "    <tr>\n",
       "      <th>2234</th>\n",
       "      <td>WASHINGMACHINES</td>\n",
       "      <td>WASHINGMACHINES</td>\n",
       "      <td>1</td>\n",
       "    </tr>\n",
       "    <tr>\n",
       "      <th>3834</th>\n",
       "      <td>WASHINGMACHINES</td>\n",
       "      <td>WASHINGMACHINES</td>\n",
       "      <td>1</td>\n",
       "    </tr>\n",
       "    <tr>\n",
       "      <th>1560</th>\n",
       "      <td>CONTACT LENSES</td>\n",
       "      <td>CONTACT LENSES</td>\n",
       "      <td>1</td>\n",
       "    </tr>\n",
       "    <tr>\n",
       "      <th>4497</th>\n",
       "      <td>WASHINGMACHINES</td>\n",
       "      <td>WASHINGMACHINES</td>\n",
       "      <td>1</td>\n",
       "    </tr>\n",
       "    <tr>\n",
       "      <th>7540</th>\n",
       "      <td>BICYCLES</td>\n",
       "      <td>BICYCLES</td>\n",
       "      <td>1</td>\n",
       "    </tr>\n",
       "    <tr>\n",
       "      <th>1022</th>\n",
       "      <td>WASHINGMACHINES</td>\n",
       "      <td>WASHINGMACHINES</td>\n",
       "      <td>1</td>\n",
       "    </tr>\n",
       "    <tr>\n",
       "      <th>2975</th>\n",
       "      <td>USB MEMORY</td>\n",
       "      <td>USB MEMORY</td>\n",
       "      <td>1</td>\n",
       "    </tr>\n",
       "    <tr>\n",
       "      <th>7972</th>\n",
       "      <td>WASHINGMACHINES</td>\n",
       "      <td>WASHINGMACHINES</td>\n",
       "      <td>1</td>\n",
       "    </tr>\n",
       "    <tr>\n",
       "      <th>5149</th>\n",
       "      <td>WASHINGMACHINES</td>\n",
       "      <td>WASHINGMACHINES</td>\n",
       "      <td>1</td>\n",
       "    </tr>\n",
       "    <tr>\n",
       "      <th>5022</th>\n",
       "      <td>WASHINGMACHINES</td>\n",
       "      <td>WASHINGMACHINES</td>\n",
       "      <td>1</td>\n",
       "    </tr>\n",
       "    <tr>\n",
       "      <th>5547</th>\n",
       "      <td>BICYCLES</td>\n",
       "      <td>BICYCLES</td>\n",
       "      <td>1</td>\n",
       "    </tr>\n",
       "  </tbody>\n",
       "</table>\n",
       "</div>"
      ],
      "text/plain": [
       "            predicted           actual  result\n",
       "5245   CONTACT LENSES  WASHINGMACHINES       0\n",
       "13           BICYCLES  WASHINGMACHINES       0\n",
       "7451   CONTACT LENSES         BICYCLES       0\n",
       "4710   CONTACT LENSES       USB MEMORY       0\n",
       "4841   CONTACT LENSES         BICYCLES       0\n",
       "6616  WASHINGMACHINES  WASHINGMACHINES       1\n",
       "4894       USB MEMORY       USB MEMORY       1\n",
       "4337  WASHINGMACHINES  WASHINGMACHINES       1\n",
       "1430       USB MEMORY       USB MEMORY       1\n",
       "2234  WASHINGMACHINES  WASHINGMACHINES       1\n",
       "3834  WASHINGMACHINES  WASHINGMACHINES       1\n",
       "1560   CONTACT LENSES   CONTACT LENSES       1\n",
       "4497  WASHINGMACHINES  WASHINGMACHINES       1\n",
       "7540         BICYCLES         BICYCLES       1\n",
       "1022  WASHINGMACHINES  WASHINGMACHINES       1\n",
       "2975       USB MEMORY       USB MEMORY       1\n",
       "7972  WASHINGMACHINES  WASHINGMACHINES       1\n",
       "5149  WASHINGMACHINES  WASHINGMACHINES       1\n",
       "5022  WASHINGMACHINES  WASHINGMACHINES       1\n",
       "5547         BICYCLES         BICYCLES       1"
      ]
     },
     "execution_count": 25,
     "metadata": {},
     "output_type": "execute_result"
    }
   ],
   "source": [
    "results = pd.DataFrame(data={'predicted': y_pred, 'actual': y_test})\n",
    "results['result'] = np.where(results['predicted']==results['actual'], 1, 0)\n",
    "results.sort_values(by='result').head(20)"
   ]
  },
  {
   "cell_type": "code",
   "execution_count": null,
   "id": "323dfeb0",
   "metadata": {},
   "outputs": [],
   "source": []
  }
 ],
 "metadata": {
  "kernelspec": {
   "display_name": "Python 3 (ipykernel)",
   "language": "python",
   "name": "python3"
  },
  "language_info": {
   "codemirror_mode": {
    "name": "ipython",
    "version": 3
   },
   "file_extension": ".py",
   "mimetype": "text/x-python",
   "name": "python",
   "nbconvert_exporter": "python",
   "pygments_lexer": "ipython3",
   "version": "3.9.12"
  }
 },
 "nbformat": 4,
 "nbformat_minor": 5
}
