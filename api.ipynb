{
 "cells": [
  {
   "cell_type": "code",
   "execution_count": 1,
   "id": "5510bf80",
   "metadata": {},
   "outputs": [
    {
     "name": "stdout",
     "output_type": "stream",
     "text": [
      "Requirement already satisfied: flask in c:\\users\\umair\\anaconda3\\lib\\site-packages (1.1.2)\n",
      "Requirement already satisfied: itsdangerous>=0.24 in c:\\users\\umair\\anaconda3\\lib\\site-packages (from flask) (2.0.1)\n",
      "Requirement already satisfied: Jinja2>=2.10.1 in c:\\users\\umair\\anaconda3\\lib\\site-packages (from flask) (2.11.3)\n",
      "Requirement already satisfied: click>=5.1 in c:\\users\\umair\\anaconda3\\lib\\site-packages (from flask) (8.0.4)\n",
      "Requirement already satisfied: Werkzeug>=0.15 in c:\\users\\umair\\anaconda3\\lib\\site-packages (from flask) (2.0.3)\n",
      "Requirement already satisfied: colorama in c:\\users\\umair\\anaconda3\\lib\\site-packages (from click>=5.1->flask) (0.4.4)\n",
      "Requirement already satisfied: MarkupSafe>=0.23 in c:\\users\\umair\\anaconda3\\lib\\site-packages (from Jinja2>=2.10.1->flask) (2.0.1)\n"
     ]
    }
   ],
   "source": [
    "!pip install flask"
   ]
  },
  {
   "cell_type": "code",
   "execution_count": 2,
   "id": "3e59a014",
   "metadata": {},
   "outputs": [
    {
     "name": "stdout",
     "output_type": "stream",
     "text": [
      "Requirement already satisfied: flask_restful in c:\\users\\umair\\anaconda3\\lib\\site-packages (0.3.9)\n",
      "Requirement already satisfied: Flask>=0.8 in c:\\users\\umair\\anaconda3\\lib\\site-packages (from flask_restful) (1.1.2)\n",
      "Requirement already satisfied: six>=1.3.0 in c:\\users\\umair\\anaconda3\\lib\\site-packages (from flask_restful) (1.16.0)\n",
      "Requirement already satisfied: pytz in c:\\users\\umair\\anaconda3\\lib\\site-packages (from flask_restful) (2021.3)\n",
      "Requirement already satisfied: aniso8601>=0.82 in c:\\users\\umair\\anaconda3\\lib\\site-packages (from flask_restful) (9.0.1)\n",
      "Requirement already satisfied: Jinja2>=2.10.1 in c:\\users\\umair\\anaconda3\\lib\\site-packages (from Flask>=0.8->flask_restful) (2.11.3)\n",
      "Requirement already satisfied: itsdangerous>=0.24 in c:\\users\\umair\\anaconda3\\lib\\site-packages (from Flask>=0.8->flask_restful) (2.0.1)\n",
      "Requirement already satisfied: Werkzeug>=0.15 in c:\\users\\umair\\anaconda3\\lib\\site-packages (from Flask>=0.8->flask_restful) (2.0.3)\n",
      "Requirement already satisfied: click>=5.1 in c:\\users\\umair\\anaconda3\\lib\\site-packages (from Flask>=0.8->flask_restful) (8.0.4)\n",
      "Requirement already satisfied: colorama in c:\\users\\umair\\anaconda3\\lib\\site-packages (from click>=5.1->Flask>=0.8->flask_restful) (0.4.4)\n",
      "Requirement already satisfied: MarkupSafe>=0.23 in c:\\users\\umair\\anaconda3\\lib\\site-packages (from Jinja2>=2.10.1->Flask>=0.8->flask_restful) (2.0.1)\n"
     ]
    }
   ],
   "source": [
    "!pip install flask_restful"
   ]
  },
  {
   "cell_type": "markdown",
   "id": "89b1bdde",
   "metadata": {},
   "source": [
    "#### HTTP Restful API to return product class"
   ]
  },
  {
   "cell_type": "code",
   "execution_count": null,
   "id": "69f832b9",
   "metadata": {},
   "outputs": [
    {
     "name": "stdout",
     "output_type": "stream",
     "text": [
      " * Serving Flask app \"__main__\" (lazy loading)\n",
      " * Environment: production\n",
      "\u001b[31m   WARNING: This is a development server. Do not use it in a production deployment.\u001b[0m\n",
      "\u001b[2m   Use a production WSGI server instead.\u001b[0m\n",
      " * Debug mode: off\n"
     ]
    },
    {
     "name": "stderr",
     "output_type": "stream",
     "text": [
      " * Running on http://127.0.0.1:5000/ (Press CTRL+C to quit)\n",
      "127.0.0.1 - - [11/Jun/2022 16:18:18] \"POST /category HTTP/1.1\" 200 -\n"
     ]
    }
   ],
   "source": [
    "from flask import Flask, jsonify\n",
    "from flask_restful import Api, Resource, reqparse\n",
    "import pickle\n",
    "import numpy as np\n",
    "import json\n",
    "\n",
    "app = Flask(__name__)\n",
    "api = Api(app)\n",
    "\n",
    "# Create parser for the payload data\n",
    "parser = reqparse.RequestParser()\n",
    "parser.add_argument('data')\n",
    "\n",
    "# Define how the api will respond to the post requests\n",
    "class ProductClassifier(Resource):\n",
    "    def post(self):\n",
    "        args = parser.parse_args()\n",
    "        X = [args['data']]\n",
    "        vector = count_vec.transform(X)\n",
    "        prediction = model.predict(vector)\n",
    "        return jsonify(prediction.tolist())\n",
    "\n",
    "api.add_resource(ProductClassifier, '/category')\n",
    "\n",
    "if __name__ == '__main__':\n",
    "    # Load model\n",
    "    with open('model.classification', 'rb') as f:\n",
    "        count_vec, model = pickle.load(f)\n",
    "\n",
    "    app.run(debug=False)"
   ]
  },
  {
   "cell_type": "code",
   "execution_count": null,
   "id": "f9bad4cd",
   "metadata": {},
   "outputs": [],
   "source": []
  }
 ],
 "metadata": {
  "kernelspec": {
   "display_name": "Python 3 (ipykernel)",
   "language": "python",
   "name": "python3"
  },
  "language_info": {
   "codemirror_mode": {
    "name": "ipython",
    "version": 3
   },
   "file_extension": ".py",
   "mimetype": "text/x-python",
   "name": "python",
   "nbconvert_exporter": "python",
   "pygments_lexer": "ipython3",
   "version": "3.9.12"
  }
 },
 "nbformat": 4,
 "nbformat_minor": 5
}
