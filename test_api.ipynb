{
 "cells": [
  {
   "cell_type": "markdown",
   "id": "6ec563e5",
   "metadata": {},
   "source": [
    "#### Test API Input text string and result product class"
   ]
  },
  {
   "cell_type": "code",
   "execution_count": 2,
   "id": "efb90757",
   "metadata": {},
   "outputs": [
    {
     "name": "stdout",
     "output_type": "stream",
     "text": [
      "['USB MEMORY']\n"
     ]
    }
   ],
   "source": [
    "import numpy as np\n",
    "import requests\n",
    "import json\n",
    "\n",
    "payload = ['SANDISK 32GB ULTRA FIT USB 3.0']\n",
    "y_predict = requests.post('http://127.0.0.1:5000/category', \n",
    "                          data=dict(data=payload)).json()\n",
    "\n",
    "print(y_predict)"
   ]
  },
  {
   "cell_type": "code",
   "execution_count": null,
   "id": "1754ff93",
   "metadata": {},
   "outputs": [],
   "source": []
  }
 ],
 "metadata": {
  "kernelspec": {
   "display_name": "Python 3 (ipykernel)",
   "language": "python",
   "name": "python3"
  },
  "language_info": {
   "codemirror_mode": {
    "name": "ipython",
    "version": 3
   },
   "file_extension": ".py",
   "mimetype": "text/x-python",
   "name": "python",
   "nbconvert_exporter": "python",
   "pygments_lexer": "ipython3",
   "version": "3.9.12"
  }
 },
 "nbformat": 4,
 "nbformat_minor": 5
}
